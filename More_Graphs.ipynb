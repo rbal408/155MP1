{
 "cells": [
  {
   "cell_type": "code",
   "execution_count": 9,
   "metadata": {},
   "outputs": [],
   "source": [
    "import numpy as np\n",
    "from matplotlib import pyplot as plt\n",
    "from numpy import genfromtxt\n",
    "from sklearn.linear_model import Ridge\n",
    "from sklearn.linear_model import Lasso\n",
    "from sklearn.linear_model import LogisticRegression\n",
    "from sklearn.linear_model import LogisticRegressionCV\n",
    "from sklearn.linear_model import LassoLars\n",
    "from sklearn.linear_model import LassoLarsCV\n",
    "from sklearn.linear_model import Lars\n",
    "from sklearn.metrics import accuracy_score\n",
    "from sklearn.feature_selection import SelectPercentile\n",
    "\n",
    "\n",
    "from brew.stacking.stacker import EnsembleStack, EnsembleStackClassifier\n",
    "\n",
    "from sklearn import tree\n",
    "\n",
    "from sklearn.feature_selection import SelectKBest\n",
    "\n",
    "from sklearn.ensemble import RandomForestClassifier\n",
    "\n",
    "from sklearn.model_selection import train_test_split\n",
    "\n",
    "from sklearn.cluster import KMeans\n",
    "\n",
    "from brew.base import Ensemble\n",
    "from brew.base import EnsembleClassifier\n",
    "from brew.combination.combiner import Combiner\n",
    "\n",
    "\n",
    "# from sklearn.model_selection import KFold\n",
    "\n",
    "from sklearn.cross_validation import KFold\n",
    "from sklearn.metrics import mean_squared_error\n",
    "\n",
    "\n",
    "from sklearn import svm, datasets\n",
    "\n",
    "\n",
    "%matplotlib inline"
   ]
  },
  {
   "cell_type": "code",
   "execution_count": 2,
   "metadata": {
    "collapsed": true
   },
   "outputs": [],
   "source": [
    "def load_data(filename, skiprows = 1):\n",
    "    \"\"\"\n",
    "    Function loads data stored in the file filename and returns it as a numpy ndarray.\n",
    "    \n",
    "    Inputs:\n",
    "        filename: given as a string.\n",
    "        \n",
    "    Outputs:\n",
    "        Data contained in the file, returned as a numpy ndarray\n",
    "    \"\"\"\n",
    "    return np.loadtxt(filename, skiprows=skiprows, delimiter=' ')"
   ]
  },
  {
   "cell_type": "code",
   "execution_count": 3,
   "metadata": {
    "collapsed": true
   },
   "outputs": [],
   "source": [
    "training_data = np.array(load_data(\"training_data.txt\", skiprows = 1))\n",
    "\n",
    "y_train = training_data[:, 0]\n",
    "X_train = training_data[:, 1:]\n",
    "\n",
    "X_tr, X_tst, y_tr, y_tst = train_test_split(X_train, y_train, random_state=0, test_size=.25)"
   ]
  },
  {
   "cell_type": "code",
   "execution_count": 10,
   "metadata": {},
   "outputs": [
    {
     "data": {
      "text/plain": [
       "Lars(copy_X=True, eps=2.220446049250313e-16, fit_intercept=True,\n",
       "   fit_path=True, n_nonzero_coefs=500, normalize=True, positive=False,\n",
       "   precompute='auto', verbose=False)"
      ]
     },
     "execution_count": 10,
     "metadata": {},
     "output_type": "execute_result"
    }
   ],
   "source": [
    "L = Lars(fit_intercept=True, verbose=False)\n",
    "\n",
    "L.fit(X_train, y_train)"
   ]
  },
  {
   "cell_type": "code",
   "execution_count": 11,
   "metadata": {
    "collapsed": true
   },
   "outputs": [],
   "source": [
    "X_tr, X_tst, y_tr, y_tst = train_test_split(X_train, y_train, random_state=0, test_size=.25)\n",
    "training_errors = []\n",
    "\n",
    "test_errors = []\n",
    "\n",
    "for i in range(10,110,10):\n",
    "    \n",
    "    \n",
    "\n",
    "    \n",
    "    \n",
    "    \n",
    "\n",
    "    select = SelectPercentile(percentile=i)\n",
    "    select.fit(X_tr, y_tr)\n",
    "    X_train_selected = select.transform(X_tr)\n",
    "    L.fit(X_train_selected, y_tr)\n",
    "    \n",
    "    \n",
    "    y_pred = np.sign(L.predict(X_train_selected))\n",
    "    binarytrain_error = (y_pred!=y_tr).sum()\n",
    "    training_errors.append(binarytrain_error/15000)\n",
    "    \n",
    "    X_test_selected = select.transform(X_tst)\n",
    "\n",
    "    y_test_prediction = np.sign(L.predict(X_test_selected))\n",
    "    binarytest_error = (y_test_prediction!=y_tst).sum()\n",
    "\n",
    "\n",
    "    \n",
    "    test_errors.append(binarytest_error/5000)"
   ]
  },
  {
   "cell_type": "code",
   "execution_count": 12,
   "metadata": {},
   "outputs": [
    {
     "data": {
      "image/png": "[encoded data removed]",
      "text/plain": [
       "<matplotlib.figure.Figure at 0x1a281a8630>"
      ]
     },
     "metadata": {},
     "output_type": "display_data"
    },
    {
     "name": "stdout",
     "output_type": "stream",
     "text": [
      "Test error minimized at selected K-percentile training data value of = 70\n"
     ]
    }
   ],
   "source": [
    "percentile_range = [i for i in range(10,110,10)]\n",
    "plt.figure()\n",
    "plt.plot(percentile_range, test_errors, label='Testing error')\n",
    "plt.plot(percentile_range, training_errors, label='Training error')\n",
    "plt.xlabel('Selected K-Percentile Training Data')\n",
    "plt.ylabel('Classification error')\n",
    "plt.title('Lars Regression with different Selected K-Percentile Training Data')\n",
    "plt.legend(loc=0, shadow=True, fontsize='x-large')\n",
    "plt.show()\n",
    "\n",
    "val, idx = min((val, idx) for (idx, val) in enumerate(test_errors))\n",
    "print('Test error minimized at selected K-percentile training data value of = %d'%(percentile_range[idx]))"
   ]
  },
  {
   "cell_type": "code",
   "execution_count": 13,
   "metadata": {
    "collapsed": true
   },
   "outputs": [],
   "source": [
    "X_tr, X_tst, y_tr, y_tst = train_test_split(X_train, y_train, random_state=0, test_size=.25)\n",
    "L = Lasso(alpha=1.0)\n",
    "training_errors = []\n",
    "\n",
    "test_errors = []\n",
    "\n",
    "for i in range(10,110,10):\n",
    "\n",
    "\n",
    "    select = SelectPercentile(percentile=i)\n",
    "    select.fit(X_tr, y_tr)\n",
    "    X_train_selected = select.transform(X_tr)\n",
    "    L.fit(X_train_selected, y_tr)\n",
    "    \n",
    "    \n",
    "    y_pred = np.sign(L.predict(X_train_selected))\n",
    "    binarytrain_error = (y_pred!=y_tr).sum()\n",
    "    training_errors.append(binarytrain_error/15000)\n",
    "    \n",
    "    X_test_selected = select.transform(X_tst)\n",
    "\n",
    "    y_test_prediction = np.sign(L.predict(X_test_selected))\n",
    "    binarytest_error = (y_test_prediction!=y_tst).sum()\n",
    "\n",
    "\n",
    "    \n",
    "    test_errors.append(binarytest_error/5000)"
   ]
  },
  {
   "cell_type": "code",
   "execution_count": 14,
   "metadata": {},
   "outputs": [
    {
     "data": {
      "image/png": "[encoded data removed]",
      "text/plain": [
       "<matplotlib.figure.Figure at 0x1a286aea58>"
      ]
     },
     "metadata": {},
     "output_type": "display_data"
    },
    {
     "name": "stdout",
     "output_type": "stream",
     "text": [
      "Test error minimized at selected K-percentile training data value of = 10\n"
     ]
    }
   ],
   "source": [
    "percentile_range = [i for i in range(10,110,10)]\n",
    "plt.figure()\n",
    "plt.plot(percentile_range, test_errors, label='Testing error')\n",
    "plt.plot(percentile_range, training_errors, label='Training error')\n",
    "plt.xlabel('Selected K-Percentile Training Data')\n",
    "plt.ylabel('Classification error')\n",
    "plt.title('Lasso Regression with different Selected K-Percentile Training Data')\n",
    "plt.legend(loc=0, shadow=True, fontsize='x-large')\n",
    "plt.show()\n",
    "\n",
    "val, idx = min((val, idx) for (idx, val) in enumerate(test_errors))\n",
    "print('Test error minimized at selected K-percentile training data value of = %d'%(percentile_range[idx]))"
   ]
  },
  {
   "cell_type": "code",
   "execution_count": null,
   "metadata": {
    "collapsed": true
   },
   "outputs": [],
   "source": []
  }
 ],
 "metadata": {
  "kernelspec": {
   "display_name": "Python 3",
   "language": "python",
   "name": "python3"
  },
  "language_info": {
   "codemirror_mode": {
    "name": "ipython",
    "version": 3
   },
   "file_extension": ".py",
   "mimetype": "text/x-python",
   "name": "python",
   "nbconvert_exporter": "python",
   "pygments_lexer": "ipython3",
   "version": "3.6.3"
  }
 },
 "nbformat": 4,
 "nbformat_minor": 2
}
