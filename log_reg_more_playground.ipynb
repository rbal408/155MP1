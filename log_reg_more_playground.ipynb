{
 "cells": [
  {
   "cell_type": "code",
   "execution_count": 33,
   "metadata": {},
   "outputs": [],
   "source": [
    "import numpy as np\n",
    "from matplotlib import pyplot as plt\n",
    "from numpy import genfromtxt\n",
    "from sklearn.linear_model import Ridge\n",
    "from sklearn.linear_model import Lasso\n",
    "from sklearn.linear_model import LogisticRegression\n",
    "from sklearn.linear_model import LogisticRegressionCV\n",
    "from sklearn.linear_model import LassoLars\n",
    "from sklearn.linear_model import LassoLarsCV\n",
    "from sklearn.linear_model import Lars\n",
    "from sklearn.metrics import accuracy_score\n",
    "from sklearn.feature_selection import SelectPercentile\n",
    "from sklearn.neural_network import MLPClassifier\n",
    "\n",
    "from sklearn.feature_selection import SelectKBest\n",
    "\n",
    "from sklearn.ensemble import RandomForestClassifier\n",
    "\n",
    "from sklearn.model_selection import train_test_split\n",
    "\n",
    "from sklearn.cluster import KMeans\n",
    "\n",
    "from brew.base import Ensemble\n",
    "from brew.base import EnsembleClassifier\n",
    "from brew.combination.combiner import Combiner\n",
    "\n",
    "\n",
    "# from sklearn.model_selection import KFold\n",
    "\n",
    "from sklearn.cross_validation import KFold\n",
    "from sklearn.metrics import mean_squared_error\n",
    "\n",
    "\n",
    "from sklearn import svm, datasets\n",
    "\n",
    "\n",
    "%matplotlib inline"
   ]
  },
  {
   "cell_type": "code",
   "execution_count": 4,
   "metadata": {
    "collapsed": true
   },
   "outputs": [],
   "source": [
    "def load_data(filename, skiprows = 1):\n",
    "    \"\"\"\n",
    "    Function loads data stored in the file filename and returns it as a numpy ndarray.\n",
    "    \n",
    "    Inputs:\n",
    "        filename: given as a string.\n",
    "        \n",
    "    Outputs:\n",
    "        Data contained in the file, returned as a numpy ndarray\n",
    "    \"\"\"\n",
    "    return np.loadtxt(filename, skiprows=skiprows, delimiter=' ')"
   ]
  },
  {
   "cell_type": "code",
   "execution_count": 5,
   "metadata": {
    "collapsed": true
   },
   "outputs": [],
   "source": [
    "training_data = np.array(load_data(\"training_data.txt\", skiprows = 1))\n",
    "\n",
    "y_train = training_data[:, 0]\n",
    "X_train = training_data[:, 1:]"
   ]
  },
  {
   "cell_type": "code",
   "execution_count": 31,
   "metadata": {},
   "outputs": [],
   "source": [
    "X_tr, X_tst, y_tr, y_tst = train_test_split(X_train, y_train, random_state=0, test_size=.25)\n",
    "\n",
    "fold = KFold(len(y_tr), n_folds=6, shuffle=True, random_state=777)\n",
    "log_reg_CV = LogisticRegressionCV(\n",
    "            Cs=list(np.power(10.0, np.arange(-10, 10)))\n",
    "            ,penalty='l2'\n",
    "            ,scoring='f1'\n",
    "            ,cv=fold\n",
    "            ,random_state=777\n",
    "            ,max_iter=15000\n",
    "            ,fit_intercept=True\n",
    "            ,solver='newton-cg'\n",
    "            ,tol=10\n",
    "        )\n",
    "    \n",
    "\n",
    "select = SelectPercentile(percentile=80)\n",
    "select.fit(X_tr, y_tr)\n",
    "X_train_selected = select.transform(X_tr)\n",
    "log_reg_CV.fit(X_train_selected, y_tr)\n",
    "\n",
    "\n",
    "y_pred = np.sign(log_reg_CV.predict(X_train_selected))\n",
    "binarytrain_error = (y_pred!=y_tr).sum()\n",
    "binary_train_error = binarytrain_error/15000\n",
    "\n",
    "X_test_selected = select.transform(X_tst)\n",
    "\n",
    "y_test_prediction = np.sign(log_reg_CV.predict(X_test_selected))\n",
    "binarytest_error = (y_test_prediction!=y_tst).sum()\n",
    "\n",
    "binarytest_error = binarytest_error/5000"
   ]
  },
  {
   "cell_type": "code",
   "execution_count": 32,
   "metadata": {},
   "outputs": [
    {
     "name": "stdout",
     "output_type": "stream",
     "text": [
      "1892 0.1504\n"
     ]
    }
   ],
   "source": [
    "print(binarytrain_error, binarytest_error)"
   ]
  },
  {
   "cell_type": "code",
   "execution_count": 34,
   "metadata": {},
   "outputs": [
    {
     "data": {
      "text/plain": [
       "MLPClassifier(activation='relu', alpha=1e-05, batch_size='auto', beta_1=0.9,\n",
       "       beta_2=0.999, early_stopping=False, epsilon=1e-08,\n",
       "       hidden_layer_sizes=(5, 2), learning_rate='constant',\n",
       "       learning_rate_init=0.001, max_iter=200, momentum=0.9,\n",
       "       nesterovs_momentum=True, power_t=0.5, random_state=1, shuffle=True,\n",
       "       solver='lbfgs', tol=0.0001, validation_fraction=0.1, verbose=False,\n",
       "       warm_start=False)"
      ]
     },
     "execution_count": 34,
     "metadata": {},
     "output_type": "execute_result"
    }
   ],
   "source": [
    "clf = MLPClassifier(solver='lbfgs', alpha=1e-5, hidden_layer_sizes=(5, 2), random_state=1)\n",
    "\n",
    "clf.fit(X_train_selected, y_tr)"
   ]
  },
  {
   "cell_type": "code",
   "execution_count": 35,
   "metadata": {},
   "outputs": [
    {
     "data": {
      "text/plain": [
       "0.185"
      ]
     },
     "execution_count": 35,
     "metadata": {},
     "output_type": "execute_result"
    }
   ],
   "source": [
    "y_pred = np.sign(clf.predict(X_train_selected))\n",
    "binarytrain_error = (y_pred!=y_tr).sum()\n",
    "binarytrain_error/15000\n",
    "\n",
    "X_test_selected = select.transform(X_tst)\n",
    "\n",
    "y_test_prediction = np.sign(clf.predict(X_test_selected))\n",
    "binarytest_error = (y_test_prediction!=y_tst).sum()\n",
    "\n",
    "\n",
    "\n",
    "binarytest_error/5000"
   ]
  },
  {
   "cell_type": "code",
   "execution_count": 36,
   "metadata": {},
   "outputs": [
    {
     "name": "stdout",
     "output_type": "stream",
     "text": [
      "0.04633333333333333\n"
     ]
    }
   ],
   "source": [
    "print(binarytrain_error/15000)"
   ]
  },
  {
   "cell_type": "code",
   "execution_count": 38,
   "metadata": {},
   "outputs": [
    {
     "name": "stdout",
     "output_type": "stream",
     "text": [
      "0.185\n"
     ]
    }
   ],
   "source": [
    "print(binarytest_error/5000)"
   ]
  },
  {
   "cell_type": "code",
   "execution_count": null,
   "metadata": {
    "collapsed": true
   },
   "outputs": [],
   "source": []
  }
 ],
 "metadata": {
  "kernelspec": {
   "display_name": "Python 3",
   "language": "python",
   "name": "python3"
  },
  "language_info": {
   "codemirror_mode": {
    "name": "ipython",
    "version": 3
   },
   "file_extension": ".py",
   "mimetype": "text/x-python",
   "name": "python",
   "nbconvert_exporter": "python",
   "pygments_lexer": "ipython3",
   "version": "3.6.3"
  }
 },
 "nbformat": 4,
 "nbformat_minor": 2
}
