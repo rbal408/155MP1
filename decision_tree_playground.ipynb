{
 "cells": [
  {
   "cell_type": "code",
   "execution_count": 1,
   "metadata": {},
   "outputs": [
    {
     "name": "stderr",
     "output_type": "stream",
     "text": [
      "/Users/roshanbal/anaconda3/lib/python3.6/site-packages/sklearn/cross_validation.py:41: DeprecationWarning: This module was deprecated in version 0.18 in favor of the model_selection module into which all the refactored classes and functions are moved. Also note that the interface of the new CV iterators are different from that of this module. This module will be removed in 0.20.\n",
      "  \"This module will be removed in 0.20.\", DeprecationWarning)\n"
     ]
    }
   ],
   "source": [
    "import numpy as np\n",
    "from matplotlib import pyplot as plt\n",
    "from numpy import genfromtxt\n",
    "from sklearn.linear_model import Ridge\n",
    "from sklearn.linear_model import Lasso\n",
    "from sklearn.linear_model import LogisticRegression\n",
    "from sklearn.linear_model import LogisticRegressionCV\n",
    "from sklearn.linear_model import LassoLars\n",
    "from sklearn.linear_model import LassoLarsCV\n",
    "from sklearn.linear_model import Lars\n",
    "from sklearn.metrics import accuracy_score\n",
    "from sklearn.feature_selection import SelectPercentile\n",
    "\n",
    "\n",
    "from brew.stacking.stacker import EnsembleStack, EnsembleStackClassifier\n",
    "\n",
    "from sklearn import tree\n",
    "\n",
    "from sklearn.feature_selection import SelectKBest\n",
    "\n",
    "from sklearn.ensemble import RandomForestClassifier\n",
    "\n",
    "from sklearn.model_selection import train_test_split\n",
    "\n",
    "from sklearn.cluster import KMeans\n",
    "\n",
    "from brew.base import Ensemble\n",
    "from brew.base import EnsembleClassifier\n",
    "from brew.combination.combiner import Combiner\n",
    "\n",
    "\n",
    "# from sklearn.model_selection import KFold\n",
    "\n",
    "from sklearn.cross_validation import KFold\n",
    "from sklearn.metrics import mean_squared_error\n",
    "\n",
    "\n",
    "from sklearn import svm, datasets\n",
    "\n",
    "\n",
    "%matplotlib inline"
   ]
  },
  {
   "cell_type": "code",
   "execution_count": 4,
   "metadata": {
    "collapsed": true
   },
   "outputs": [],
   "source": [
    "def load_data(filename, skiprows = 1):\n",
    "    \"\"\"\n",
    "    Function loads data stored in the file filename and returns it as a numpy ndarray.\n",
    "    \n",
    "    Inputs:\n",
    "        filename: given as a string.\n",
    "        \n",
    "    Outputs:\n",
    "        Data contained in the file, returned as a numpy ndarray\n",
    "    \"\"\"\n",
    "    return np.loadtxt(filename, skiprows=skiprows, delimiter=' ')"
   ]
  },
  {
   "cell_type": "code",
   "execution_count": 2,
   "metadata": {
    "collapsed": true
   },
   "outputs": [],
   "source": [
    "def eval_tree_based_model_max_depth(clf, max_depth, X_train, y_train, X_test):\n",
    "    \"\"\"\n",
    "    This function evaluates the given classifier (either a decision tree or random forest) at all of the \n",
    "    maximum tree depth parameters in the vector max_depth, using the given training and testing\n",
    "    data. It returns two vector, with the training and testing classification errors.\n",
    "    \n",
    "    Inputs:\n",
    "        clf: either a decision tree or random forest classifier object\n",
    "        max_depth: a (T, ) vector of all the max_depth stopping condition parameters \n",
    "                            to test, where T is the number of parameters to test\n",
    "        X_train: (N, D) matrix of training samples.\n",
    "        y_train: (N, ) vector of training labels.\n",
    "        X_test: (N, D) matrix of test samples\n",
    "        y_test: (N, ) vector of test labels\n",
    "    Output:\n",
    "        train_err: (T, ) vector of classification errors on the training data\n",
    "        test_err: (T, ) vector of classification errors on the test data\n",
    "    \"\"\"\n",
    "    train_err = []\n",
    "    test_err = []\n",
    "    \n",
    "    for max_d in max_depth:\n",
    "        clf.max_depth = max_d\n",
    "        \n",
    "        clf.fit(X_train, y_train)\n",
    "        \n",
    "        #y_test = clf.predict()\n",
    "        \n",
    "        training_predictions = clf.predict(X_train)\n",
    "        test_predictions = clf.predict(X_test)\n",
    "        \n",
    "        train_err.append(1 - accuracy_score(y_train, training_predictions))\n",
    "        #test_err.append(1- accuracy_score(y_test, test_predictions))\n",
    "        \n",
    "        \n",
    "    \n",
    "    return train_err"
   ]
  },
  {
   "cell_type": "code",
   "execution_count": 5,
   "metadata": {
    "collapsed": true
   },
   "outputs": [],
   "source": [
    "training_data = np.array(load_data(\"training_data.txt\", skiprows = 1))\n",
    "\n",
    "y_train = training_data[:, 0]\n",
    "X_train = training_data[:, 1:]"
   ]
  },
  {
   "cell_type": "code",
   "execution_count": 60,
   "metadata": {
    "collapsed": true
   },
   "outputs": [],
   "source": [
    "X_tr, X_tst, y_tr, y_tst = train_test_split(X_train, y_train, random_state=0, test_size=.25)\n",
    "\n",
    "n_estimators = 1000\n",
    "\n",
    "clf = RandomForestClassifier(n_estimators = n_estimators, criterion = 'gini')\n",
    "\n",
    "clf.max_depth = 20\n",
    "\n",
    "\n",
    "select = SelectPercentile(percentile=80)\n",
    "select.fit(X_tr, y_tr)\n",
    "X_train_selected = select.transform(X_tr)\n",
    "\n",
    "\n",
    "clf.fit(X_train_selected, y_tr)\n",
    "\n",
    "\n",
    "training_predictions = clf.predict(X_train_selected)\n",
    "training_error = 1 - accuracy_score(y_tr, training_predictions)"
   ]
  },
  {
   "cell_type": "code",
   "execution_count": 61,
   "metadata": {},
   "outputs": [
    {
     "name": "stdout",
     "output_type": "stream",
     "text": [
      "0.09953333333333336\n"
     ]
    }
   ],
   "source": [
    "print(training_error)"
   ]
  },
  {
   "cell_type": "code",
   "execution_count": 62,
   "metadata": {
    "collapsed": true
   },
   "outputs": [],
   "source": [
    "X_test_selected = select.transform(X_tst)\n",
    "test_predictions = clf.predict(X_test_selected)\n",
    "test_error = 1 - accuracy_score(y_tst, test_predictions)"
   ]
  },
  {
   "cell_type": "code",
   "execution_count": 63,
   "metadata": {},
   "outputs": [
    {
     "name": "stdout",
     "output_type": "stream",
     "text": [
      "0.18779999999999997\n"
     ]
    }
   ],
   "source": [
    "print(test_error)"
   ]
  },
  {
   "cell_type": "code",
   "execution_count": 52,
   "metadata": {},
   "outputs": [
    {
     "data": {
      "text/plain": [
       "0.278"
      ]
     },
     "execution_count": 52,
     "metadata": {},
     "output_type": "execute_result"
    }
   ],
   "source": [
    "max_depth = np.arange(2, 21)\n",
    "\n",
    "clf = tree.DecisionTreeClassifier(criterion='gini')\n",
    "\n",
    "select = SelectPercentile(percentile=40)\n",
    "select.fit(X_tr, y_tr)\n",
    "X_train_selected = select.transform(X_tr)\n",
    "\n",
    "\n",
    "clf.fit(X_train_selected, y_tr)\n",
    "\n",
    "  \n",
    "y_pred = np.sign(clf.predict(X_train_selected))\n",
    "binarytrain_error = (y_pred!=y_tr).sum()\n",
    "binarytrain_error/15000\n",
    "\n",
    "X_test_selected = select.transform(X_tst)\n",
    "\n",
    "y_test_prediction = np.sign(clf.predict(X_test_selected))\n",
    "binarytest_error = (y_test_prediction!=y_tst).sum()\n",
    "\n",
    "\n",
    "\n",
    "binarytest_error/5000"
   ]
  },
  {
   "cell_type": "code",
   "execution_count": 53,
   "metadata": {},
   "outputs": [
    {
     "name": "stdout",
     "output_type": "stream",
     "text": [
      "0.278\n"
     ]
    }
   ],
   "source": [
    "print(binarytest_error/5000)"
   ]
  },
  {
   "cell_type": "code",
   "execution_count": 54,
   "metadata": {},
   "outputs": [
    {
     "name": "stdout",
     "output_type": "stream",
     "text": [
      "0.00013333333333333334\n"
     ]
    }
   ],
   "source": [
    "print(binarytrain_error/15000)"
   ]
  },
  {
   "cell_type": "code",
   "execution_count": 64,
   "metadata": {
    "collapsed": true
   },
   "outputs": [],
   "source": [
    "def classification_err(y, real_y):\n",
    "    \"\"\"\n",
    "    This function returns the classification error between two equally-sized vectors of \n",
    "    labels; this is the fraction of samples for which the labels differ.\n",
    "    \n",
    "    Inputs:\n",
    "        y: (N, ) shaped array of predicted labels\n",
    "        real_y: (N, ) shaped array of true labels\n",
    "    Output:\n",
    "        Scalar classification error\n",
    "    \"\"\"\n",
    "    return sk.accuracy_score(real_y, y)\n",
    "\n",
    "def eval_tree_based_model_min_samples(clf, min_samples_leaf, X_train, y_train, X_test, y_test):\n",
    "    \"\"\"\n",
    "    This function evaluates the given classifier (either a decision tree or random forest) at all of the \n",
    "    minimum leaf size parameters in the vector min_samples_leaf, using the given training and testing\n",
    "    data. It returns two vector, with the training and testing classification errors.\n",
    "    \n",
    "    Inputs:\n",
    "        clf: either a decision tree or random forest classifier object\n",
    "        min_samples_leaf: a (T, ) vector of all the min_samples_leaf stopping condition parameters \n",
    "                            to test, where T is the number of parameters to test\n",
    "        X_train: (N, D) matrix of training samples.\n",
    "        y_train: (N, ) vector of training labels.\n",
    "        X_test: (N, D) matrix of test samples\n",
    "        y_test: (N, ) vector of test labels\n",
    "    Output:\n",
    "        train_err: (T, ) vector of classification errors on the training data\n",
    "        test_err: (T, ) vector of classification errors on the test data\n",
    "    \"\"\"\n",
    "    train_err = []\n",
    "    test_err = []\n",
    "    \n",
    "    for min_leaf in min_samples_leaf:\n",
    "        clf.min_samples_leaf = min_leaf\n",
    "        \n",
    "        clf.fit(X_train, y_train)\n",
    "        \n",
    "        \n",
    "        \n",
    "        training_predictions = clf.predict(X_train)\n",
    "        test_predictions = clf.predict(X_test)\n",
    "        \n",
    "        train_err.append(1 - accuracy_score(y_train, training_predictions))\n",
    "        test_err.append(1- accuracy_score(y_test, test_predictions))\n",
    "        \n",
    "        \n",
    "    \n",
    "    return train_err, test_err"
   ]
  },
  {
   "cell_type": "code",
   "execution_count": 67,
   "metadata": {},
   "outputs": [
    {
     "data": {
      "text/plain": [
       "([0.00019999999999997797,\n",
       "  0.054400000000000004,\n",
       "  0.09199999999999997,\n",
       "  0.12146666666666661,\n",
       "  0.1368666666666667],\n",
       " [0.2782, 0.2692, 0.266, 0.26739999999999997, 0.26060000000000005])"
      ]
     },
     "execution_count": 67,
     "metadata": {},
     "output_type": "execute_result"
    }
   ],
   "source": [
    "clf = tree.DecisionTreeClassifier(criterion='gini')\n",
    "\n",
    "select = SelectPercentile(percentile=60)\n",
    "select.fit(X_tr, y_tr)\n",
    "X_train_selected = select.transform(X_tr)\n",
    "\n",
    "min_samples_leaf = [1,2,3,4,5]\n",
    "\n",
    "\n",
    "X_test_selected = select.transform(X_tst)\n",
    "\n",
    "eval_tree_based_model_min_samples(clf, min_samples_leaf, X_train_selected, y_tr, X_test_selected, y_tst)"
   ]
  },
  {
   "cell_type": "code",
   "execution_count": 94,
   "metadata": {
    "collapsed": true
   },
   "outputs": [],
   "source": [
    "clf = tree.DecisionTreeClassifier(criterion='gini')\n",
    "\n",
    "select = SelectPercentile(percentile=20)\n",
    "select.fit(X_tr, y_tr)\n",
    "X_train_selected = select.transform(X_tr)\n",
    "\n",
    "min_samples_leaf = [20,21,22,23,24,25]\n",
    "\n",
    "\n",
    "X_test_selected = select.transform(X_tst)\n",
    "\n",
    "tr_e, tst_e = eval_tree_based_model_min_samples(clf, min_samples_leaf, X_train_selected, y_tr, X_test_selected, y_tst)\n",
    "\n"
   ]
  },
  {
   "cell_type": "code",
   "execution_count": 95,
   "metadata": {},
   "outputs": [
    {
     "name": "stdout",
     "output_type": "stream",
     "text": [
      "0.23099999999999998\n"
     ]
    }
   ],
   "source": [
    "print(min(tst_e))"
   ]
  },
  {
   "cell_type": "code",
   "execution_count": 120,
   "metadata": {
    "collapsed": true
   },
   "outputs": [],
   "source": [
    "n_estimators = 1000\n",
    "clf = RandomForestClassifier(n_estimators = n_estimators, criterion = 'gini')\n",
    "select = SelectPercentile(percentile=80)\n",
    "select.fit(X_tr, y_tr)\n",
    "X_train_selected = select.transform(X_tr)\n",
    "min_samples_leaf = [1]\n",
    "X_test_selected = select.transform(X_tst)\n",
    "train_err, test_err = eval_tree_based_model_min_samples(clf, min_samples_leaf, X_train_selected, \n",
    "                                                        y_tr, X_test_selected, y_tst)"
   ]
  },
  {
   "cell_type": "code",
   "execution_count": 119,
   "metadata": {},
   "outputs": [
    {
     "name": "stdout",
     "output_type": "stream",
     "text": [
      "0.16859999999999997 0\n",
      "[6.666666666665932e-05, 0.02726666666666666, 0.05800000000000005, 0.08153333333333335, 0.09806666666666664, 0.11099999999999999, 0.1196666666666667, 0.12673333333333336, 0.13293333333333335, 0.1358666666666667, 0.14213333333333333, 0.1448666666666667, 0.14833333333333332, 0.1515333333333333, 0.15326666666666666, 0.1565333333333333, 0.1570666666666667, 0.1594, 0.1608666666666667, 0.16213333333333335, 0.1630666666666667, 0.1654, 0.1670666666666667, 0.16913333333333336, 0.16986666666666672]\n",
      "[0.16859999999999997, 0.17220000000000002, 0.17359999999999998, 0.17520000000000002, 0.17659999999999998, 0.17859999999999998, 0.18020000000000003, 0.1814, 0.18279999999999996, 0.18500000000000005, 0.18279999999999996, 0.18479999999999996, 0.18400000000000005, 0.1854, 0.1844, 0.18779999999999997, 0.1874, 0.1884, 0.18820000000000003, 0.1884, 0.18720000000000003, 0.18879999999999997, 0.18779999999999997, 0.19179999999999997, 0.1884]\n"
     ]
    }
   ],
   "source": [
    "val, idx = min((val, idx) for (idx, val) in enumerate(test_err))\n",
    "\n",
    "print(val,idx)\n",
    "print(train_err)\n",
    "print(test_err)"
   ]
  },
  {
   "cell_type": "code",
   "execution_count": 111,
   "metadata": {
    "collapsed": true
   },
   "outputs": [],
   "source": [
    "decision_tree_training_errors = []\n",
    "\n",
    "decision_tree_test_errors = []\n",
    "\n",
    "\n",
    "for i in range(10,110,10):\n",
    "    clf = tree.DecisionTreeClassifier(criterion='gini')\n",
    "    select = SelectPercentile(percentile=i)\n",
    "\n",
    "    select.fit(X_tr, y_tr)\n",
    "    X_train_selected = select.transform(X_tr)\n",
    "\n",
    "    X_test_selected = select.transform(X_tst)\n",
    "\n",
    "\n",
    "    min_samples_leaf = [18]\n",
    "\n",
    "    train_err, test_err = eval_tree_based_model_min_samples(clf, min_samples_leaf, X_train_selected, \n",
    "                                                            y_tr, X_test_selected, y_tst)\n",
    "    decision_tree_training_errors.append(train_err)\n",
    "    decision_tree_test_errors.append(test_err)\n"
   ]
  },
  {
   "cell_type": "code",
   "execution_count": 112,
   "metadata": {},
   "outputs": [
    {
     "name": "stdout",
     "output_type": "stream",
     "text": [
      "[[0.2158], [0.20806666666666662], [0.2064666666666667], [0.20506666666666662], [0.2029333333333333], [0.20246666666666668], [0.20240000000000002], [0.2019333333333333], [0.20146666666666668], [0.2009333333333333]]\n",
      "[[0.23660000000000003], [0.235], [0.23740000000000006], [0.24019999999999997], [0.24460000000000004], [0.24660000000000004], [0.24660000000000004], [0.24539999999999995], [0.24580000000000002], [0.24460000000000004]]\n"
     ]
    }
   ],
   "source": [
    "print(min(test_err))\n",
    "\n",
    "val, idx = min((val, idx) for (idx, val) in enumerate(my_list))"
   ]
  },
  {
   "cell_type": "code",
   "execution_count": 108,
   "metadata": {},
   "outputs": [
    {
     "name": "stdout",
     "output_type": "stream",
     "text": [
      "0.2338 18\n"
     ]
    }
   ],
   "source": [
    "# clf right now is the best Random Forest classifier"
   ]
  },
  {
   "cell_type": "code",
   "execution_count": null,
   "metadata": {
    "collapsed": true
   },
   "outputs": [],
   "source": [
    "X = [[0., 0.], [1., 1.]]\n",
    "y = [0, 1]\n",
    "clf = MLPClassifier(solver='lbfgs', alpha=1e-5,\n",
    "...                     hidden_layer_sizes=(5, 2), random_state=1)"
   ]
  },
  {
   "cell_type": "code",
   "execution_count": 3,
   "metadata": {},
   "outputs": [],
   "source": [
    "random_forest_training_errors = [6.666666666665932e-05, 0.02726666666666666, 0.05800000000000005, 0.08153333333333335, 0.09806666666666664, 0.11099999999999999, 0.1196666666666667, 0.12673333333333336, 0.13293333333333335, 0.1358666666666667, 0.14213333333333333, 0.1448666666666667, 0.14833333333333332, 0.1515333333333333, 0.15326666666666666, 0.1565333333333333, 0.1570666666666667, 0.1594, 0.1608666666666667, 0.16213333333333335, 0.1630666666666667, 0.1654, 0.1670666666666667, 0.16913333333333336, 0.16986666666666672]\n",
    "random_forest_test_errors = [0.16859999999999997, 0.17220000000000002, 0.17359999999999998, 0.17520000000000002, 0.17659999999999998, 0.17859999999999998, 0.18020000000000003, 0.1814, 0.18279999999999996, 0.18500000000000005, 0.18279999999999996, 0.18479999999999996, 0.18400000000000005, 0.1854, 0.1844, 0.18779999999999997, 0.1874, 0.1884, 0.18820000000000003, 0.1884, 0.18720000000000003, 0.18879999999999997, 0.18779999999999997, 0.19179999999999997, 0.1884]"
   ]
  },
  {
   "cell_type": "code",
   "execution_count": 7,
   "metadata": {},
   "outputs": [
    {
     "data": {
      "image/png": "[encoded data removed]",
      "text/plain": [
       "<matplotlib.figure.Figure at 0x1a16fbd4a8>"
      ]
     },
     "metadata": {},
     "output_type": "display_data"
    },
    {
     "name": "stdout",
     "output_type": "stream",
     "text": [
      "Test error minimized at selected minimum node size = 1\n"
     ]
    }
   ],
   "source": [
    "percentile_range = [i for i in range(1,26)]\n",
    "plt.figure()\n",
    "plt.plot(percentile_range, random_forest_test_errors, label='Testing error')\n",
    "plt.plot(percentile_range, random_forest_training_errors, label='Training error')\n",
    "plt.xlabel('Minimum Node Size')\n",
    "plt.ylabel('Classification error')\n",
    "plt.title('Random Forest with different Minimum Leaf Stopping Criteria')\n",
    "plt.legend(loc=0, shadow=True, fontsize='x-large')\n",
    "plt.show()\n",
    "\n",
    "val, idx = min((val, idx) for (idx, val) in enumerate(random_forest_test_errors))\n",
    "print('Test error minimized at selected minimum node size = %d'%(percentile_range[idx]))"
   ]
  },
  {
   "cell_type": "code",
   "execution_count": 9,
   "metadata": {
    "collapsed": true
   },
   "outputs": [],
   "source": [
    "decision_tree_training_error = [0.2158, 0.20806666666666662, 0.2064666666666667, 0.20506666666666662, 0.2029333333333333, 0.20246666666666668, 0.20240000000000002, 0.2019333333333333, 0.20146666666666668, 0.2009333333333333]\n",
    "decision_tree_test_error = [0.23660000000000003, 0.235, 0.23740000000000006, 0.24019999999999997, 0.24460000000000004, 0.24660000000000004, 0.24660000000000004, 0.24539999999999995, 0.24580000000000002, 0.24460000000000004]"
   ]
  },
  {
   "cell_type": "code",
   "execution_count": 11,
   "metadata": {},
   "outputs": [
    {
     "data": {
      "image/png": "[encoded data removed]",
      "text/plain": [
       "<matplotlib.figure.Figure at 0x1a170e2b38>"
      ]
     },
     "metadata": {},
     "output_type": "display_data"
    },
    {
     "name": "stdout",
     "output_type": "stream",
     "text": [
      "Test error minimized at selected K-percentile training data value of = 20\n"
     ]
    }
   ],
   "source": [
    "percentile_range = [i for i in range(10,110,10)]\n",
    "plt.figure()\n",
    "plt.plot(percentile_range, decision_tree_training_error, label='Testing error')\n",
    "plt.plot(percentile_range, decision_tree_test_error, label='Training error')\n",
    "plt.xlabel('Selected K-Percentile Training Data')\n",
    "plt.ylabel('Classification error')\n",
    "plt.title('Decision Tree with different Selected K-Percentile Training Data')\n",
    "plt.legend(loc=0, shadow=True, fontsize='x-large')\n",
    "plt.show()\n",
    "\n",
    "val, idx = min((val, idx) for (idx, val) in enumerate(decision_tree_test_error))\n",
    "print('Test error minimized at selected K-percentile training data value of = %d'%(percentile_range[idx]))"
   ]
  },
  {
   "cell_type": "code",
   "execution_count": null,
   "metadata": {
    "collapsed": true
   },
   "outputs": [],
   "source": []
  }
 ],
 "metadata": {
  "kernelspec": {
   "display_name": "Python 3",
   "language": "python",
   "name": "python3"
  },
  "language_info": {
   "codemirror_mode": {
    "name": "ipython",
    "version": 3
   },
   "file_extension": ".py",
   "mimetype": "text/x-python",
   "name": "python",
   "nbconvert_exporter": "python",
   "pygments_lexer": "ipython3",
   "version": "3.6.3"
  }
 },
 "nbformat": 4,
 "nbformat_minor": 2
}
