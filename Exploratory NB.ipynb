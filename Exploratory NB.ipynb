{
 "cells": [
  {
   "cell_type": "code",
   "execution_count": 30,
   "metadata": {},
   "outputs": [],
   "source": [
    "import numpy as np\n",
    "from matplotlib import pyplot as plt\n",
    "from numpy import genfromtxt\n",
    "from sklearn.linear_model import Ridge\n",
    "from sklearn.linear_model import Lasso\n",
    "from sklearn.linear_model import LogisticRegression\n",
    "from sklearn.linear_model import LogisticRegressionCV\n",
    "from sklearn.linear_model import LassoLars\n",
    "from sklearn.linear_model import LassoLarsCV\n",
    "from sklearn.linear_model import Lars\n",
    "from sklearn.metrics import accuracy_score\n",
    "from sklearn.feature_selection import SelectPercentile\n",
    "\n",
    "from brew.stacking.stacker import EnsembleStack, EnsembleStackClassifier\n",
    "\n",
    "from sklearn.feature_selection import SelectKBest\n",
    "\n",
    "from sklearn.ensemble import RandomForestClassifier, VotingClassifier\n",
    "\n",
    "from sklearn.model_selection import train_test_split\n",
    "\n",
    "from sklearn.cluster import KMeans\n",
    "\n",
    "from brew.base import Ensemble\n",
    "from brew.base import EnsembleClassifier\n",
    "from brew.combination.combiner import Combiner\n",
    "\n",
    "\n",
    "# from sklearn.model_selection import KFold\n",
    "\n",
    "from sklearn.cross_validation import KFold\n",
    "from sklearn.metrics import mean_squared_error\n",
    "\n",
    "import sklearn as sk\n",
    "from sklearn import svm, datasets\n",
    "\n",
    "\n",
    "%matplotlib inline"
   ]
  },
  {
   "cell_type": "code",
   "execution_count": 24,
   "metadata": {
    "collapsed": true
   },
   "outputs": [],
   "source": [
    "def load_data(filename, skiprows = 1):\n",
    "    \"\"\"\n",
    "    Function loads data stored in the file filename and returns it as a numpy ndarray.\n",
    "    \n",
    "    Inputs:\n",
    "        filename: given as a string.\n",
    "        \n",
    "    Outputs:\n",
    "        Data contained in the file, returned as a numpy ndarray\n",
    "    \"\"\"\n",
    "    return np.loadtxt(filename, skiprows=skiprows, delimiter=' ')"
   ]
  },
  {
   "cell_type": "markdown",
   "metadata": {},
   "source": [
    "# Getting training data"
   ]
  },
  {
   "cell_type": "code",
<<<<<<< HEAD
   "execution_count": 25,
=======
   "execution_count": 3,
>>>>>>> 53a55616abdd3cb848134ff9b4ae771667ec6fef
   "metadata": {
    "collapsed": true
   },
   "outputs": [],
   "source": [
    "training_data = np.array(load_data(\"training_data.txt\", skiprows = 1))"
   ]
  },
  {
   "cell_type": "code",
<<<<<<< HEAD
   "execution_count": 26,
=======
   "execution_count": 4,
>>>>>>> 53a55616abdd3cb848134ff9b4ae771667ec6fef
   "metadata": {
    "collapsed": true
   },
   "outputs": [],
   "source": [
    "y_train = training_data[:, 0]\n",
    "X_train = training_data[:, 1:]"
   ]
  },
  {
   "cell_type": "code",
   "execution_count": 5,
   "metadata": {
    "collapsed": false
   },
   "outputs": [
    {
     "data": {
      "text/plain": [
       "881"
      ]
     },
     "execution_count": 5,
     "metadata": {},
     "output_type": "execute_result"
    }
   ],
   "source": [
    "f = open(\"training_data.txt\")\n",
    "words = f.readline()\n",
    "bag = words.split()\n",
    "bag = np.array(bag[1:])\n",
    "bag\n",
    "\n",
    "to_keep = []\n",
    "for i in range(len(bag)):\n",
    "    if not len(bag[i]) <= 3:\n",
    "        to_keep.append(i)\n",
    "        \n",
    "        \n",
    "len(to_keep)"
   ]
  },
  {
   "cell_type": "code",
<<<<<<< HEAD
   "execution_count": 129,
=======
   "execution_count": 6,
>>>>>>> 53a55616abdd3cb848134ff9b4ae771667ec6fef
   "metadata": {
    "collapsed": true
   },
   "outputs": [],
   "source": [
    "def get_keepers (bag, threshold, X):\n",
    "    to_keep = []\n",
    "    for i in range(len(bag)):\n",
    "        if not len(bag[i]) <= threshold:\n",
    "            to_keep.append(i)\n",
    "    return X[:,to_keep]"
   ]
  },
  {
   "cell_type": "code",
<<<<<<< HEAD
   "execution_count": 130,
   "metadata": {},
=======
   "execution_count": 7,
   "metadata": {
    "collapsed": false
   },
>>>>>>> 53a55616abdd3cb848134ff9b4ae771667ec6fef
   "outputs": [
    {
     "data": {
      "text/plain": [
       "352"
      ]
     },
     "execution_count": 130,
     "metadata": {},
     "output_type": "execute_result"
    }
   ],
   "source": [
    "f = open(\"training_data.txt\")\n",
    "words = f.readline()\n",
    "bag = words.split()\n",
    "bag = np.array(bag[1:])\n",
    "\n",
    "X = get_keepers (bag, 5, X_train)\n",
    "len(X[0])"
   ]
  },
  {
   "cell_type": "code",
   "execution_count": 4,
   "metadata": {
    "collapsed": true
   },
   "outputs": [],
   "source": [
    "test_data = np.array(load_data(\"test_data.txt\"))"
   ]
  },
  {
   "cell_type": "code",
   "execution_count": 5,
   "metadata": {},
   "outputs": [
    {
     "name": "stdout",
     "output_type": "stream",
     "text": [
      "10000\n"
     ]
    }
   ],
   "source": [
    "#y_test = test_data[:, 0]\n",
    "X_test = test_data\n",
    "\n",
    "print(len(X_test))"
   ]
  },
  {
   "cell_type": "code",
   "execution_count": 183,
   "metadata": {},
   "outputs": [
    {
     "name": "stdout",
     "output_type": "stream",
     "text": [
      "[2. 3. 1. 0. 1. 0. 0. 2. 0. 1. 0. 0. 0. 0. 0. 0. 0. 0. 0. 0. 0. 0. 0. 0.\n",
      " 0. 0. 0. 0. 0. 0. 0. 0. 0. 0. 0. 0. 0. 0. 0. 0. 0. 1. 0. 0. 0. 0. 0. 0.\n",
      " 0. 0. 0. 0. 0. 0. 0. 0. 0. 0. 0. 0. 0. 0. 0. 0. 0. 0. 0. 0. 0. 0. 0. 0.\n",
      " 0. 0. 0. 0. 0. 0. 0. 0. 0. 0. 0. 0. 0. 0. 0. 0. 0. 0. 0. 0. 0. 0. 0. 0.\n",
      " 0. 0. 0. 0. 0. 0. 0. 0. 0. 0. 0. 0. 0. 0. 0. 0. 0. 0. 0. 0. 0. 0. 0. 0.\n",
      " 0. 0. 0. 0. 0. 0. 0. 0. 0. 0. 0. 0. 0. 0. 0. 0. 0. 0. 0. 0. 0. 0. 0. 0.\n",
      " 0. 0. 0. 0. 0. 0. 0. 0. 0. 0. 0. 1. 0. 0. 0. 0. 0. 0. 0. 0. 0. 0. 0. 0.\n",
      " 0. 0. 0. 0. 0. 0. 0. 0. 0. 0. 0. 0. 0. 0. 0. 0. 0. 0. 0. 1. 0. 0. 0. 0.\n",
      " 0. 0. 0. 0. 0. 0. 0. 0. 0. 0. 0. 0. 0. 0. 0. 0. 0. 0. 0. 0. 0. 0. 0. 0.\n",
      " 0. 0. 0. 0. 0. 0. 0. 0. 0. 0. 0. 0. 0. 0. 0. 0. 0. 0. 0. 0. 0. 0. 0. 0.\n",
      " 0. 0. 0. 0. 0. 0. 0. 0. 0. 0. 0. 0. 0. 0. 0. 0. 0. 0. 0. 0. 0. 0. 0. 0.\n",
      " 0. 0. 0. 0. 0. 0. 0. 0. 0. 0. 0. 0. 0. 0. 0. 0. 0. 0. 0. 0. 0. 0. 0. 0.\n",
      " 0. 0. 0. 0. 0. 0. 0. 0. 0. 0. 0. 0. 0. 0. 0. 0. 0. 0. 0. 0. 0. 0. 0. 0.\n",
      " 0. 0. 0. 0. 0. 0. 0. 0. 0. 0. 0. 0. 0. 0. 0. 0. 0. 0. 0. 0. 0. 0. 0. 0.\n",
      " 0. 0. 0. 0. 0. 0. 0. 0. 0. 0. 0. 0. 0. 0. 0. 0. 0. 0. 0. 0. 0. 0. 0. 0.\n",
      " 0. 0. 0. 0. 0. 0. 0. 0. 0. 0. 0. 0. 0. 0. 0. 0. 0. 0. 0. 0. 0. 0. 0. 0.\n",
      " 0. 0. 0. 0. 0. 0. 0. 0. 0. 0. 0. 0. 0. 0. 0. 0. 0. 0. 0. 0. 0. 0. 0. 0.\n",
      " 0. 0. 0. 0. 0. 0. 0. 0. 0. 0. 0. 0. 0. 0. 0. 0. 0. 0. 0. 0. 0. 0. 0. 0.\n",
      " 0. 0. 0. 0. 0. 0. 0. 0. 0. 0. 0. 0. 0. 0. 0. 0. 0. 0. 1. 0. 0. 0. 0. 0.\n",
      " 0. 0. 0. 0. 0. 0. 0. 0. 0. 0. 0. 0. 0. 0. 0. 0. 0. 0. 0. 0. 0. 0. 0. 0.\n",
      " 0. 0. 0. 0. 0. 0. 0. 0. 0. 0. 0. 0. 0. 0. 0. 0. 0. 0. 0. 0. 0. 0. 0. 0.\n",
      " 0. 0. 0. 0. 0. 0. 0. 0. 0. 0. 0. 0. 0. 0. 0. 0. 0. 0. 0. 0. 0. 0. 0. 0.\n",
      " 0. 0. 0. 0. 0. 0. 0. 0. 0. 0. 0. 0. 0. 0. 0. 0. 0. 0. 0. 0. 0. 0. 0. 0.\n",
      " 0. 0. 0. 0. 0. 0. 0. 0. 0. 0. 0. 0. 0. 0. 0. 0. 0. 0. 0. 0. 0. 0. 0. 0.\n",
      " 0. 0. 0. 0. 0. 0. 0. 0. 0. 0. 0. 0. 0. 0. 0. 0. 0. 0. 0. 0. 0. 0. 0. 0.\n",
      " 0. 0. 0. 0. 0. 0. 0. 0. 0. 0. 0. 0. 0. 0. 0. 0. 0. 0. 0. 0. 0. 0. 0. 0.\n",
      " 0. 0. 0. 0. 0. 0. 0. 0. 0. 0. 0. 0. 0. 0. 0. 0. 0. 0. 0. 0. 0. 0. 0. 0.\n",
      " 0. 0. 0. 0. 0. 0. 0. 0. 0. 0. 0. 0. 0. 0. 0. 0. 0. 0. 0. 0. 0. 0. 0. 0.\n",
      " 0. 0. 0. 0. 0. 0. 0. 0. 0. 0. 0. 0. 0. 0. 0. 0. 0. 0. 0. 0. 0. 0. 0. 0.\n",
      " 0. 0. 0. 0. 0. 0. 0. 0. 0. 0. 0. 0. 0. 0. 0. 0. 0. 0. 0. 0. 0. 0. 0. 0.\n",
      " 0. 0. 0. 0. 0. 0. 0. 0. 0. 0. 0. 0. 0. 0. 0. 0. 0. 0. 0. 0. 0. 0. 0. 0.\n",
      " 0. 0. 0. 0. 0. 0. 0. 0. 0. 0. 0. 0. 0. 0. 0. 0. 0. 0. 0. 0. 0. 0. 0. 0.\n",
      " 0. 0. 0. 0. 0. 0. 0. 0. 0. 0. 0. 0. 0. 0. 0. 0. 0. 0. 0. 0. 0. 0. 0. 0.\n",
      " 0. 0. 0. 0. 0. 0. 0. 0. 0. 0. 0. 0. 0. 0. 0. 0. 0. 0. 0. 0. 0. 0. 0. 0.\n",
      " 0. 0. 0. 0. 0. 0. 0. 0. 0. 0. 0. 0. 0. 0. 0. 0. 0. 0. 0. 0. 0. 0. 0. 0.\n",
      " 0. 0. 0. 0. 0. 0. 0. 0. 0. 0. 0. 0. 0. 0. 0. 0. 0. 0. 0. 0. 0. 0. 0. 0.\n",
      " 0. 0. 0. 0. 0. 0. 0. 0. 0. 0. 0. 0. 0. 0. 0. 0. 0. 0. 0. 0. 0. 0. 0. 0.\n",
      " 0. 0. 0. 0. 0. 0. 0. 0. 0. 0. 0. 0. 0. 0. 0. 0. 0. 0. 0. 0. 0. 0. 0. 0.\n",
      " 0. 0. 0. 0. 0. 0. 0. 0. 0. 0. 0. 0. 0. 0. 0. 0. 0. 0. 0. 0. 0. 0. 0. 0.\n",
      " 0. 0. 0. 0. 0. 0. 0. 0. 0. 0. 0. 0. 0. 0. 0. 0. 0. 0. 0. 0. 0. 0. 0. 0.\n",
      " 0. 0. 0. 0. 0. 0. 0. 0. 0. 0. 0. 0. 0. 0. 0. 0. 0. 0. 0. 0. 0. 0. 0. 0.\n",
      " 0. 0. 0. 0. 0. 0. 0. 0. 0. 0. 0. 0. 0. 0. 0. 0.]\n"
     ]
    }
   ],
   "source": []
  },
  {
   "cell_type": "markdown",
   "metadata": {},
   "source": [
    "# Lasso Trial"
   ]
  },
  {
   "cell_type": "code",
<<<<<<< HEAD
   "execution_count": 282,
=======
<<<<<<< HEAD
<<<<<<< HEAD
   "execution_count": 12,
   "metadata": {
    "collapsed": true
   },
   "outputs": [],
   "source": [
    "def binary_clf_error(y_pred, y_correct):\n",
    "    '''Predicts binary classification error'''\n",
    "    binarytrain_number = (y_pred!=y_correct).sum()\n",
    "    return binarytrain_number/len(y_pred)"
   ]
  },
  {
   "cell_type": "code",
   "execution_count": 13,
   "metadata": {
    "collapsed": true
   },
   "outputs": [],
   "source": [
    "y_regression_train = y_train\n",
    "y_regression_train[y_regression_train==0] = -1\n"
   ]
  },
  {
   "cell_type": "code",
   "execution_count": 16,
>>>>>>> 53a55616abdd3cb848134ff9b4ae771667ec6fef
   "metadata": {},
=======
=======
>>>>>>> 7d8b4e190e5c90b440b330c04b5dac663d778af6
   "execution_count": 80,
   "metadata": {
    "collapsed": false
   },
<<<<<<< HEAD
>>>>>>> 7d8b4e190e5c90b440b330c04b5dac663d778af6
=======
>>>>>>> 7d8b4e190e5c90b440b330c04b5dac663d778af6
   "outputs": [
    {
     "data": {
      "text/plain": [
       "0.13320000000000001"
      ]
     },
<<<<<<< HEAD
     "execution_count": 282,
=======
     "execution_count": 16,
>>>>>>> 53a55616abdd3cb848134ff9b4ae771667ec6fef
     "metadata": {},
     "output_type": "execute_result"
    }
   ],
   "source": [
    "#This is approximately the best one found\n",
    "#It got like 85% test accuracy.\n",
    "streng = 0.00055\n",
    "\n",
    "X_tr, X_tst, y_tr, y_tst = train_test_split(X_train, y_train, random_state=0, test_size=.25)\n",
    "\n",
    "select = SelectPercentile(percentile=10)\n",
    "select.fit(X_tr, y_tr)\n",
    "X_train_selected = select.transform(X_tr)\n",
    "\n",
    "\n",
    "lasso = Lasso(alpha = streng)\n",
<<<<<<< HEAD
    "lasso.fit(X_train_selected, y_tr)   # Fit the lasso regression model to the data\n"
=======
    "lasso.fit(X_train, y_regression_train)   \n",
    "y_pred = np.sign(lasso.predict(X_train))\n",
    "\n",
    "#Finding error\n",
    "binary_clf_error(y_pred, y_regression_train)"
>>>>>>> 53a55616abdd3cb848134ff9b4ae771667ec6fef
   ]
  },
  {
   "cell_type": "code",
<<<<<<< HEAD
   "execution_count": 283,
   "metadata": {},
   "outputs": [
    {
     "name": "stdout",
     "output_type": "stream",
     "text": [
      "[1. 1. 1. ... 1. 1. 1.]\n"
     ]
    }
   ],
   "source": [
    "y_pred = np.sign(lasso.predict(X_train_selected))\n",
    "print(y_pred)\n",
    "binarytrain_error = (y_pred!=y_tr).sum()"
=======
   "execution_count": 21,
   "metadata": {},
   "outputs": [
    {
     "data": {
      "text/plain": [
       "302"
      ]
     },
     "execution_count": 21,
     "metadata": {},
     "output_type": "execute_result"
    }
   ],
   "source": [
    "(lasso.coef_==0).sum()"
   ]
  },
  {
   "cell_type": "markdown",
   "metadata": {},
   "source": [
    "# We can probably do something about these weights"
   ]
  },
  {
   "cell_type": "markdown",
   "metadata": {},
   "source": [
    "We see that to get 85% test accuracy, we don't even need 302 of the weights."
   ]
  },
  {
   "cell_type": "code",
   "execution_count": 15,
   "metadata": {
    "collapsed": true
   },
   "outputs": [],
   "source": [
    "#We can use this code to check which regularization term is optimal.\n",
    "#This can be adapted for other models to find optimal regularization terms as well.\n",
    "\n",
    "#Initializing alpha list\n",
    "alpha_values = np.linspace(0.0003, 0.0007, num=5)\n",
    "training_error_list = []\n",
    "validation_error_list = []\n",
    "\n",
    "for alpha_value in alpha_values:\n",
    "    #Initializing Kfold cv object\n",
    "    kf = KFold(n_splits=5)\n",
    "    training_error = []\n",
    "    validation_error = []\n",
    "    \n",
    "    for train_index, test_index in kf.split(X_train):\n",
    "        #Partitioning dataset using index set\n",
    "        X_training = X_train[train_index]\n",
    "        y_training = y_regression_train[train_index]\n",
    "\n",
    "        X_testing = X_train[test_index]\n",
    "        y_testing = y_regression_train[test_index]\n",
    "\n",
    "        #Running Lasso regression on training partition\n",
    "        lasso = Lasso(alpha = alpha_value)\n",
    "        lasso.fit(X_training, y_training)\n",
    "\n",
    "        #Finding training error \n",
    "        training_error.append(binary_clf_error(np.sign(lasso.predict(X_training)), y_training))\n",
    "\n",
    "        #Finding validation error\n",
    "        validation_error.append(binary_clf_error(np.sign(lasso.predict(X_testing)), y_testing))\n",
    "    training_error_list.append(np.mean(training_error))\n",
    "    validation_error_list.append(np.mean(validation_error))\n",
    "\n",
    "\n"
>>>>>>> 53a55616abdd3cb848134ff9b4ae771667ec6fef
   ]
  },
  {
   "cell_type": "code",
<<<<<<< HEAD
   "execution_count": 284,
=======
<<<<<<< HEAD
   "execution_count": 90,
   "metadata": {},
=======
   "execution_count": 82,
   "metadata": {
    "collapsed": false
   },
<<<<<<< HEAD
>>>>>>> 7d8b4e190e5c90b440b330c04b5dac663d778af6
   "outputs": [
    {
     "data": {
      "text/plain": [
       "[array([ 0.0003,  0.0004,  0.0005,  0.0006,  0.0007]),\n",
       " [0.15240000000000001,\n",
       "  0.15225000000000002,\n",
       "  0.15209999999999999,\n",
       "  0.15229999999999999,\n",
       "  0.15345]]"
      ]
     },
     "execution_count": 90,
     "metadata": {},
     "output_type": "execute_result"
    }
   ],
   "source": [
    "[alpha_values, validation_error_list]"
   ]
  },
  {
   "cell_type": "code",
   "execution_count": 91,
   "metadata": {},
=======
>>>>>>> 7d8b4e190e5c90b440b330c04b5dac663d778af6
   "outputs": [
    {
     "data": {
      "text/plain": [
       "Text(0.5,1,'Finding Optimal alpha value')"
      ]
     },
     "execution_count": 91,
     "metadata": {},
     "output_type": "execute_result"
    },
    {
     "data": {
      "image/png": "iVBORw0KGgoAAAANSUhEUgAAAZMAAAEWCAYAAACjYXoKAAAABHNCSVQICAgIfAhkiAAAAAlwSFlz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\n",
      "text/plain": [
       "<matplotlib.figure.Figure at 0x1a4bd38630>"
      ]
     },
     "metadata": {},
     "output_type": "display_data"
    }
   ],
   "source": [
    "legend_handles = []\n",
    "series_names = []\n",
    "\n",
    "plt.close('all')\n",
    "plt.figure()\n",
    "\n",
    "#Plotting error\n",
    "data_series, = plt.plot(alpha_values, training_error_list, 'r.', label = 'Training error')\n",
    "legend_handles.append(data_series)\n",
    "series_names.append('Training error')\n",
    "\n",
    "data_series, = plt.plot(alpha_values, validation_error_list, 'b.', label = 'Validation error')\n",
    "legend_handles.append(data_series)\n",
    "series_names.append('Validation error')\n",
    "\n",
    "plt.legend(legend_handles, series_names, loc = \"upper right\")\n",
    "plt.ylabel('Error values')\n",
    "plt.xlabel('Values of alpha (regularizer)')\n",
    "plt.title('Finding Optimal alpha value')"
   ]
  },
  {
   "cell_type": "markdown",
   "metadata": {
    "collapsed": true
   },
   "source": [
    "# Ridge Trial"
   ]
  },
  {
   "cell_type": "code",
   "execution_count": 45,
   "metadata": {},
   "outputs": [
    {
     "data": {
      "text/plain": [
       "0.1308"
      ]
     },
     "execution_count": 45,
     "metadata": {},
     "output_type": "execute_result"
    }
   ],
   "source": [
    "y_regression_train = y_train\n",
    "y_regression_train[y_regression_train==0] = -1\n",
    "\n",
    "#This is approximately the best one found\n",
    "#Test error is like 0.1519\n",
    "streng = 130\n",
    "\n",
    "ridge = Ridge(alpha = streng)\n",
    "ridge.fit(X_train, y_regression_train)   \n",
    "y_pred = np.sign(ridge.predict(X_train))\n",
    "\n",
    "#Finding error\n",
    "binary_clf_error(y_pred, y_regression_train)"
   ]
  },
  {
   "cell_type": "code",
   "execution_count": null,
   "metadata": {
    "collapsed": true
   },
   "outputs": [],
   "source": []
  },
  {
   "cell_type": "code",
   "execution_count": null,
   "metadata": {
    "collapsed": true
   },
   "outputs": [],
   "source": []
  },
  {
   "cell_type": "code",
   "execution_count": 42,
   "metadata": {
    "collapsed": true
   },
   "outputs": [],
   "source": [
    "#We can use this code to check which regularization term is optimal.\n",
    "#This can be adapted for other models to find optimal regularization terms as well.\n",
    "\n",
    "#Initializing alpha list\n",
    "alpha_values = np.linspace(40, 160, num=5)\n",
    "training_error_list = []\n",
    "validation_error_list = []\n",
    "\n",
    "for alpha_value in alpha_values:\n",
    "    #Initializing Kfold cv object\n",
    "    kf = KFold(n_splits=5)\n",
    "    training_error = []\n",
    "    validation_error = []\n",
    "    \n",
    "    for train_index, test_index in kf.split(X_train):\n",
    "        #Partitioning dataset using index set\n",
    "        X_training = X_train[train_index]\n",
    "        y_training = y_regression_train[train_index]\n",
    "\n",
    "        X_testing = X_train[test_index]\n",
    "        y_testing = y_regression_train[test_index]\n",
    "\n",
    "        #Running Lasso regression on training partition\n",
    "        ridge = Ridge(alpha = alpha_value)\n",
    "        ridge.fit(X_training, y_training)\n",
    "\n",
    "        #Finding training error \n",
    "        training_error.append(binary_clf_error(np.sign(ridge.predict(X_training)), y_training))\n",
    "\n",
    "        #Finding validation error\n",
    "        validation_error.append(binary_clf_error(np.sign(ridge.predict(X_testing)), y_testing))\n",
    "    training_error_list.append(np.mean(training_error))\n",
    "    validation_error_list.append(np.mean(validation_error))\n",
    "\n",
    "\n",
    "\n"
   ]
  },
  {
   "cell_type": "code",
   "execution_count": 43,
>>>>>>> 53a55616abdd3cb848134ff9b4ae771667ec6fef
   "metadata": {},
   "outputs": [
    {
     "data": {
      "text/plain": [
<<<<<<< HEAD
       "0.49573333333333336"
      ]
     },
     "execution_count": 284,
=======
       "[array([  40.,   70.,  100.,  130.,  160.]),\n",
       " [0.15445,\n",
       "  0.15309999999999999,\n",
       "  0.15215000000000001,\n",
       "  0.15190000000000001,\n",
       "  0.15289999999999998]]"
      ]
     },
     "execution_count": 43,
     "metadata": {},
     "output_type": "execute_result"
    }
   ],
   "source": [
    "[alpha_values, validation_error_list]"
   ]
  },
  {
   "cell_type": "code",
   "execution_count": 44,
   "metadata": {
    "scrolled": true
   },
   "outputs": [
    {
     "data": {
      "text/plain": [
       "Text(0.5,1,'Finding Optimal alpha value')"
      ]
     },
     "execution_count": 44,
>>>>>>> 53a55616abdd3cb848134ff9b4ae771667ec6fef
     "metadata": {},
     "output_type": "execute_result"
    },
    {
     "data": {
      "image/png": "iVBORw0KGgoAAAANSUhEUgAAAZIAAAEWCAYAAABMoxE0AAAABHNCSVQICAgIfAhkiAAAAAlwSFlz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\nAAAASUVORK5CYII=\n",
      "text/plain": [
       "<matplotlib.figure.Figure at 0x1a2f2657f0>"
      ]
     },
     "metadata": {},
     "output_type": "display_data"
    }
   ],
   "source": [
    "legend_handles = []\n",
    "series_names = []\n",
    "\n",
    "plt.close('all')\n",
    "plt.figure()\n",
    "\n",
    "#Plotting error\n",
    "data_series, = plt.plot(alpha_values, training_error_list, 'r.', label = 'Training error')\n",
    "legend_handles.append(data_series)\n",
    "series_names.append('Training error')\n",
    "\n",
    "data_series, = plt.plot(alpha_values, validation_error_list, 'b.', label = 'Validation error')\n",
    "legend_handles.append(data_series)\n",
    "series_names.append('Validation error')\n",
    "\n",
    "plt.legend(legend_handles, series_names, loc = \"upper right\")\n",
    "plt.ylabel('Error values')\n",
    "plt.xlabel('Values of alpha (regularizer)')\n",
    "plt.title('Finding Optimal alpha value')"
   ]
  },
  {
   "cell_type": "markdown",
   "metadata": {},
   "source": [
    "# SVM Classifier Trial"
   ]
  },
  {
   "cell_type": "code",
<<<<<<< HEAD
   "execution_count": 110,
   "metadata": {},
=======
   "execution_count": 83,
   "metadata": {
    "collapsed": false
   },
>>>>>>> 53a55616abdd3cb848134ff9b4ae771667ec6fef
   "outputs": [
    {
     "data": {
      "text/plain": [
       "SVC(C=1, cache_size=200, class_weight=None, coef0=0.0,\n",
       "  decision_function_shape='ovr', degree=3, gamma='auto', kernel='linear',\n",
       "  max_iter=-1, probability=False, random_state=None, shrinking=True,\n",
       "  tol=0.001, verbose=False)"
      ]
     },
     "execution_count": 110,
     "metadata": {},
     "output_type": "execute_result"
    }
   ],
   "source": [
    "svc = svm.SVC(kernel='linear', C=1,gamma='auto')\n",
    "\n",
    "X_tr, X_tst, y_tr, y_tst = train_test_split(X_train, y_train, random_state=0, test_size=.25)\n",
    "\n",
    "select = SelectPercentile(percentile=80)\n",
    "select.fit(X_tr, y_tr)\n",
    "X_train_selected = select.transform(X_tr)\n",
    "\n",
    "\n",
    "svc.fit(X_train_selected, y_tr)"
   ]
  },
  {
   "cell_type": "code",
<<<<<<< HEAD
   "execution_count": 51,
=======
   "execution_count": 84,
>>>>>>> 53a55616abdd3cb848134ff9b4ae771667ec6fef
   "metadata": {
    "collapsed": true
   },
   "outputs": [],
   "source": [
    "y_pred = np.sign(svc.predict(X_train_selected))"
   ]
  },
  {
   "cell_type": "code",
<<<<<<< HEAD
   "execution_count": 52,
=======
   "execution_count": 85,
>>>>>>> 53a55616abdd3cb848134ff9b4ae771667ec6fef
   "metadata": {
    "collapsed": true
   },
   "outputs": [],
   "source": [
    "binarytrain_error = (y_pred!=y_tr).sum()"
   ]
  },
  {
   "cell_type": "code",
   "execution_count": 53,
   "metadata": {},
   "outputs": [
    {
     "data": {
      "text/plain": [
       "0.12653333333333333"
      ]
     },
     "execution_count": 53,
     "metadata": {},
     "output_type": "execute_result"
    }
   ],
   "source": [
    "binarytrain_error/15000"
   ]
  },
  {
   "cell_type": "code",
<<<<<<< HEAD
   "execution_count": 54,
   "metadata": {},
=======
   "execution_count": 86,
   "metadata": {
    "collapsed": false
   },
>>>>>>> 53a55616abdd3cb848134ff9b4ae771667ec6fef
   "outputs": [
    {
     "data": {
      "text/plain": [
       "0.158"
      ]
     },
     "execution_count": 54,
     "metadata": {},
     "output_type": "execute_result"
    }
   ],
   "source": [
    "X_test_selected = select.transform(X_tst)\n",
    "\n",
    "y_test_prediction = np.sign(svc.predict(X_test_selected))\n",
    "binarytrain_error = (y_test_prediction!=y_tst).sum()\n",
    "\n",
    "binarytrain_error/5000"
   ]
  },
  {
   "cell_type": "code",
   "execution_count": 87,
   "metadata": {
    "collapsed": false
   },
   "outputs": [
    {
     "data": {
      "text/plain": [
       "Ridge(alpha=1.0, copy_X=True, fit_intercept=True, max_iter=None,\n",
       "   normalize=False, random_state=None, solver='auto', tol=0.001)"
      ]
     },
     "execution_count": 87,
     "metadata": {},
     "output_type": "execute_result"
    }
   ],
   "source": [
    "ridge = Ridge()\n",
    "ridge.fit(X,y_train)"
   ]
  },
  {
   "cell_type": "markdown",
   "metadata": {},
   "source": [
    "# Using Logistic Regression"
   ]
  },
  {
   "cell_type": "code",
<<<<<<< HEAD
   "execution_count": 6,
   "metadata": {},
   "outputs": [
    {
     "ename": "NameError",
     "evalue": "name 'X' is not defined",
     "output_type": "error",
     "traceback": [
      "\u001b[0;31m---------------------------------------------------------------------------\u001b[0m",
      "\u001b[0;31mNameError\u001b[0m                                 Traceback (most recent call last)",
      "\u001b[0;32m<ipython-input-6-52961a489e70>\u001b[0m in \u001b[0;36m<module>\u001b[0;34m()\u001b[0m\n\u001b[0;32m----> 1\u001b[0;31m \u001b[0mX_tr\u001b[0m\u001b[0;34m,\u001b[0m \u001b[0mX_tst\u001b[0m\u001b[0;34m,\u001b[0m \u001b[0my_tr\u001b[0m\u001b[0;34m,\u001b[0m \u001b[0my_tst\u001b[0m \u001b[0;34m=\u001b[0m \u001b[0mtrain_test_split\u001b[0m\u001b[0;34m(\u001b[0m\u001b[0mX\u001b[0m\u001b[0;34m,\u001b[0m \u001b[0my_train\u001b[0m\u001b[0;34m,\u001b[0m \u001b[0mrandom_state\u001b[0m\u001b[0;34m=\u001b[0m\u001b[0;36m0\u001b[0m\u001b[0;34m,\u001b[0m \u001b[0mtest_size\u001b[0m\u001b[0;34m=\u001b[0m\u001b[0;36m.25\u001b[0m\u001b[0;34m)\u001b[0m\u001b[0;34m\u001b[0m\u001b[0m\n\u001b[0m",
      "\u001b[0;31mNameError\u001b[0m: name 'X' is not defined"
     ]
    }
   ],
   "source": [
    "X_tr, X_tst, y_tr, y_tst = train_test_split(X, y_train, random_state=0, test_size=.25)"
   ]
  },
  {
   "cell_type": "code",
   "execution_count": 154,
   "metadata": {},
   "outputs": [
    {
     "data": {
      "text/plain": [
       "LogisticRegressionCV(Cs=[1e-10, 1e-09, 1e-08, 1e-07, 1e-06, 1e-05, 0.0001, 0.001, 0.01, 0.1, 1.0, 10.0, 100.0, 1000.0, 10000.0, 100000.0, 1000000.0, 10000000.0, 100000000.0, 1000000000.0],\n",
       "           class_weight=None,\n",
       "           cv=sklearn.cross_validation.KFold(n=15000, n_folds=5, shuffle=True, random_state=777),\n",
       "           dual=False, fit_intercept=True, intercept_scaling=1.0,\n",
       "           max_iter=10000, multi_class='ovr', n_jobs=1, penalty='l2',\n",
       "           random_state=777, refit=True, scoring='roc_auc',\n",
       "           solver='newton-cg', tol=10, verbose=0)"
      ]
     },
     "execution_count": 154,
     "metadata": {},
     "output_type": "execute_result"
    }
   ],
   "source": [
    "log_reg = LogisticRegression(C = 1e-8)\n",
    "\n",
    "fold = KFold(len(y_tr), n_folds=5, shuffle=True, random_state=777)\n",
    "\n",
    "log_reg_CV = LogisticRegressionCV(\n",
    "        Cs=list(np.power(10.0, np.arange(-10, 10)))\n",
    "        ,penalty='l2'\n",
    "        ,scoring='roc_auc'\n",
    "        ,cv=fold\n",
    "        ,random_state=777\n",
    "        ,max_iter=10000\n",
    "        ,fit_intercept=True\n",
    "        ,solver='newton-cg'\n",
    "        ,tol=10\n",
    "    )\n",
    "\n",
    "select = SelectPercentile(percentile=100)\n",
    "select.fit(X_tr, y_tr)\n",
    "X_train_selected = select.transform(X_tr)\n",
    "\n",
    "\n",
    "log_reg_CV.fit(X_train_selected, y_tr)"
   ]
  },
  {
   "cell_type": "code",
   "execution_count": 156,
   "metadata": {},
   "outputs": [
    {
     "name": "stdout",
     "output_type": "stream",
     "text": [
      "1000\n",
      "15000\n"
     ]
    }
   ],
   "source": [
    "print(len(X_train[0]))\n",
    "print(len(X_train_selected))"
   ]
  },
  {
   "cell_type": "code",
   "execution_count": 157,
=======
   "execution_count": 28,
>>>>>>> 53a55616abdd3cb848134ff9b4ae771667ec6fef
   "metadata": {
    "collapsed": true
   },
   "outputs": [],
   "source": [
<<<<<<< HEAD
    "y_pred = np.sign(log_reg_CV.predict(X_train_selected))\n",
    "binarytrain_error = (y_pred!=y_tr).sum()"
=======
    "def binary_clf_error(y_pred, y_correct):\n",
    "    '''Predicts binary classification error'''\n",
    "    binarytrain_number = (y_pred!=y_correct).sum()\n",
    "    return binarytrain_number/len(y_pred)"
>>>>>>> 53a55616abdd3cb848134ff9b4ae771667ec6fef
   ]
  },
  {
   "cell_type": "code",
<<<<<<< HEAD
   "execution_count": 158,
   "metadata": {},
=======
   "execution_count": 117,
   "metadata": {
    "collapsed": false
   },
>>>>>>> 53a55616abdd3cb848134ff9b4ae771667ec6fef
   "outputs": [
    {
     "data": {
      "text/plain": [
<<<<<<< HEAD
       "0.2528"
      ]
     },
     "execution_count": 158,
=======
       "0.12839999999999999"
      ]
     },
     "execution_count": 117,
>>>>>>> 53a55616abdd3cb848134ff9b4ae771667ec6fef
     "metadata": {},
     "output_type": "execute_result"
    }
   ],
   "source": [
<<<<<<< HEAD
    "binarytrain_error/15000"
=======
    "#This was the optimal regularizing term found.\n",
    "log_reg = LogisticRegression(C = .06433)\n",
    "_ = log_reg.fit(X_train, y_train)\n",
    "binary_clf_error(log_reg.predict(X_train), y_train)"
>>>>>>> 53a55616abdd3cb848134ff9b4ae771667ec6fef
   ]
  },
  {
   "cell_type": "code",
<<<<<<< HEAD
   "execution_count": 159,
   "metadata": {},
   "outputs": [
    {
     "data": {
      "text/plain": [
       "0.2686"
      ]
     },
     "execution_count": 159,
     "metadata": {},
     "output_type": "execute_result"
    }
   ],
   "source": [
    "X_test_selected = select.transform(X_tst)\n",
    "\n",
    "y_test_prediction = np.sign(log_reg_CV.predict(X_test_selected))\n",
    "binarytrain_error = (y_test_prediction!=y_tst).sum()\n",
    "\n",
    "binarytrain_error/5000"
   ]
  },
  {
   "cell_type": "code",
   "execution_count": 149,
   "metadata": {},
   "outputs": [
    {
     "data": {
      "text/plain": [
       "0.2694"
      ]
     },
     "execution_count": 149,
     "metadata": {},
     "output_type": "execute_result"
    }
   ],
   "source": [
    "y_test_prediction = np.sign(log_reg_CV.predict(X_test_selected))\n",
    "binarytrain_error = (y_test_prediction!=y_tst).sum()\n",
    "\n",
    "binarytrain_error/5000"
   ]
  },
  {
   "cell_type": "code",
   "execution_count": 57,
   "metadata": {},
   "outputs": [
    {
     "data": {
      "text/plain": [
       "LogisticRegressionCV(Cs=[1e-10, 1e-09, 1e-08, 1e-07, 1e-06, 1e-05, 0.0001, 0.001, 0.01, 0.1, 1.0, 10.0, 100.0, 1000.0, 10000.0, 100000.0, 1000000.0, 10000000.0, 100000000.0, 1000000000.0],\n",
       "           class_weight=None,\n",
       "           cv=sklearn.cross_validation.KFold(n=15000, n_folds=5, shuffle=True, random_state=777),\n",
       "           dual=False, fit_intercept=True, intercept_scaling=1.0,\n",
       "           max_iter=10000, multi_class='ovr', n_jobs=1, penalty='l2',\n",
       "           random_state=777, refit=True, scoring='roc_auc',\n",
       "           solver='newton-cg', tol=10, verbose=0)"
      ]
     },
     "execution_count": 57,
     "metadata": {},
     "output_type": "execute_result"
    }
   ],
   "source": [
    "log_reg = LogisticRegression(C = 1e-8)\n",
    "\n",
    "fold = KFold(len(y_tr), n_folds=5, shuffle=True, random_state=777)\n",
    "\n",
    "log_reg_CV = LogisticRegressionCV(\n",
    "        Cs=list(np.power(10.0, np.arange(-10, 10)))\n",
    "        ,penalty='l2'\n",
    "        ,scoring='roc_auc'\n",
    "        ,cv=fold\n",
    "        ,random_state=777\n",
    "        ,max_iter=10000\n",
    "        ,fit_intercept=True\n",
    "        ,solver='newton-cg'\n",
    "        ,tol=10\n",
    "    )\n",
    "\n",
    "select = SelectKBest(k=600)\n",
    "select.fit(X_tr, y_tr)\n",
    "X_train_selected = select.transform(X_tr)\n",
    "\n",
    "\n",
    "log_reg_CV.fit(X_train_selected, y_tr)"
   ]
  },
  {
   "cell_type": "code",
   "execution_count": 58,
=======
   "execution_count": 113,
>>>>>>> 53a55616abdd3cb848134ff9b4ae771667ec6fef
   "metadata": {
    "collapsed": true
   },
   "outputs": [],
   "source": [
<<<<<<< HEAD
    "y_pred = np.sign(log_reg_CV.predict(X_train_selected))\n",
    "binarytrain_error = (y_pred!=y_tr).sum()"
=======
    "#We can use this code to check which regularization term is optimal.\n",
    "#This can be adapted for other models to find optimal regularization terms as well.\n",
    "\n",
    "#Initializing C list\n",
    "c_values = np.linspace(0.063, 0.066, num=10)\n",
    "training_error_list = []\n",
    "validation_error_list = []\n",
    "\n",
    "for c_value in c_values:\n",
    "    #Initializing Kfold cv object\n",
    "    kf = KFold(n_splits=5)\n",
    "    training_error = []\n",
    "    validation_error = []\n",
    "    \n",
    "    for train_index, test_index in kf.split(X_train):\n",
    "        #Partitioning dataset using index set\n",
    "        X_training = X_train[train_index]\n",
    "        y_training = y_train[train_index]\n",
    "\n",
    "        X_testing = X_train[test_index]\n",
    "        y_testing = y_train[test_index]\n",
    "\n",
    "        #Running Logistic regression on training partition\n",
    "        log_reg = LogisticRegression(C = c_value)\n",
    "        log_reg.fit(X_training, y_training)\n",
    "\n",
    "        #Finding training error \n",
    "        training_error.append(binary_clf_error(log_reg.predict(X_training), y_training))\n",
    "\n",
    "        #Finding validation error\n",
    "        validation_error.append(binary_clf_error(log_reg.predict(X_testing), y_testing))\n",
    "    training_error_list.append(np.mean(training_error))\n",
    "    validation_error_list.append(np.mean(validation_error))\n",
    "\n",
    "\n",
    "\n"
>>>>>>> 53a55616abdd3cb848134ff9b4ae771667ec6fef
   ]
  },
  {
   "cell_type": "code",
<<<<<<< HEAD
   "execution_count": 59,
   "metadata": {},
   "outputs": [
    {
     "data": {
      "text/plain": [
       "0.13393333333333332"
      ]
     },
     "execution_count": 59,
     "metadata": {},
     "output_type": "execute_result"
    }
   ],
   "source": [
    "binarytrain_error/15000"
   ]
  },
  {
   "cell_type": "code",
   "execution_count": 60,
   "metadata": {},
=======
   "execution_count": 114,
   "metadata": {
    "collapsed": false
   },
>>>>>>> 53a55616abdd3cb848134ff9b4ae771667ec6fef
   "outputs": [
    {
     "data": {
      "text/plain": [
<<<<<<< HEAD
       "0.1548"
      ]
     },
     "execution_count": 60,
=======
       "[array([ 0.063     ,  0.06333333,  0.06366667,  0.064     ,  0.06433333,\n",
       "         0.06466667,  0.065     ,  0.06533333,  0.06566667,  0.066     ]),\n",
       " [0.15129999999999999,\n",
       "  0.15114999999999998,\n",
       "  0.15104999999999999,\n",
       "  0.15109999999999998,\n",
       "  0.15114999999999998,\n",
       "  0.15109999999999998,\n",
       "  0.15104999999999996,\n",
       "  0.15104999999999996,\n",
       "  0.15095,\n",
       "  0.15084999999999998]]"
      ]
     },
     "execution_count": 114,
>>>>>>> 53a55616abdd3cb848134ff9b4ae771667ec6fef
     "metadata": {},
     "output_type": "execute_result"
    }
   ],
   "source": [
<<<<<<< HEAD
    "X_test_selected = select.transform(X_tst)\n",
    "\n",
    "y_test_prediction = np.sign(log_reg_CV.predict(X_test_selected))\n",
    "binarytrain_error = (y_test_prediction!=y_tst).sum()\n",
    "\n",
    "binarytrain_error/5000"
=======
    "[c_values, validation_error_list]"
   ]
  },
  {
   "cell_type": "code",
   "execution_count": 116,
   "metadata": {
    "collapsed": false
   },
   "outputs": [
    {
     "data": {
      "text/plain": [
       "Text(0.5,1,'Finding Optimal C value')"
      ]
     },
     "execution_count": 116,
     "metadata": {},
     "output_type": "execute_result"
    },
    {
     "data": {
      "image/png": "iVBORw0KGgoAAAANSUhEUgAAAZIAAAEWCAYAAABMoxE0AAAABHNCSVQICAgIfAhkiAAAAAlwSFlz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\nBjkAAAAASUVORK5CYII=\n",
      "text/plain": [
       "<matplotlib.figure.Figure at 0x1a3059a0f0>"
      ]
     },
     "metadata": {},
     "output_type": "display_data"
    }
   ],
   "source": [
    "legend_handles = []\n",
    "series_names = []\n",
    "\n",
    "plt.close('all')\n",
    "plt.figure()\n",
    "\n",
    "#Plotting error\n",
    "data_series, = plt.plot(c_values, training_error_list, 'r.', label = 'Training error')\n",
    "legend_handles.append(data_series)\n",
    "series_names.append('Training error')\n",
    "\n",
    "data_series, = plt.plot(c_values, validation_error_list, 'b.', label = 'Validation error')\n",
    "legend_handles.append(data_series)\n",
    "series_names.append('Validation error')\n",
    "\n",
    "plt.legend(legend_handles, series_names, loc = \"upper right\")\n",
    "plt.ylabel('Error values')\n",
    "plt.xlabel('Values of C (regularizer)')\n",
    "plt.title('Finding Optimal C value')"
>>>>>>> 53a55616abdd3cb848134ff9b4ae771667ec6fef
   ]
  },
  {
   "cell_type": "markdown",
   "metadata": {},
   "source": [
    "# Feature analysis/eliminate words"
   ]
  },
  {
   "cell_type": "markdown",
   "metadata": {},
   "source": [
    "# Consider more complex Models"
   ]
  },
  {
   "cell_type": "code",
   "execution_count": 25,
   "metadata": {},
   "outputs": [
    {
     "data": {
      "text/plain": [
       "LassoLars(alpha=1.0, copy_X=True, eps=2.220446049250313e-16,\n",
       "     fit_intercept=True, fit_path=True, max_iter=500, normalize=True,\n",
       "     positive=False, precompute='auto', verbose=False)"
      ]
     },
     "execution_count": 25,
     "metadata": {},
     "output_type": "execute_result"
    }
   ],
   "source": [
    "Lasso_Lars_1 = LassoLars(alpha=1.0, fit_intercept=True)\n",
    "\n",
    "Lasso_Lars_1.fit(X_train, y_train)"
   ]
  },
  {
   "cell_type": "code",
   "execution_count": 26,
   "metadata": {
    "collapsed": true
   },
   "outputs": [],
   "source": [
    "y_pred_lasso_1 = np.sign(Lasso_Lars_1.predict(X_train))\n",
    "lasso_1_error = (y_pred_lasso_1!=y_train).sum()"
   ]
  },
  {
   "cell_type": "code",
   "execution_count": 27,
   "metadata": {},
   "outputs": [
    {
     "data": {
      "text/plain": [
       "0.49465"
      ]
     },
     "execution_count": 27,
     "metadata": {},
     "output_type": "execute_result"
    }
   ],
   "source": [
    "lasso_1_error/20000"
   ]
  },
  {
   "cell_type": "code",
   "execution_count": 31,
   "metadata": {},
   "outputs": [
    {
     "data": {
      "text/plain": [
       "LassoLarsCV(copy_X=True, cv=None, eps=2.220446049250313e-16,\n",
       "      fit_intercept=True, max_iter=500, max_n_alphas=1000, n_jobs=1,\n",
       "      normalize=True, positive=False, precompute='auto', verbose=False)"
      ]
     },
     "execution_count": 31,
     "metadata": {},
     "output_type": "execute_result"
    }
   ],
   "source": [
    "Lasso_Lars_2 = LassoLarsCV(fit_intercept=True, verbose=False, max_iter=500)\n",
    "\n",
    "Lasso_Lars_2.fit(X_train, y_train)"
   ]
  },
  {
   "cell_type": "code",
   "execution_count": 32,
   "metadata": {
    "collapsed": true
   },
   "outputs": [],
   "source": [
    "y_pred_lasso_2 = np.sign(Lasso_Lars_2.predict(X_train))\n",
    "lasso_2_error = (y_pred_lasso_2!=y_train).sum()"
   ]
  },
  {
   "cell_type": "code",
   "execution_count": 33,
   "metadata": {},
   "outputs": [
    {
     "data": {
      "text/plain": [
       "0.4949"
      ]
     },
     "execution_count": 33,
     "metadata": {},
     "output_type": "execute_result"
    }
   ],
   "source": [
    "lasso_2_error/20000"
   ]
  },
  {
   "cell_type": "code",
   "execution_count": 29,
   "metadata": {},
   "outputs": [
    {
     "ename": "TypeError",
     "evalue": "'Lars' object is not callable",
     "output_type": "error",
     "traceback": [
      "\u001b[0;31m---------------------------------------------------------------------------\u001b[0m",
      "\u001b[0;31mTypeError\u001b[0m                                 Traceback (most recent call last)",
      "\u001b[0;32m<ipython-input-29-3a68b965f939>\u001b[0m in \u001b[0;36m<module>\u001b[0;34m()\u001b[0m\n\u001b[0;32m----> 1\u001b[0;31m \u001b[0mL\u001b[0m \u001b[0;34m=\u001b[0m \u001b[0mLars\u001b[0m\u001b[0;34m(\u001b[0m\u001b[0mfit_intercept\u001b[0m\u001b[0;34m=\u001b[0m\u001b[0;32mTrue\u001b[0m\u001b[0;34m,\u001b[0m \u001b[0mverbose\u001b[0m\u001b[0;34m=\u001b[0m\u001b[0;32mFalse\u001b[0m\u001b[0;34m)\u001b[0m\u001b[0;34m\u001b[0m\u001b[0m\n\u001b[0m\u001b[1;32m      2\u001b[0m \u001b[0;34m\u001b[0m\u001b[0m\n\u001b[1;32m      3\u001b[0m \u001b[0mL\u001b[0m\u001b[0;34m.\u001b[0m\u001b[0mfit\u001b[0m\u001b[0;34m(\u001b[0m\u001b[0mX_train\u001b[0m\u001b[0;34m,\u001b[0m \u001b[0my_train\u001b[0m\u001b[0;34m)\u001b[0m\u001b[0;34m\u001b[0m\u001b[0m\n",
      "\u001b[0;31mTypeError\u001b[0m: 'Lars' object is not callable"
     ]
    }
   ],
   "source": [
    "L = Lars(fit_intercept=True, verbose=False)\n",
    "\n",
    "L.fit(X_train, y_train)"
   ]
  },
  {
   "cell_type": "code",
   "execution_count": 28,
   "metadata": {
    "collapsed": true
   },
   "outputs": [],
   "source": [
    "lars_y_pred = np.sign(Lars.predict(X_train))\n",
    "lars_error = (lars_y_pred!=y_train).sum()"
   ]
  },
  {
   "cell_type": "code",
   "execution_count": 29,
   "metadata": {},
   "outputs": [
    {
     "data": {
      "text/plain": [
       "0.49495"
      ]
     },
     "execution_count": 29,
     "metadata": {},
     "output_type": "execute_result"
    }
   ],
   "source": [
    "lars_error/20000"
   ]
  },
  {
   "cell_type": "code",
   "execution_count": 10,
   "metadata": {},
   "outputs": [
    {
     "data": {
      "text/plain": [
       "LogisticRegressionCV(Cs=[1e-10, 1e-09, 1e-08, 1e-07, 1e-06, 1e-05, 0.0001, 0.001, 0.01, 0.1, 1.0, 10.0, 100.0, 1000.0, 10000.0, 100000.0, 1000000.0, 10000000.0, 100000000.0, 1000000000.0],\n",
       "           class_weight=None,\n",
       "           cv=sklearn.cross_validation.KFold(n=20000, n_folds=5, shuffle=True, random_state=777),\n",
       "           dual=False, fit_intercept=True, intercept_scaling=1.0,\n",
       "           max_iter=10000, multi_class='ovr', n_jobs=1, penalty='l2',\n",
       "           random_state=777, refit=True, scoring='roc_auc',\n",
       "           solver='newton-cg', tol=10, verbose=0)"
      ]
     },
     "execution_count": 10,
     "metadata": {},
     "output_type": "execute_result"
    }
   ],
   "source": [
    "fold = KFold(len(y_train), n_folds=5, shuffle=True, random_state=777)\n",
    "\n",
    "log_reg_CV = LogisticRegressionCV(\n",
    "        Cs=list(np.power(10.0, np.arange(-10, 10)))\n",
    "        ,penalty='l2'\n",
    "        ,scoring='roc_auc'\n",
    "        ,cv=fold\n",
    "        ,random_state=777\n",
    "        ,max_iter=10000\n",
    "        ,fit_intercept=True\n",
    "        ,solver='newton-cg'\n",
    "        ,tol=10\n",
    "    )\n",
    "log_reg_CV.fit(X_train,  )"
   ]
  },
  {
   "cell_type": "code",
   "execution_count": 20,
   "metadata": {
    "collapsed": true
   },
   "outputs": [],
   "source": [
    "y_log_cv_pred = np.sign(log_reg_CV.predict(X_train))\n",
    "log_cv_binarytrain_error = (y_log_cv_pred!=y_train).sum()"
   ]
  },
  {
   "cell_type": "code",
   "execution_count": 21,
   "metadata": {},
   "outputs": [
    {
     "data": {
      "text/plain": [
       "0.12875"
      ]
     },
     "execution_count": 21,
     "metadata": {},
     "output_type": "execute_result"
    }
   ],
   "source": [
    "log_cv_binarytrain_error/20000"
   ]
  },
  {
   "cell_type": "code",
   "execution_count": 14,
   "metadata": {},
   "outputs": [
    {
     "name": "stderr",
     "output_type": "stream",
     "text": [
      "/Users/roshanbal/anaconda3/lib/python3.6/site-packages/ipykernel_launcher.py:2: DeprecationWarning: elementwise != comparison failed; this will raise an error in the future.\n",
      "  \n"
     ]
    },
    {
     "ename": "AttributeError",
     "evalue": "'bool' object has no attribute 'sum'",
     "output_type": "error",
     "traceback": [
      "\u001b[0;31m---------------------------------------------------------------------------\u001b[0m",
      "\u001b[0;31mAttributeError\u001b[0m                            Traceback (most recent call last)",
      "\u001b[0;32m<ipython-input-14-c2ecd773674d>\u001b[0m in \u001b[0;36m<module>\u001b[0;34m()\u001b[0m\n\u001b[1;32m      1\u001b[0m \u001b[0my_log_cv_pred_test\u001b[0m \u001b[0;34m=\u001b[0m \u001b[0mnp\u001b[0m\u001b[0;34m.\u001b[0m\u001b[0msign\u001b[0m\u001b[0;34m(\u001b[0m\u001b[0mlog_reg_CV\u001b[0m\u001b[0;34m.\u001b[0m\u001b[0mpredict\u001b[0m\u001b[0;34m(\u001b[0m\u001b[0mX_train\u001b[0m\u001b[0;34m)\u001b[0m\u001b[0;34m)\u001b[0m\u001b[0;34m\u001b[0m\u001b[0m\n\u001b[0;32m----> 2\u001b[0;31m \u001b[0mlog_cv_binarytrain_error_test\u001b[0m \u001b[0;34m=\u001b[0m \u001b[0;34m(\u001b[0m\u001b[0my_log_cv_pred_test\u001b[0m\u001b[0;34m!=\u001b[0m\u001b[0my_test\u001b[0m\u001b[0;34m)\u001b[0m\u001b[0;34m.\u001b[0m\u001b[0msum\u001b[0m\u001b[0;34m(\u001b[0m\u001b[0;34m)\u001b[0m\u001b[0;34m\u001b[0m\u001b[0m\n\u001b[0m",
      "\u001b[0;31mAttributeError\u001b[0m: 'bool' object has no attribute 'sum'"
     ]
    }
   ],
   "source": [
    "y_log_cv_pred_test = np.sign(log_reg_CV.predict(X_train))\n",
    "log_cv_binarytrain_error_test = (y_log_cv_pred_test!=y_test).sum()"
   ]
  },
  {
   "cell_type": "code",
   "execution_count": 32,
   "metadata": {
    "collapsed": true
   },
   "outputs": [],
   "source": [
    "kmeans = KMeans(n_clusters=10, random_state=0).fit(X_train)"
   ]
  },
  {
   "cell_type": "code",
   "execution_count": 33,
   "metadata": {
    "collapsed": true
   },
   "outputs": [],
   "source": [
    "k_means_train = np.sign(kmeans.predict(X_train))"
   ]
  },
  {
   "cell_type": "code",
   "execution_count": 34,
   "metadata": {
    "collapsed": true
   },
   "outputs": [],
   "source": [
    "k_means_error = (k_means_train!=y_train).sum()"
   ]
  },
  {
   "cell_type": "code",
   "execution_count": 35,
   "metadata": {},
   "outputs": [
    {
     "data": {
      "text/plain": [
       "0.47905"
      ]
     },
     "execution_count": 35,
     "metadata": {},
     "output_type": "execute_result"
    }
   ],
   "source": [
    "k_means_error/20000"
   ]
  },
  {
   "cell_type": "code",
   "execution_count": 48,
   "metadata": {
    "collapsed": true
   },
   "outputs": [],
   "source": [
    "def eval_tree_based_model_max_depth(clf, max_depth, X_train, y_train, X_test):\n",
    "    \"\"\"\n",
    "    This function evaluates the given classifier (either a decision tree or random forest) at all of the \n",
    "    maximum tree depth parameters in the vector max_depth, using the given training and testing\n",
    "    data. It returns two vector, with the training and testing classification errors.\n",
    "    \n",
    "    Inputs:\n",
    "        clf: either a decision tree or random forest classifier object\n",
    "        max_depth: a (T, ) vector of all the max_depth stopping condition parameters \n",
    "                            to test, where T is the number of parameters to test\n",
    "        X_train: (N, D) matrix of training samples.\n",
    "        y_train: (N, ) vector of training labels.\n",
    "        X_test: (N, D) matrix of test samples\n",
    "        y_test: (N, ) vector of test labels\n",
    "    Output:\n",
    "        train_err: (T, ) vector of classification errors on the training data\n",
    "        test_err: (T, ) vector of classification errors on the test data\n",
    "    \"\"\"\n",
    "    train_err = []\n",
    "    test_err = []\n",
    "    \n",
    "    for max_d in max_depth:\n",
    "        clf.max_depth = max_d\n",
    "        \n",
    "        clf.fit(X_train, y_train)\n",
    "        \n",
    "        #y_test = clf.predict()\n",
    "        \n",
    "        training_predictions = clf.predict(X_train)\n",
    "        test_predictions = clf.predict(X_test)\n",
    "        \n",
    "        train_err.append(1 - accuracy_score(y_train, training_predictions))\n",
    "        #test_err.append(1- accuracy_score(y_test, test_predictions))\n",
    "        \n",
    "        \n",
    "    \n",
    "    return train_err"
   ]
  },
  {
   "cell_type": "code",
   "execution_count": 51,
   "metadata": {},
   "outputs": [
    {
     "ename": "KeyboardInterrupt",
     "evalue": "",
     "output_type": "error",
     "traceback": [
      "\u001b[0;31m---------------------------------------------------------------------------\u001b[0m",
      "\u001b[0;31mKeyboardInterrupt\u001b[0m                         Traceback (most recent call last)",
      "\u001b[0;32m<ipython-input-51-72b3934ce31e>\u001b[0m in \u001b[0;36m<module>\u001b[0;34m()\u001b[0m\n\u001b[1;32m      5\u001b[0m \u001b[0;34m\u001b[0m\u001b[0m\n\u001b[1;32m      6\u001b[0m train_err = eval_tree_based_model_max_depth(clf, max_depth, X_train, \n\u001b[0;32m----> 7\u001b[0;31m                                                         y_train, X_test)\n\u001b[0m",
      "\u001b[0;32m<ipython-input-48-9610a9c034f4>\u001b[0m in \u001b[0;36meval_tree_based_model_max_depth\u001b[0;34m(clf, max_depth, X_train, y_train, X_test)\u001b[0m\n\u001b[1;32m     23\u001b[0m         \u001b[0mclf\u001b[0m\u001b[0;34m.\u001b[0m\u001b[0mmax_depth\u001b[0m \u001b[0;34m=\u001b[0m \u001b[0mmax_d\u001b[0m\u001b[0;34m\u001b[0m\u001b[0m\n\u001b[1;32m     24\u001b[0m \u001b[0;34m\u001b[0m\u001b[0m\n\u001b[0;32m---> 25\u001b[0;31m         \u001b[0mclf\u001b[0m\u001b[0;34m.\u001b[0m\u001b[0mfit\u001b[0m\u001b[0;34m(\u001b[0m\u001b[0mX_train\u001b[0m\u001b[0;34m,\u001b[0m \u001b[0my_train\u001b[0m\u001b[0;34m)\u001b[0m\u001b[0;34m\u001b[0m\u001b[0m\n\u001b[0m\u001b[1;32m     26\u001b[0m \u001b[0;34m\u001b[0m\u001b[0m\n\u001b[1;32m     27\u001b[0m         \u001b[0;31m#y_test = clf.predict()\u001b[0m\u001b[0;34m\u001b[0m\u001b[0;34m\u001b[0m\u001b[0m\n",
      "\u001b[0;32m~/anaconda3/lib/python3.6/site-packages/sklearn/ensemble/forest.py\u001b[0m in \u001b[0;36mfit\u001b[0;34m(self, X, y, sample_weight)\u001b[0m\n\u001b[1;32m    326\u001b[0m                     \u001b[0mt\u001b[0m\u001b[0;34m,\u001b[0m \u001b[0mself\u001b[0m\u001b[0;34m,\u001b[0m \u001b[0mX\u001b[0m\u001b[0;34m,\u001b[0m \u001b[0my\u001b[0m\u001b[0;34m,\u001b[0m \u001b[0msample_weight\u001b[0m\u001b[0;34m,\u001b[0m \u001b[0mi\u001b[0m\u001b[0;34m,\u001b[0m \u001b[0mlen\u001b[0m\u001b[0;34m(\u001b[0m\u001b[0mtrees\u001b[0m\u001b[0;34m)\u001b[0m\u001b[0;34m,\u001b[0m\u001b[0;34m\u001b[0m\u001b[0m\n\u001b[1;32m    327\u001b[0m                     verbose=self.verbose, class_weight=self.class_weight)\n\u001b[0;32m--> 328\u001b[0;31m                 for i, t in enumerate(trees))\n\u001b[0m\u001b[1;32m    329\u001b[0m \u001b[0;34m\u001b[0m\u001b[0m\n\u001b[1;32m    330\u001b[0m             \u001b[0;31m# Collect newly grown trees\u001b[0m\u001b[0;34m\u001b[0m\u001b[0;34m\u001b[0m\u001b[0m\n",
      "\u001b[0;32m~/anaconda3/lib/python3.6/site-packages/sklearn/externals/joblib/parallel.py\u001b[0m in \u001b[0;36m__call__\u001b[0;34m(self, iterable)\u001b[0m\n\u001b[1;32m    777\u001b[0m             \u001b[0;31m# was dispatched. In particular this covers the edge\u001b[0m\u001b[0;34m\u001b[0m\u001b[0;34m\u001b[0m\u001b[0m\n\u001b[1;32m    778\u001b[0m             \u001b[0;31m# case of Parallel used with an exhausted iterator.\u001b[0m\u001b[0;34m\u001b[0m\u001b[0;34m\u001b[0m\u001b[0m\n\u001b[0;32m--> 779\u001b[0;31m             \u001b[0;32mwhile\u001b[0m \u001b[0mself\u001b[0m\u001b[0;34m.\u001b[0m\u001b[0mdispatch_one_batch\u001b[0m\u001b[0;34m(\u001b[0m\u001b[0miterator\u001b[0m\u001b[0;34m)\u001b[0m\u001b[0;34m:\u001b[0m\u001b[0;34m\u001b[0m\u001b[0m\n\u001b[0m\u001b[1;32m    780\u001b[0m                 \u001b[0mself\u001b[0m\u001b[0;34m.\u001b[0m\u001b[0m_iterating\u001b[0m \u001b[0;34m=\u001b[0m \u001b[0;32mTrue\u001b[0m\u001b[0;34m\u001b[0m\u001b[0m\n\u001b[1;32m    781\u001b[0m             \u001b[0;32melse\u001b[0m\u001b[0;34m:\u001b[0m\u001b[0;34m\u001b[0m\u001b[0m\n",
      "\u001b[0;32m~/anaconda3/lib/python3.6/site-packages/sklearn/externals/joblib/parallel.py\u001b[0m in \u001b[0;36mdispatch_one_batch\u001b[0;34m(self, iterator)\u001b[0m\n\u001b[1;32m    623\u001b[0m                 \u001b[0;32mreturn\u001b[0m \u001b[0;32mFalse\u001b[0m\u001b[0;34m\u001b[0m\u001b[0m\n\u001b[1;32m    624\u001b[0m             \u001b[0;32melse\u001b[0m\u001b[0;34m:\u001b[0m\u001b[0;34m\u001b[0m\u001b[0m\n\u001b[0;32m--> 625\u001b[0;31m                 \u001b[0mself\u001b[0m\u001b[0;34m.\u001b[0m\u001b[0m_dispatch\u001b[0m\u001b[0;34m(\u001b[0m\u001b[0mtasks\u001b[0m\u001b[0;34m)\u001b[0m\u001b[0;34m\u001b[0m\u001b[0m\n\u001b[0m\u001b[1;32m    626\u001b[0m                 \u001b[0;32mreturn\u001b[0m \u001b[0;32mTrue\u001b[0m\u001b[0;34m\u001b[0m\u001b[0m\n\u001b[1;32m    627\u001b[0m \u001b[0;34m\u001b[0m\u001b[0m\n",
      "\u001b[0;32m~/anaconda3/lib/python3.6/site-packages/sklearn/externals/joblib/parallel.py\u001b[0m in \u001b[0;36m_dispatch\u001b[0;34m(self, batch)\u001b[0m\n\u001b[1;32m    586\u001b[0m         \u001b[0mdispatch_timestamp\u001b[0m \u001b[0;34m=\u001b[0m \u001b[0mtime\u001b[0m\u001b[0;34m.\u001b[0m\u001b[0mtime\u001b[0m\u001b[0;34m(\u001b[0m\u001b[0;34m)\u001b[0m\u001b[0;34m\u001b[0m\u001b[0m\n\u001b[1;32m    587\u001b[0m         \u001b[0mcb\u001b[0m \u001b[0;34m=\u001b[0m \u001b[0mBatchCompletionCallBack\u001b[0m\u001b[0;34m(\u001b[0m\u001b[0mdispatch_timestamp\u001b[0m\u001b[0;34m,\u001b[0m \u001b[0mlen\u001b[0m\u001b[0;34m(\u001b[0m\u001b[0mbatch\u001b[0m\u001b[0;34m)\u001b[0m\u001b[0;34m,\u001b[0m \u001b[0mself\u001b[0m\u001b[0;34m)\u001b[0m\u001b[0;34m\u001b[0m\u001b[0m\n\u001b[0;32m--> 588\u001b[0;31m         \u001b[0mjob\u001b[0m \u001b[0;34m=\u001b[0m \u001b[0mself\u001b[0m\u001b[0;34m.\u001b[0m\u001b[0m_backend\u001b[0m\u001b[0;34m.\u001b[0m\u001b[0mapply_async\u001b[0m\u001b[0;34m(\u001b[0m\u001b[0mbatch\u001b[0m\u001b[0;34m,\u001b[0m \u001b[0mcallback\u001b[0m\u001b[0;34m=\u001b[0m\u001b[0mcb\u001b[0m\u001b[0;34m)\u001b[0m\u001b[0;34m\u001b[0m\u001b[0m\n\u001b[0m\u001b[1;32m    589\u001b[0m         \u001b[0mself\u001b[0m\u001b[0;34m.\u001b[0m\u001b[0m_jobs\u001b[0m\u001b[0;34m.\u001b[0m\u001b[0mappend\u001b[0m\u001b[0;34m(\u001b[0m\u001b[0mjob\u001b[0m\u001b[0;34m)\u001b[0m\u001b[0;34m\u001b[0m\u001b[0m\n\u001b[1;32m    590\u001b[0m \u001b[0;34m\u001b[0m\u001b[0m\n",
      "\u001b[0;32m~/anaconda3/lib/python3.6/site-packages/sklearn/externals/joblib/_parallel_backends.py\u001b[0m in \u001b[0;36mapply_async\u001b[0;34m(self, func, callback)\u001b[0m\n\u001b[1;32m    109\u001b[0m     \u001b[0;32mdef\u001b[0m \u001b[0mapply_async\u001b[0m\u001b[0;34m(\u001b[0m\u001b[0mself\u001b[0m\u001b[0;34m,\u001b[0m \u001b[0mfunc\u001b[0m\u001b[0;34m,\u001b[0m \u001b[0mcallback\u001b[0m\u001b[0;34m=\u001b[0m\u001b[0;32mNone\u001b[0m\u001b[0;34m)\u001b[0m\u001b[0;34m:\u001b[0m\u001b[0;34m\u001b[0m\u001b[0m\n\u001b[1;32m    110\u001b[0m         \u001b[0;34m\"\"\"Schedule a func to be run\"\"\"\u001b[0m\u001b[0;34m\u001b[0m\u001b[0m\n\u001b[0;32m--> 111\u001b[0;31m         \u001b[0mresult\u001b[0m \u001b[0;34m=\u001b[0m \u001b[0mImmediateResult\u001b[0m\u001b[0;34m(\u001b[0m\u001b[0mfunc\u001b[0m\u001b[0;34m)\u001b[0m\u001b[0;34m\u001b[0m\u001b[0m\n\u001b[0m\u001b[1;32m    112\u001b[0m         \u001b[0;32mif\u001b[0m \u001b[0mcallback\u001b[0m\u001b[0;34m:\u001b[0m\u001b[0;34m\u001b[0m\u001b[0m\n\u001b[1;32m    113\u001b[0m             \u001b[0mcallback\u001b[0m\u001b[0;34m(\u001b[0m\u001b[0mresult\u001b[0m\u001b[0;34m)\u001b[0m\u001b[0;34m\u001b[0m\u001b[0m\n",
      "\u001b[0;32m~/anaconda3/lib/python3.6/site-packages/sklearn/externals/joblib/_parallel_backends.py\u001b[0m in \u001b[0;36m__init__\u001b[0;34m(self, batch)\u001b[0m\n\u001b[1;32m    330\u001b[0m         \u001b[0;31m# Don't delay the application, to avoid keeping the input\u001b[0m\u001b[0;34m\u001b[0m\u001b[0;34m\u001b[0m\u001b[0m\n\u001b[1;32m    331\u001b[0m         \u001b[0;31m# arguments in memory\u001b[0m\u001b[0;34m\u001b[0m\u001b[0;34m\u001b[0m\u001b[0m\n\u001b[0;32m--> 332\u001b[0;31m         \u001b[0mself\u001b[0m\u001b[0;34m.\u001b[0m\u001b[0mresults\u001b[0m \u001b[0;34m=\u001b[0m \u001b[0mbatch\u001b[0m\u001b[0;34m(\u001b[0m\u001b[0;34m)\u001b[0m\u001b[0;34m\u001b[0m\u001b[0m\n\u001b[0m\u001b[1;32m    333\u001b[0m \u001b[0;34m\u001b[0m\u001b[0m\n\u001b[1;32m    334\u001b[0m     \u001b[0;32mdef\u001b[0m \u001b[0mget\u001b[0m\u001b[0;34m(\u001b[0m\u001b[0mself\u001b[0m\u001b[0;34m)\u001b[0m\u001b[0;34m:\u001b[0m\u001b[0;34m\u001b[0m\u001b[0m\n",
      "\u001b[0;32m~/anaconda3/lib/python3.6/site-packages/sklearn/externals/joblib/parallel.py\u001b[0m in \u001b[0;36m__call__\u001b[0;34m(self)\u001b[0m\n\u001b[1;32m    129\u001b[0m \u001b[0;34m\u001b[0m\u001b[0m\n\u001b[1;32m    130\u001b[0m     \u001b[0;32mdef\u001b[0m \u001b[0m__call__\u001b[0m\u001b[0;34m(\u001b[0m\u001b[0mself\u001b[0m\u001b[0;34m)\u001b[0m\u001b[0;34m:\u001b[0m\u001b[0;34m\u001b[0m\u001b[0m\n\u001b[0;32m--> 131\u001b[0;31m         \u001b[0;32mreturn\u001b[0m \u001b[0;34m[\u001b[0m\u001b[0mfunc\u001b[0m\u001b[0;34m(\u001b[0m\u001b[0;34m*\u001b[0m\u001b[0margs\u001b[0m\u001b[0;34m,\u001b[0m \u001b[0;34m**\u001b[0m\u001b[0mkwargs\u001b[0m\u001b[0;34m)\u001b[0m \u001b[0;32mfor\u001b[0m \u001b[0mfunc\u001b[0m\u001b[0;34m,\u001b[0m \u001b[0margs\u001b[0m\u001b[0;34m,\u001b[0m \u001b[0mkwargs\u001b[0m \u001b[0;32min\u001b[0m \u001b[0mself\u001b[0m\u001b[0;34m.\u001b[0m\u001b[0mitems\u001b[0m\u001b[0;34m]\u001b[0m\u001b[0;34m\u001b[0m\u001b[0m\n\u001b[0m\u001b[1;32m    132\u001b[0m \u001b[0;34m\u001b[0m\u001b[0m\n\u001b[1;32m    133\u001b[0m     \u001b[0;32mdef\u001b[0m \u001b[0m__len__\u001b[0m\u001b[0;34m(\u001b[0m\u001b[0mself\u001b[0m\u001b[0;34m)\u001b[0m\u001b[0;34m:\u001b[0m\u001b[0;34m\u001b[0m\u001b[0m\n",
      "\u001b[0;32m~/anaconda3/lib/python3.6/site-packages/sklearn/externals/joblib/parallel.py\u001b[0m in \u001b[0;36m<listcomp>\u001b[0;34m(.0)\u001b[0m\n\u001b[1;32m    129\u001b[0m \u001b[0;34m\u001b[0m\u001b[0m\n\u001b[1;32m    130\u001b[0m     \u001b[0;32mdef\u001b[0m \u001b[0m__call__\u001b[0m\u001b[0;34m(\u001b[0m\u001b[0mself\u001b[0m\u001b[0;34m)\u001b[0m\u001b[0;34m:\u001b[0m\u001b[0;34m\u001b[0m\u001b[0m\n\u001b[0;32m--> 131\u001b[0;31m         \u001b[0;32mreturn\u001b[0m \u001b[0;34m[\u001b[0m\u001b[0mfunc\u001b[0m\u001b[0;34m(\u001b[0m\u001b[0;34m*\u001b[0m\u001b[0margs\u001b[0m\u001b[0;34m,\u001b[0m \u001b[0;34m**\u001b[0m\u001b[0mkwargs\u001b[0m\u001b[0;34m)\u001b[0m \u001b[0;32mfor\u001b[0m \u001b[0mfunc\u001b[0m\u001b[0;34m,\u001b[0m \u001b[0margs\u001b[0m\u001b[0;34m,\u001b[0m \u001b[0mkwargs\u001b[0m \u001b[0;32min\u001b[0m \u001b[0mself\u001b[0m\u001b[0;34m.\u001b[0m\u001b[0mitems\u001b[0m\u001b[0;34m]\u001b[0m\u001b[0;34m\u001b[0m\u001b[0m\n\u001b[0m\u001b[1;32m    132\u001b[0m \u001b[0;34m\u001b[0m\u001b[0m\n\u001b[1;32m    133\u001b[0m     \u001b[0;32mdef\u001b[0m \u001b[0m__len__\u001b[0m\u001b[0;34m(\u001b[0m\u001b[0mself\u001b[0m\u001b[0;34m)\u001b[0m\u001b[0;34m:\u001b[0m\u001b[0;34m\u001b[0m\u001b[0m\n",
      "\u001b[0;32m~/anaconda3/lib/python3.6/site-packages/sklearn/ensemble/forest.py\u001b[0m in \u001b[0;36m_parallel_build_trees\u001b[0;34m(tree, forest, X, y, sample_weight, tree_idx, n_trees, verbose, class_weight)\u001b[0m\n\u001b[1;32m    119\u001b[0m             \u001b[0mcurr_sample_weight\u001b[0m \u001b[0;34m*=\u001b[0m \u001b[0mcompute_sample_weight\u001b[0m\u001b[0;34m(\u001b[0m\u001b[0;34m'balanced'\u001b[0m\u001b[0;34m,\u001b[0m \u001b[0my\u001b[0m\u001b[0;34m,\u001b[0m \u001b[0mindices\u001b[0m\u001b[0;34m)\u001b[0m\u001b[0;34m\u001b[0m\u001b[0m\n\u001b[1;32m    120\u001b[0m \u001b[0;34m\u001b[0m\u001b[0m\n\u001b[0;32m--> 121\u001b[0;31m         \u001b[0mtree\u001b[0m\u001b[0;34m.\u001b[0m\u001b[0mfit\u001b[0m\u001b[0;34m(\u001b[0m\u001b[0mX\u001b[0m\u001b[0;34m,\u001b[0m \u001b[0my\u001b[0m\u001b[0;34m,\u001b[0m \u001b[0msample_weight\u001b[0m\u001b[0;34m=\u001b[0m\u001b[0mcurr_sample_weight\u001b[0m\u001b[0;34m,\u001b[0m \u001b[0mcheck_input\u001b[0m\u001b[0;34m=\u001b[0m\u001b[0;32mFalse\u001b[0m\u001b[0;34m)\u001b[0m\u001b[0;34m\u001b[0m\u001b[0m\n\u001b[0m\u001b[1;32m    122\u001b[0m     \u001b[0;32melse\u001b[0m\u001b[0;34m:\u001b[0m\u001b[0;34m\u001b[0m\u001b[0m\n\u001b[1;32m    123\u001b[0m         \u001b[0mtree\u001b[0m\u001b[0;34m.\u001b[0m\u001b[0mfit\u001b[0m\u001b[0;34m(\u001b[0m\u001b[0mX\u001b[0m\u001b[0;34m,\u001b[0m \u001b[0my\u001b[0m\u001b[0;34m,\u001b[0m \u001b[0msample_weight\u001b[0m\u001b[0;34m=\u001b[0m\u001b[0msample_weight\u001b[0m\u001b[0;34m,\u001b[0m \u001b[0mcheck_input\u001b[0m\u001b[0;34m=\u001b[0m\u001b[0;32mFalse\u001b[0m\u001b[0;34m)\u001b[0m\u001b[0;34m\u001b[0m\u001b[0m\n",
      "\u001b[0;32m~/anaconda3/lib/python3.6/site-packages/sklearn/tree/tree.py\u001b[0m in \u001b[0;36mfit\u001b[0;34m(self, X, y, sample_weight, check_input, X_idx_sorted)\u001b[0m\n\u001b[1;32m    788\u001b[0m             \u001b[0msample_weight\u001b[0m\u001b[0;34m=\u001b[0m\u001b[0msample_weight\u001b[0m\u001b[0;34m,\u001b[0m\u001b[0;34m\u001b[0m\u001b[0m\n\u001b[1;32m    789\u001b[0m             \u001b[0mcheck_input\u001b[0m\u001b[0;34m=\u001b[0m\u001b[0mcheck_input\u001b[0m\u001b[0;34m,\u001b[0m\u001b[0;34m\u001b[0m\u001b[0m\n\u001b[0;32m--> 790\u001b[0;31m             X_idx_sorted=X_idx_sorted)\n\u001b[0m\u001b[1;32m    791\u001b[0m         \u001b[0;32mreturn\u001b[0m \u001b[0mself\u001b[0m\u001b[0;34m\u001b[0m\u001b[0m\n\u001b[1;32m    792\u001b[0m \u001b[0;34m\u001b[0m\u001b[0m\n",
      "\u001b[0;32m~/anaconda3/lib/python3.6/site-packages/sklearn/tree/tree.py\u001b[0m in \u001b[0;36mfit\u001b[0;34m(self, X, y, sample_weight, check_input, X_idx_sorted)\u001b[0m\n\u001b[1;32m    360\u001b[0m                                            min_impurity_split)\n\u001b[1;32m    361\u001b[0m \u001b[0;34m\u001b[0m\u001b[0m\n\u001b[0;32m--> 362\u001b[0;31m         \u001b[0mbuilder\u001b[0m\u001b[0;34m.\u001b[0m\u001b[0mbuild\u001b[0m\u001b[0;34m(\u001b[0m\u001b[0mself\u001b[0m\u001b[0;34m.\u001b[0m\u001b[0mtree_\u001b[0m\u001b[0;34m,\u001b[0m \u001b[0mX\u001b[0m\u001b[0;34m,\u001b[0m \u001b[0my\u001b[0m\u001b[0;34m,\u001b[0m \u001b[0msample_weight\u001b[0m\u001b[0;34m,\u001b[0m \u001b[0mX_idx_sorted\u001b[0m\u001b[0;34m)\u001b[0m\u001b[0;34m\u001b[0m\u001b[0m\n\u001b[0m\u001b[1;32m    363\u001b[0m \u001b[0;34m\u001b[0m\u001b[0m\n\u001b[1;32m    364\u001b[0m         \u001b[0;32mif\u001b[0m \u001b[0mself\u001b[0m\u001b[0;34m.\u001b[0m\u001b[0mn_outputs_\u001b[0m \u001b[0;34m==\u001b[0m \u001b[0;36m1\u001b[0m\u001b[0;34m:\u001b[0m\u001b[0;34m\u001b[0m\u001b[0m\n",
      "\u001b[0;31mKeyboardInterrupt\u001b[0m: "
     ]
    }
   ],
   "source": [
    "n_estimators = 1000\n",
    "\n",
    "clf = RandomForestClassifier(n_estimators = n_estimators, criterion = 'gini')\n",
    "max_depth = np.arange(2, 21)\n",
    "\n",
    "train_err = eval_tree_based_model_max_depth(clf, max_depth, X_train, \n",
    "                                                        y_train, X_test)"
   ]
  },
  {
   "cell_type": "code",
   "execution_count": 249,
   "metadata": {
    "collapsed": true
   },
   "outputs": [],
   "source": [
    "\n",
    "\n",
    "n_estimators = 1000\n",
    "\n",
    "clf = RandomForestClassifier(n_estimators = n_estimators, criterion = 'gini')\n",
    "\n",
    "clf.max_depth = 15\n",
    "\n",
    "\n",
    "select = SelectPercentile(percentile=10)\n",
    "select.fit(X_tr, y_tr)\n",
    "X_train_selected = select.transform(X_tr)\n",
    "\n",
    "\n",
    "clf.fit(X_train_selected, y_tr)\n",
    "\n",
    "\n",
    "training_predictions = clf.predict(X_train_selected)\n",
    "training_error = 1 - accuracy_score(y_tr, training_predictions)"
   ]
  },
  {
   "cell_type": "code",
   "execution_count": 250,
   "metadata": {},
   "outputs": [
    {
     "name": "stdout",
     "output_type": "stream",
     "text": [
      "0.16500000000000004\n"
     ]
    }
   ],
   "source": [
    "print(training_error)"
   ]
  },
  {
   "cell_type": "code",
   "execution_count": 251,
   "metadata": {
    "collapsed": true
   },
   "outputs": [],
   "source": [
    "X_test_selected = select.transform(X_tst)\n",
    "\n",
    "\n",
    "test_predictions = clf.predict(X_test_selected)\n",
    "\n",
    "test_error = 1 - accuracy_score(y_tst, test_predictions)"
   ]
  },
  {
   "cell_type": "code",
   "execution_count": 252,
   "metadata": {},
   "outputs": [
    {
     "name": "stdout",
     "output_type": "stream",
     "text": [
      "0.2076\n"
     ]
    }
   ],
   "source": [
    "print(test_error)"
   ]
  },
  {
   "cell_type": "code",
   "execution_count": 78,
   "metadata": {
    "collapsed": true
   },
   "outputs": [],
   "source": [
    "test_predictions = []\n",
    "\n",
    "transformed_X_test = select.transform(X_test)\n",
    "    "
   ]
  },
  {
   "cell_type": "code",
   "execution_count": 185,
   "metadata": {
    "collapsed": true
   },
   "outputs": [],
   "source": [
    "test_predictions = log_reg_CV.predict(transformed_X_test)\n"
   ]
  },
  {
   "cell_type": "code",
   "execution_count": 186,
   "metadata": {},
   "outputs": [
    {
     "name": "stdout",
     "output_type": "stream",
     "text": [
      "[1. 1. 0. ... 0. 1. 0.]\n"
     ]
    }
   ],
   "source": [
    "cl"
   ]
  },
  {
   "cell_type": "code",
   "execution_count": 187,
   "metadata": {},
   "outputs": [
    {
     "name": "stdout",
     "output_type": "stream",
     "text": [
      "10000\n"
     ]
    }
   ],
   "source": [
    "print(len(test_predictions))"
   ]
  },
  {
   "cell_type": "code",
   "execution_count": 23,
   "metadata": {
    "collapsed": true
   },
   "outputs": [],
   "source": [
    "ids = [i for i in range(1,10001)]"
   ]
  },
  {
   "cell_type": "code",
   "execution_count": 21,
   "metadata": {
    "collapsed": true
   },
   "outputs": [],
   "source": [
    "import pandas as pd"
   ]
  },
  {
   "cell_type": "code",
   "execution_count": 193,
   "metadata": {
    "collapsed": true
   },
   "outputs": [],
   "source": [
    "test_predictions = [int(i) for i in test_predictions]"
   ]
  },
  {
   "cell_type": "code",
   "execution_count": 194,
   "metadata": {
    "collapsed": true
   },
   "outputs": [],
   "source": [
    "guess_df = pd.DataFrame(\n",
    "    {'Id': ids,\n",
    "     'Prediction': test_predictions\n",
    "    })"
   ]
  },
  {
   "cell_type": "code",
   "execution_count": 196,
   "metadata": {
    "collapsed": true
   },
   "outputs": [],
   "source": [
    "guess_df.to_csv(\"first_predictions.csv\")"
   ]
  },
  {
   "cell_type": "code",
   "execution_count": 126,
   "metadata": {
    "collapsed": true
   },
   "outputs": [],
   "source": [
    "# combine the svm and the logistic regressions\n",
    "\n",
    "clfs = [log_reg_CV, svc]\n",
    "ens = Ensemble(classifiers=clfs)\n",
    "\n",
    "\n",
    "\n",
    "\n",
    "# Since you have only 2 classifiers 'majority_vote' is note an option,\n",
    "# rule = ['mean', 'majority_vote', 'max', 'min', 'median']\n",
    "comb = Combiner(rule='mean')\n",
    "\n",
    "# now create your ensemble classifier\n",
    "ensemble_clf = EnsembleClassifier(ensemble=ens, combiner=comb)\n",
    "#ensemble_clf.predict(X)\n",
    "\n",
    "\n"
   ]
  },
  {
   "cell_type": "code",
   "execution_count": 128,
   "metadata": {},
   "outputs": [
    {
     "ename": "IndexError",
     "evalue": "index 7500 is out of bounds for axis 0 with size 7500",
     "output_type": "error",
     "traceback": [
      "\u001b[0;31m---------------------------------------------------------------------------\u001b[0m",
      "\u001b[0;31mIndexError\u001b[0m                                Traceback (most recent call last)",
      "\u001b[0;32m<ipython-input-128-1be9e383a495>\u001b[0m in \u001b[0;36m<module>\u001b[0;34m()\u001b[0m\n\u001b[0;32m----> 1\u001b[0;31m \u001b[0msclf\u001b[0m\u001b[0;34m.\u001b[0m\u001b[0mfit\u001b[0m\u001b[0;34m(\u001b[0m\u001b[0mX_train_selected\u001b[0m\u001b[0;34m,\u001b[0m \u001b[0my_tr\u001b[0m\u001b[0;34m)\u001b[0m\u001b[0;34m\u001b[0m\u001b[0m\n\u001b[0m\u001b[1;32m      2\u001b[0m \u001b[0mtraining_predictions\u001b[0m \u001b[0;34m=\u001b[0m \u001b[0mnp\u001b[0m\u001b[0;34m.\u001b[0m\u001b[0msign\u001b[0m\u001b[0;34m(\u001b[0m\u001b[0msclf\u001b[0m\u001b[0;34m.\u001b[0m\u001b[0mpredict\u001b[0m\u001b[0;34m(\u001b[0m\u001b[0mX_train_selected\u001b[0m\u001b[0;34m)\u001b[0m\u001b[0;34m)\u001b[0m\u001b[0;34m\u001b[0m\u001b[0m\n\u001b[1;32m      3\u001b[0m \u001b[0mbinarytrain_error\u001b[0m \u001b[0;34m=\u001b[0m \u001b[0;34m(\u001b[0m\u001b[0mtraining_predictions\u001b[0m\u001b[0;34m!=\u001b[0m\u001b[0my_tr\u001b[0m\u001b[0;34m)\u001b[0m\u001b[0;34m.\u001b[0m\u001b[0msum\u001b[0m\u001b[0;34m(\u001b[0m\u001b[0;34m)\u001b[0m\u001b[0;34m\u001b[0m\u001b[0m\n\u001b[1;32m      4\u001b[0m \u001b[0;34m\u001b[0m\u001b[0m\n\u001b[1;32m      5\u001b[0m \u001b[0;34m\u001b[0m\u001b[0m\n",
      "\u001b[0;32m~/anaconda3/lib/python3.6/site-packages/brew/stacking/stacker.py\u001b[0m in \u001b[0;36mfit\u001b[0;34m(self, X, y)\u001b[0m\n\u001b[1;32m     81\u001b[0m \u001b[0;34m\u001b[0m\u001b[0m\n\u001b[1;32m     82\u001b[0m     \u001b[0;32mdef\u001b[0m \u001b[0mfit\u001b[0m\u001b[0;34m(\u001b[0m\u001b[0mself\u001b[0m\u001b[0;34m,\u001b[0m \u001b[0mX\u001b[0m\u001b[0;34m,\u001b[0m \u001b[0my\u001b[0m\u001b[0;34m)\u001b[0m\u001b[0;34m:\u001b[0m\u001b[0;34m\u001b[0m\u001b[0m\n\u001b[0;32m---> 83\u001b[0;31m         \u001b[0mself\u001b[0m\u001b[0;34m.\u001b[0m\u001b[0mstack\u001b[0m\u001b[0;34m.\u001b[0m\u001b[0mfit\u001b[0m\u001b[0;34m(\u001b[0m\u001b[0mX\u001b[0m\u001b[0;34m,\u001b[0m \u001b[0my\u001b[0m\u001b[0;34m)\u001b[0m\u001b[0;34m\u001b[0m\u001b[0m\n\u001b[0m\u001b[1;32m     84\u001b[0m         \u001b[0;32mreturn\u001b[0m \u001b[0mself\u001b[0m\u001b[0;34m\u001b[0m\u001b[0m\n\u001b[1;32m     85\u001b[0m \u001b[0;34m\u001b[0m\u001b[0m\n",
      "\u001b[0;32m~/anaconda3/lib/python3.6/site-packages/brew/stacking/stacker.py\u001b[0m in \u001b[0;36mfit\u001b[0;34m(self, X, y)\u001b[0m\n\u001b[1;32m     41\u001b[0m     \u001b[0;32mdef\u001b[0m \u001b[0mfit\u001b[0m\u001b[0;34m(\u001b[0m\u001b[0mself\u001b[0m\u001b[0;34m,\u001b[0m \u001b[0mX\u001b[0m\u001b[0;34m,\u001b[0m \u001b[0my\u001b[0m\u001b[0;34m)\u001b[0m\u001b[0;34m:\u001b[0m\u001b[0;34m\u001b[0m\u001b[0m\n\u001b[1;32m     42\u001b[0m         \u001b[0;32mif\u001b[0m \u001b[0mself\u001b[0m\u001b[0;34m.\u001b[0m\u001b[0mcv\u001b[0m \u001b[0;34m>\u001b[0m \u001b[0;36m1\u001b[0m\u001b[0;34m:\u001b[0m\u001b[0;34m\u001b[0m\u001b[0m\n\u001b[0;32m---> 43\u001b[0;31m             \u001b[0mself\u001b[0m\u001b[0;34m.\u001b[0m\u001b[0mfit_layer\u001b[0m\u001b[0;34m(\u001b[0m\u001b[0;36m0\u001b[0m\u001b[0;34m,\u001b[0m \u001b[0mX\u001b[0m\u001b[0;34m,\u001b[0m \u001b[0my\u001b[0m\u001b[0;34m)\u001b[0m\u001b[0;34m\u001b[0m\u001b[0m\n\u001b[0m\u001b[1;32m     44\u001b[0m         \u001b[0;32melse\u001b[0m\u001b[0;34m:\u001b[0m\u001b[0;34m\u001b[0m\u001b[0m\n\u001b[1;32m     45\u001b[0m             \u001b[0mX_\u001b[0m \u001b[0;34m=\u001b[0m \u001b[0mX\u001b[0m\u001b[0;34m\u001b[0m\u001b[0m\n",
      "\u001b[0;32m~/anaconda3/lib/python3.6/site-packages/brew/stacking/stacker.py\u001b[0m in \u001b[0;36mfit_layer\u001b[0;34m(self, layer_idx, X, y)\u001b[0m\n\u001b[1;32m     31\u001b[0m             \u001b[0mskf\u001b[0m \u001b[0;34m=\u001b[0m \u001b[0mcross_validation\u001b[0m\u001b[0;34m.\u001b[0m\u001b[0mStratifiedKFold\u001b[0m\u001b[0;34m(\u001b[0m\u001b[0my\u001b[0m\u001b[0;34m,\u001b[0m \u001b[0mself\u001b[0m\u001b[0;34m.\u001b[0m\u001b[0mcv\u001b[0m\u001b[0;34m)\u001b[0m\u001b[0;34m\u001b[0m\u001b[0m\n\u001b[1;32m     32\u001b[0m             \u001b[0;32mfor\u001b[0m \u001b[0mtra\u001b[0m\u001b[0;34m,\u001b[0m \u001b[0mtst\u001b[0m \u001b[0;32min\u001b[0m \u001b[0mskf\u001b[0m\u001b[0;34m:\u001b[0m\u001b[0;34m\u001b[0m\u001b[0m\n\u001b[0;32m---> 33\u001b[0;31m                 \u001b[0mself\u001b[0m\u001b[0;34m.\u001b[0m\u001b[0mlayers\u001b[0m\u001b[0;34m[\u001b[0m\u001b[0mlayer_idx\u001b[0m\u001b[0;34m]\u001b[0m\u001b[0;34m.\u001b[0m\u001b[0mfit\u001b[0m\u001b[0;34m(\u001b[0m\u001b[0mX\u001b[0m\u001b[0;34m[\u001b[0m\u001b[0mtra\u001b[0m\u001b[0;34m]\u001b[0m\u001b[0;34m,\u001b[0m \u001b[0my\u001b[0m\u001b[0;34m[\u001b[0m\u001b[0mtra\u001b[0m\u001b[0;34m]\u001b[0m\u001b[0;34m)\u001b[0m\u001b[0;34m\u001b[0m\u001b[0m\n\u001b[0m\u001b[1;32m     34\u001b[0m                 \u001b[0mout\u001b[0m \u001b[0;34m=\u001b[0m \u001b[0mself\u001b[0m\u001b[0;34m.\u001b[0m\u001b[0mlayers\u001b[0m\u001b[0;34m[\u001b[0m\u001b[0mlayer_idx\u001b[0m\u001b[0;34m]\u001b[0m\u001b[0;34m.\u001b[0m\u001b[0moutput\u001b[0m\u001b[0;34m(\u001b[0m\u001b[0mX\u001b[0m\u001b[0;34m[\u001b[0m\u001b[0mtst\u001b[0m\u001b[0;34m]\u001b[0m\u001b[0;34m,\u001b[0m \u001b[0mmode\u001b[0m\u001b[0;34m=\u001b[0m\u001b[0mself\u001b[0m\u001b[0;34m.\u001b[0m\u001b[0mmode\u001b[0m\u001b[0;34m)\u001b[0m\u001b[0;34m\u001b[0m\u001b[0m\n\u001b[1;32m     35\u001b[0m                 output[tst, :] = out[:, 1:, :].reshape(\n",
      "\u001b[0;32m~/anaconda3/lib/python3.6/site-packages/brew/base.py\u001b[0m in \u001b[0;36mfit\u001b[0;34m(self, X, y)\u001b[0m\n\u001b[1;32m    223\u001b[0m         '''\n\u001b[1;32m    224\u001b[0m         \u001b[0;32mfor\u001b[0m \u001b[0mclf\u001b[0m \u001b[0;32min\u001b[0m \u001b[0mself\u001b[0m\u001b[0;34m.\u001b[0m\u001b[0mclassifiers\u001b[0m\u001b[0;34m:\u001b[0m\u001b[0;34m\u001b[0m\u001b[0m\n\u001b[0;32m--> 225\u001b[0;31m             \u001b[0mclf\u001b[0m\u001b[0;34m.\u001b[0m\u001b[0mfit\u001b[0m\u001b[0;34m(\u001b[0m\u001b[0mX\u001b[0m\u001b[0;34m,\u001b[0m \u001b[0my\u001b[0m\u001b[0;34m)\u001b[0m\u001b[0;34m\u001b[0m\u001b[0m\n\u001b[0m\u001b[1;32m    226\u001b[0m \u001b[0;34m\u001b[0m\u001b[0m\n\u001b[1;32m    227\u001b[0m         \u001b[0;32mreturn\u001b[0m \u001b[0mself\u001b[0m\u001b[0;34m\u001b[0m\u001b[0m\n",
      "\u001b[0;32m~/anaconda3/lib/python3.6/site-packages/sklearn/linear_model/logistic.py\u001b[0m in \u001b[0;36mfit\u001b[0;34m(self, X, y, sample_weight)\u001b[0m\n\u001b[1;32m   1685\u001b[0m                       \u001b[0msample_weight\u001b[0m\u001b[0;34m=\u001b[0m\u001b[0msample_weight\u001b[0m\u001b[0;34m\u001b[0m\u001b[0m\n\u001b[1;32m   1686\u001b[0m                       )\n\u001b[0;32m-> 1687\u001b[0;31m             \u001b[0;32mfor\u001b[0m \u001b[0mlabel\u001b[0m \u001b[0;32min\u001b[0m \u001b[0miter_encoded_labels\u001b[0m\u001b[0;34m\u001b[0m\u001b[0m\n\u001b[0m\u001b[1;32m   1688\u001b[0m             for train, test in folds)\n\u001b[1;32m   1689\u001b[0m \u001b[0;34m\u001b[0m\u001b[0m\n",
      "\u001b[0;32m~/anaconda3/lib/python3.6/site-packages/sklearn/externals/joblib/parallel.py\u001b[0m in \u001b[0;36m__call__\u001b[0;34m(self, iterable)\u001b[0m\n\u001b[1;32m    777\u001b[0m             \u001b[0;31m# was dispatched. In particular this covers the edge\u001b[0m\u001b[0;34m\u001b[0m\u001b[0;34m\u001b[0m\u001b[0m\n\u001b[1;32m    778\u001b[0m             \u001b[0;31m# case of Parallel used with an exhausted iterator.\u001b[0m\u001b[0;34m\u001b[0m\u001b[0;34m\u001b[0m\u001b[0m\n\u001b[0;32m--> 779\u001b[0;31m             \u001b[0;32mwhile\u001b[0m \u001b[0mself\u001b[0m\u001b[0;34m.\u001b[0m\u001b[0mdispatch_one_batch\u001b[0m\u001b[0;34m(\u001b[0m\u001b[0miterator\u001b[0m\u001b[0;34m)\u001b[0m\u001b[0;34m:\u001b[0m\u001b[0;34m\u001b[0m\u001b[0m\n\u001b[0m\u001b[1;32m    780\u001b[0m                 \u001b[0mself\u001b[0m\u001b[0;34m.\u001b[0m\u001b[0m_iterating\u001b[0m \u001b[0;34m=\u001b[0m \u001b[0;32mTrue\u001b[0m\u001b[0;34m\u001b[0m\u001b[0m\n\u001b[1;32m    781\u001b[0m             \u001b[0;32melse\u001b[0m\u001b[0;34m:\u001b[0m\u001b[0;34m\u001b[0m\u001b[0m\n",
      "\u001b[0;32m~/anaconda3/lib/python3.6/site-packages/sklearn/externals/joblib/parallel.py\u001b[0m in \u001b[0;36mdispatch_one_batch\u001b[0;34m(self, iterator)\u001b[0m\n\u001b[1;32m    623\u001b[0m                 \u001b[0;32mreturn\u001b[0m \u001b[0;32mFalse\u001b[0m\u001b[0;34m\u001b[0m\u001b[0m\n\u001b[1;32m    624\u001b[0m             \u001b[0;32melse\u001b[0m\u001b[0;34m:\u001b[0m\u001b[0;34m\u001b[0m\u001b[0m\n\u001b[0;32m--> 625\u001b[0;31m                 \u001b[0mself\u001b[0m\u001b[0;34m.\u001b[0m\u001b[0m_dispatch\u001b[0m\u001b[0;34m(\u001b[0m\u001b[0mtasks\u001b[0m\u001b[0;34m)\u001b[0m\u001b[0;34m\u001b[0m\u001b[0m\n\u001b[0m\u001b[1;32m    626\u001b[0m                 \u001b[0;32mreturn\u001b[0m \u001b[0;32mTrue\u001b[0m\u001b[0;34m\u001b[0m\u001b[0m\n\u001b[1;32m    627\u001b[0m \u001b[0;34m\u001b[0m\u001b[0m\n",
      "\u001b[0;32m~/anaconda3/lib/python3.6/site-packages/sklearn/externals/joblib/parallel.py\u001b[0m in \u001b[0;36m_dispatch\u001b[0;34m(self, batch)\u001b[0m\n\u001b[1;32m    586\u001b[0m         \u001b[0mdispatch_timestamp\u001b[0m \u001b[0;34m=\u001b[0m \u001b[0mtime\u001b[0m\u001b[0;34m.\u001b[0m\u001b[0mtime\u001b[0m\u001b[0;34m(\u001b[0m\u001b[0;34m)\u001b[0m\u001b[0;34m\u001b[0m\u001b[0m\n\u001b[1;32m    587\u001b[0m         \u001b[0mcb\u001b[0m \u001b[0;34m=\u001b[0m \u001b[0mBatchCompletionCallBack\u001b[0m\u001b[0;34m(\u001b[0m\u001b[0mdispatch_timestamp\u001b[0m\u001b[0;34m,\u001b[0m \u001b[0mlen\u001b[0m\u001b[0;34m(\u001b[0m\u001b[0mbatch\u001b[0m\u001b[0;34m)\u001b[0m\u001b[0;34m,\u001b[0m \u001b[0mself\u001b[0m\u001b[0;34m)\u001b[0m\u001b[0;34m\u001b[0m\u001b[0m\n\u001b[0;32m--> 588\u001b[0;31m         \u001b[0mjob\u001b[0m \u001b[0;34m=\u001b[0m \u001b[0mself\u001b[0m\u001b[0;34m.\u001b[0m\u001b[0m_backend\u001b[0m\u001b[0;34m.\u001b[0m\u001b[0mapply_async\u001b[0m\u001b[0;34m(\u001b[0m\u001b[0mbatch\u001b[0m\u001b[0;34m,\u001b[0m \u001b[0mcallback\u001b[0m\u001b[0;34m=\u001b[0m\u001b[0mcb\u001b[0m\u001b[0;34m)\u001b[0m\u001b[0;34m\u001b[0m\u001b[0m\n\u001b[0m\u001b[1;32m    589\u001b[0m         \u001b[0mself\u001b[0m\u001b[0;34m.\u001b[0m\u001b[0m_jobs\u001b[0m\u001b[0;34m.\u001b[0m\u001b[0mappend\u001b[0m\u001b[0;34m(\u001b[0m\u001b[0mjob\u001b[0m\u001b[0;34m)\u001b[0m\u001b[0;34m\u001b[0m\u001b[0m\n\u001b[1;32m    590\u001b[0m \u001b[0;34m\u001b[0m\u001b[0m\n",
      "\u001b[0;32m~/anaconda3/lib/python3.6/site-packages/sklearn/externals/joblib/_parallel_backends.py\u001b[0m in \u001b[0;36mapply_async\u001b[0;34m(self, func, callback)\u001b[0m\n\u001b[1;32m    109\u001b[0m     \u001b[0;32mdef\u001b[0m \u001b[0mapply_async\u001b[0m\u001b[0;34m(\u001b[0m\u001b[0mself\u001b[0m\u001b[0;34m,\u001b[0m \u001b[0mfunc\u001b[0m\u001b[0;34m,\u001b[0m \u001b[0mcallback\u001b[0m\u001b[0;34m=\u001b[0m\u001b[0;32mNone\u001b[0m\u001b[0;34m)\u001b[0m\u001b[0;34m:\u001b[0m\u001b[0;34m\u001b[0m\u001b[0m\n\u001b[1;32m    110\u001b[0m         \u001b[0;34m\"\"\"Schedule a func to be run\"\"\"\u001b[0m\u001b[0;34m\u001b[0m\u001b[0m\n\u001b[0;32m--> 111\u001b[0;31m         \u001b[0mresult\u001b[0m \u001b[0;34m=\u001b[0m \u001b[0mImmediateResult\u001b[0m\u001b[0;34m(\u001b[0m\u001b[0mfunc\u001b[0m\u001b[0;34m)\u001b[0m\u001b[0;34m\u001b[0m\u001b[0m\n\u001b[0m\u001b[1;32m    112\u001b[0m         \u001b[0;32mif\u001b[0m \u001b[0mcallback\u001b[0m\u001b[0;34m:\u001b[0m\u001b[0;34m\u001b[0m\u001b[0m\n\u001b[1;32m    113\u001b[0m             \u001b[0mcallback\u001b[0m\u001b[0;34m(\u001b[0m\u001b[0mresult\u001b[0m\u001b[0;34m)\u001b[0m\u001b[0;34m\u001b[0m\u001b[0m\n",
      "\u001b[0;32m~/anaconda3/lib/python3.6/site-packages/sklearn/externals/joblib/_parallel_backends.py\u001b[0m in \u001b[0;36m__init__\u001b[0;34m(self, batch)\u001b[0m\n\u001b[1;32m    330\u001b[0m         \u001b[0;31m# Don't delay the application, to avoid keeping the input\u001b[0m\u001b[0;34m\u001b[0m\u001b[0;34m\u001b[0m\u001b[0m\n\u001b[1;32m    331\u001b[0m         \u001b[0;31m# arguments in memory\u001b[0m\u001b[0;34m\u001b[0m\u001b[0;34m\u001b[0m\u001b[0m\n\u001b[0;32m--> 332\u001b[0;31m         \u001b[0mself\u001b[0m\u001b[0;34m.\u001b[0m\u001b[0mresults\u001b[0m \u001b[0;34m=\u001b[0m \u001b[0mbatch\u001b[0m\u001b[0;34m(\u001b[0m\u001b[0;34m)\u001b[0m\u001b[0;34m\u001b[0m\u001b[0m\n\u001b[0m\u001b[1;32m    333\u001b[0m \u001b[0;34m\u001b[0m\u001b[0m\n\u001b[1;32m    334\u001b[0m     \u001b[0;32mdef\u001b[0m \u001b[0mget\u001b[0m\u001b[0;34m(\u001b[0m\u001b[0mself\u001b[0m\u001b[0;34m)\u001b[0m\u001b[0;34m:\u001b[0m\u001b[0;34m\u001b[0m\u001b[0m\n",
      "\u001b[0;32m~/anaconda3/lib/python3.6/site-packages/sklearn/externals/joblib/parallel.py\u001b[0m in \u001b[0;36m__call__\u001b[0;34m(self)\u001b[0m\n\u001b[1;32m    129\u001b[0m \u001b[0;34m\u001b[0m\u001b[0m\n\u001b[1;32m    130\u001b[0m     \u001b[0;32mdef\u001b[0m \u001b[0m__call__\u001b[0m\u001b[0;34m(\u001b[0m\u001b[0mself\u001b[0m\u001b[0;34m)\u001b[0m\u001b[0;34m:\u001b[0m\u001b[0;34m\u001b[0m\u001b[0m\n\u001b[0;32m--> 131\u001b[0;31m         \u001b[0;32mreturn\u001b[0m \u001b[0;34m[\u001b[0m\u001b[0mfunc\u001b[0m\u001b[0;34m(\u001b[0m\u001b[0;34m*\u001b[0m\u001b[0margs\u001b[0m\u001b[0;34m,\u001b[0m \u001b[0;34m**\u001b[0m\u001b[0mkwargs\u001b[0m\u001b[0;34m)\u001b[0m \u001b[0;32mfor\u001b[0m \u001b[0mfunc\u001b[0m\u001b[0;34m,\u001b[0m \u001b[0margs\u001b[0m\u001b[0;34m,\u001b[0m \u001b[0mkwargs\u001b[0m \u001b[0;32min\u001b[0m \u001b[0mself\u001b[0m\u001b[0;34m.\u001b[0m\u001b[0mitems\u001b[0m\u001b[0;34m]\u001b[0m\u001b[0;34m\u001b[0m\u001b[0m\n\u001b[0m\u001b[1;32m    132\u001b[0m \u001b[0;34m\u001b[0m\u001b[0m\n\u001b[1;32m    133\u001b[0m     \u001b[0;32mdef\u001b[0m \u001b[0m__len__\u001b[0m\u001b[0;34m(\u001b[0m\u001b[0mself\u001b[0m\u001b[0;34m)\u001b[0m\u001b[0;34m:\u001b[0m\u001b[0;34m\u001b[0m\u001b[0m\n",
      "\u001b[0;32m~/anaconda3/lib/python3.6/site-packages/sklearn/externals/joblib/parallel.py\u001b[0m in \u001b[0;36m<listcomp>\u001b[0;34m(.0)\u001b[0m\n\u001b[1;32m    129\u001b[0m \u001b[0;34m\u001b[0m\u001b[0m\n\u001b[1;32m    130\u001b[0m     \u001b[0;32mdef\u001b[0m \u001b[0m__call__\u001b[0m\u001b[0;34m(\u001b[0m\u001b[0mself\u001b[0m\u001b[0;34m)\u001b[0m\u001b[0;34m:\u001b[0m\u001b[0;34m\u001b[0m\u001b[0m\n\u001b[0;32m--> 131\u001b[0;31m         \u001b[0;32mreturn\u001b[0m \u001b[0;34m[\u001b[0m\u001b[0mfunc\u001b[0m\u001b[0;34m(\u001b[0m\u001b[0;34m*\u001b[0m\u001b[0margs\u001b[0m\u001b[0;34m,\u001b[0m \u001b[0;34m**\u001b[0m\u001b[0mkwargs\u001b[0m\u001b[0;34m)\u001b[0m \u001b[0;32mfor\u001b[0m \u001b[0mfunc\u001b[0m\u001b[0;34m,\u001b[0m \u001b[0margs\u001b[0m\u001b[0;34m,\u001b[0m \u001b[0mkwargs\u001b[0m \u001b[0;32min\u001b[0m \u001b[0mself\u001b[0m\u001b[0;34m.\u001b[0m\u001b[0mitems\u001b[0m\u001b[0;34m]\u001b[0m\u001b[0;34m\u001b[0m\u001b[0m\n\u001b[0m\u001b[1;32m    132\u001b[0m \u001b[0;34m\u001b[0m\u001b[0m\n\u001b[1;32m    133\u001b[0m     \u001b[0;32mdef\u001b[0m \u001b[0m__len__\u001b[0m\u001b[0;34m(\u001b[0m\u001b[0mself\u001b[0m\u001b[0;34m)\u001b[0m\u001b[0;34m:\u001b[0m\u001b[0;34m\u001b[0m\u001b[0m\n",
      "\u001b[0;32m~/anaconda3/lib/python3.6/site-packages/sklearn/linear_model/logistic.py\u001b[0m in \u001b[0;36m_log_reg_scoring_path\u001b[0;34m(X, y, train, test, pos_class, Cs, scoring, fit_intercept, max_iter, tol, class_weight, verbose, solver, penalty, dual, intercept_scaling, multi_class, random_state, max_squared_sum, sample_weight)\u001b[0m\n\u001b[1;32m    903\u001b[0m     \u001b[0m_check_solver_option\u001b[0m\u001b[0;34m(\u001b[0m\u001b[0msolver\u001b[0m\u001b[0;34m,\u001b[0m \u001b[0mmulti_class\u001b[0m\u001b[0;34m,\u001b[0m \u001b[0mpenalty\u001b[0m\u001b[0;34m,\u001b[0m \u001b[0mdual\u001b[0m\u001b[0;34m)\u001b[0m\u001b[0;34m\u001b[0m\u001b[0m\n\u001b[1;32m    904\u001b[0m \u001b[0;34m\u001b[0m\u001b[0m\n\u001b[0;32m--> 905\u001b[0;31m     \u001b[0mX_train\u001b[0m \u001b[0;34m=\u001b[0m \u001b[0mX\u001b[0m\u001b[0;34m[\u001b[0m\u001b[0mtrain\u001b[0m\u001b[0;34m]\u001b[0m\u001b[0;34m\u001b[0m\u001b[0m\n\u001b[0m\u001b[1;32m    906\u001b[0m     \u001b[0mX_test\u001b[0m \u001b[0;34m=\u001b[0m \u001b[0mX\u001b[0m\u001b[0;34m[\u001b[0m\u001b[0mtest\u001b[0m\u001b[0;34m]\u001b[0m\u001b[0;34m\u001b[0m\u001b[0m\n\u001b[1;32m    907\u001b[0m     \u001b[0my_train\u001b[0m \u001b[0;34m=\u001b[0m \u001b[0my\u001b[0m\u001b[0;34m[\u001b[0m\u001b[0mtrain\u001b[0m\u001b[0;34m]\u001b[0m\u001b[0;34m\u001b[0m\u001b[0m\n",
      "\u001b[0;31mIndexError\u001b[0m: index 7500 is out of bounds for axis 0 with size 7500"
     ]
    }
   ],
   "source": [
    "sclf.fit(X_train_selected, y_tr)\n",
    "training_predictions = np.sign(sclf.predict(X_train_selected))\n",
    "binarytrain_error = (training_predictions!=y_tr).sum()\n",
    "\n",
    "\n",
    "binarytrain_error/15000"
   ]
  },
  {
   "cell_type": "code",
   "execution_count": null,
   "metadata": {
    "collapsed": true
   },
   "outputs": [],
   "source": []
  },
  {
   "cell_type": "code",
   "execution_count": 116,
   "metadata": {},
   "outputs": [
    {
     "data": {
      "text/plain": [
       "0.1504"
      ]
     },
     "execution_count": 116,
     "metadata": {},
     "output_type": "execute_result"
    }
   ],
   "source": [
    "X_test_selected = select.transform(X_tst)\n",
    "test_predictions = np.sign(ensemble_clf.predict(X_test_selected))\n",
    "binarytrain_error = (y_test_prediction!=y_tst).sum()\n",
    "\n",
    "binarytrain_error/5000"
   ]
  },
  {
   "cell_type": "code",
   "execution_count": 117,
   "metadata": {
    "collapsed": true
   },
   "outputs": [],
   "source": [
    "test_predictions = ensemble_clf.predict(transformed_X_test)"
   ]
  },
  {
   "cell_type": "code",
   "execution_count": 118,
   "metadata": {
    "collapsed": true
   },
   "outputs": [],
   "source": [
    "guess_4_df = pd.DataFrame(\n",
    "    {'Id': ids,\n",
    "     'Prediction': test_predictions\n",
    "    })"
   ]
  },
  {
   "cell_type": "code",
   "execution_count": 119,
   "metadata": {
    "collapsed": true
   },
   "outputs": [],
   "source": [
    "guess_4_df.to_csv(\"fourth_predictions.csv\")"
   ]
  },
  {
   "cell_type": "code",
   "execution_count": 88,
   "metadata": {
    "collapsed": true
   },
   "outputs": [],
   "source": [
    "training_errors = []\n",
    "\n",
    "test_errors = []\n",
    "\n",
    "for i in range(10,110,10):\n",
    "    \n",
    "    fold = KFold(len(y_tr), n_folds=5, shuffle=True, random_state=777)\n",
    "\n",
    "    log_reg_CV = LogisticRegressionCV(\n",
    "            Cs=list(np.power(10.0, np.arange(-10, 10)))\n",
    "            ,penalty='l2'\n",
    "            ,scoring='roc_auc'\n",
    "            ,cv=fold\n",
    "            ,random_state=777\n",
    "            ,max_iter=10000\n",
    "            ,fit_intercept=True\n",
    "            ,solver='newton-cg'\n",
    "            ,tol=10\n",
    "        )\n",
    "    \n",
    "\n",
    "    select = SelectPercentile(percentile=i)\n",
    "    select.fit(X_tr, y_tr)\n",
    "    X_train_selected = select.transform(X_tr)\n",
    "    log_reg_CV.fit(X_train_selected, y_tr)\n",
    "    \n",
    "    \n",
    "    y_pred = np.sign(log_reg_CV.predict(X_train_selected))\n",
    "    binarytrain_error = (y_pred!=y_tr).sum()\n",
    "    training_errors.append(binarytrain_error/15000)\n",
    "    \n",
    "    X_test_selected = select.transform(X_tst)\n",
    "\n",
    "    y_test_prediction = np.sign(log_reg_CV.predict(X_test_selected))\n",
    "    binarytest_error = (y_test_prediction!=y_tst).sum()\n",
    "\n",
    "\n",
    "    \n",
    "    test_errors.append(binarytest_error/5000)\n",
    "    "
   ]
  },
  {
   "cell_type": "code",
   "execution_count": 89,
   "metadata": {},
   "outputs": [
    {
     "name": "stdout",
     "output_type": "stream",
     "text": [
      "[0.17573333333333332, 0.1552, 0.14433333333333334, 0.14, 0.13753333333333334, 0.13393333333333332, 0.13026666666666667, 0.12593333333333334, 0.12646666666666667, 0.1234]\n"
     ]
    }
   ],
   "source": [
    "print(training_errors)"
   ]
  },
  {
   "cell_type": "code",
   "execution_count": 90,
   "metadata": {},
   "outputs": [
    {
     "name": "stdout",
     "output_type": "stream",
     "text": [
      "[0.1798, 0.1692, 0.1604, 0.1566, 0.1532, 0.1548, 0.1526, 0.1504, 0.1516, 0.1538]\n"
     ]
    }
   ],
   "source": [
    "print(test_errors)"
   ]
  },
  {
   "cell_type": "code",
   "execution_count": 91,
   "metadata": {},
   "outputs": [
    {
     "name": "stdout",
     "output_type": "stream",
     "text": [
      "0.1504\n"
     ]
    }
   ],
   "source": [
    "print(min(test_errors))"
   ]
  },
  {
   "cell_type": "code",
   "execution_count": 108,
   "metadata": {
    "collapsed": true
   },
   "outputs": [],
   "source": [
    "log_reg_CV = LogisticRegressionCV(\n",
    "            Cs=list(np.power(10.0, np.arange(-10, 10)))\n",
    "            ,penalty='l2'\n",
    "            ,scoring='roc_auc'\n",
    "            ,cv=fold\n",
    "            ,random_state=777\n",
    "            ,max_iter=10000\n",
    "            ,fit_intercept=True\n",
    "            ,solver='newton-cg'\n",
    "            ,tol=10\n",
    "        )\n",
    "    \n",
    "\n",
    "select = SelectPercentile(percentile=80)\n",
    "select.fit(X_tr, y_tr)\n",
    "X_train_selected = select.transform(X_tr)\n",
    "log_reg_CV.fit(X_train_selected, y_tr)\n",
    "\n",
    "\n",
    "y_pred = np.sign(log_reg_CV.predict(X_train_selected))\n",
    "binarytrain_error = (y_pred!=y_tr).sum()\n",
    "training_errors.append(binarytrain_error/15000)\n",
    "\n",
    "X_test_selected = select.transform(X_tst)\n",
    "\n",
    "y_test_prediction = np.sign(log_reg_CV.predict(X_test_selected))\n",
    "binarytest_error = (y_test_prediction!=y_tst).sum()"
   ]
  },
  {
   "cell_type": "code",
   "execution_count": 109,
   "metadata": {},
   "outputs": [
    {
     "name": "stdout",
     "output_type": "stream",
     "text": [
      "0.12593333333333334\n",
      "0.1504\n"
     ]
    }
   ],
   "source": [
    "print(binarytrain_error/15000)\n",
    "print(binarytest_error/5000)"
   ]
  },
  {
   "cell_type": "code",
   "execution_count": 96,
   "metadata": {
    "collapsed": true
   },
   "outputs": [],
   "source": [
    "transformed_X_test = select.transform(X_test)\n",
    "test_predictions = log_reg_CV.predict(transformed_X_test)"
   ]
  },
  {
   "cell_type": "code",
   "execution_count": 98,
   "metadata": {},
   "outputs": [
    {
     "name": "stdout",
     "output_type": "stream",
     "text": [
      "10000\n"
     ]
    }
   ],
   "source": [
    "print(len(test_predictions))"
   ]
  },
  {
   "cell_type": "code",
   "execution_count": 99,
   "metadata": {
    "collapsed": true
   },
   "outputs": [],
   "source": [
    "guess_3_df = pd.DataFrame(\n",
    "    {'Id': ids,\n",
    "     'Prediction': test_predictions\n",
    "    })"
   ]
  },
  {
   "cell_type": "code",
   "execution_count": 100,
   "metadata": {
    "collapsed": true
   },
   "outputs": [],
   "source": [
    "guess_3_df.to_csv(\"third_predictions.csv\")"
   ]
  },
  {
   "cell_type": "code",
   "execution_count": 101,
   "metadata": {},
   "outputs": [
    {
     "data": {
      "text/plain": [
       "SVC(C=1, cache_size=200, class_weight=None, coef0=0.0,\n",
       "  decision_function_shape='ovr', degree=3, gamma='auto', kernel='linear',\n",
       "  max_iter=-1, probability=False, random_state=None, shrinking=True,\n",
       "  tol=0.001, verbose=False)"
      ]
     },
     "execution_count": 101,
     "metadata": {},
     "output_type": "execute_result"
    }
   ],
   "source": [
    "svc = svm.SVC(kernel='linear', C=1,gamma='auto')\n",
    "\n",
    "X_tr, X_tst, y_tr, y_tst = train_test_split(X_train, y_train, random_state=0, test_size=.25)\n",
    "\n",
    "select = SelectPercentile(percentile=80)\n",
    "select.fit(X_tr, y_tr)\n",
    "X_train_selected = select.transform(X_tr)\n",
    "\n",
    "\n",
    "svc.fit(X_train_selected, y_tr)"
   ]
  },
  {
   "cell_type": "code",
   "execution_count": 102,
   "metadata": {
    "collapsed": true
   },
   "outputs": [],
   "source": [
    "y_pred = np.sign(svc.predict(X_train_selected))\n",
    "binarytrain_error = (y_pred!=y_tr).sum()\n",
    "train_error = binarytrain_error/15000\n",
    "\n",
    "X_test_selected = select.transform(X_tst)\n",
    "\n",
    "y_test_prediction = np.sign(svc.predict(X_test_selected))\n",
    "binarytest_error = (y_test_prediction!=y_tst).sum()\n",
    "test_error = binarytest_error/5000"
   ]
  },
  {
   "cell_type": "code",
   "execution_count": 103,
   "metadata": {},
   "outputs": [
    {
     "name": "stdout",
     "output_type": "stream",
     "text": [
      "0.1192\n",
      "0.1566\n"
     ]
    }
   ],
   "source": [
    "print(train_error)\n",
    "\n",
    "print(test_error)"
   ]
  },
  {
   "cell_type": "code",
   "execution_count": 104,
   "metadata": {
    "collapsed": true
   },
   "outputs": [],
   "source": [
    "svc_training_errors = []\n",
    "\n",
    "svc_test_errors = []\n",
    "\n",
    "for i in range(10,110,10):\n",
    "    \n",
    "    svc = svm.SVC(kernel='linear', C=1,gamma='auto')\n",
    "\n",
    "    X_tr, X_tst, y_tr, y_tst = train_test_split(X_train, y_train, random_state=0, test_size=.25)\n",
    "\n",
    "\n",
    "\n",
    "    select = SelectPercentile(percentile=i)\n",
    "    select.fit(X_tr, y_tr)\n",
    "    X_train_selected = select.transform(X_tr)\n",
    "    svc.fit(X_train_selected, y_tr)\n",
    "    \n",
    "    \n",
    "    y_pred = np.sign(svc.predict(X_train_selected))\n",
    "    binarytrain_error = (y_pred!=y_tr).sum()\n",
    "    svc_training_errors.append(binarytrain_error/15000)\n",
    "    \n",
    "    X_test_selected = select.transform(X_tst)\n",
    "\n",
    "    y_test_prediction = np.sign(svc.predict(X_test_selected))\n",
    "    binarytest_error = (y_test_prediction!=y_tst).sum()\n",
    "\n",
    "\n",
    "    \n",
    "    svc_test_errors.append(binarytest_error/5000)"
   ]
  },
  {
   "cell_type": "code",
   "execution_count": 105,
   "metadata": {},
   "outputs": [
    {
     "name": "stdout",
     "output_type": "stream",
     "text": [
      "[0.17666666666666667, 0.15726666666666667, 0.14213333333333333, 0.13886666666666667, 0.1326, 0.12653333333333333, 0.12433333333333334, 0.1192, 0.11746666666666666, 0.11513333333333334]\n",
      "[0.1812, 0.17, 0.1656, 0.1624, 0.1556, 0.158, 0.1614, 0.1566, 0.16, 0.1578]\n"
     ]
    }
   ],
   "source": [
    "print(svc_training_errors)\n",
    "print(svc_test_errors)"
   ]
  },
  {
   "cell_type": "code",
   "execution_count": 107,
   "metadata": {},
   "outputs": [
    {
     "name": "stdout",
     "output_type": "stream",
     "text": [
      "0.1556\n"
     ]
    }
   ],
   "source": [
    "print(min(svc_test_errors))"
   ]
  },
  {
   "cell_type": "code",
   "execution_count": 8,
   "metadata": {
    "collapsed": true
   },
   "outputs": [],
   "source": [
    "fold = KFold(len(y_tr), n_folds=5, shuffle=True, random_state=777)\n",
    "\n",
    "clf_1 = LogisticRegressionCV(\n",
    "            Cs=list(np.power(10.0, np.arange(-10, 10)))\n",
    "            ,penalty='l2'\n",
    "            ,scoring='roc_auc'\n",
    "            ,cv=fold\n",
    "            ,random_state=777\n",
    "            ,max_iter=10000\n",
    "            ,fit_intercept=True\n",
    "            ,solver='newton-cg'\n",
    "            ,tol=10\n",
    "        )\n",
    "clf_2 = svm.SVC(kernel='linear', C=1,gamma='auto')\n",
    "\n",
    "\n",
    "clf_3 = RandomForestClassifier(n_estimators = 1000, criterion = 'gini', min_samples_leaf=1)"
   ]
  },
  {
   "cell_type": "code",
   "execution_count": 9,
   "metadata": {
    "collapsed": true
   },
   "outputs": [],
   "source": [
    "eclf_1 = VotingClassifier(estimators=[('lr', clf_1), ('svm', clf_2)], voting='hard')\n",
    "eclf_2 = VotingClassifier(estimators=[('lr', clf_1), ('svm', clf_2), ('rf', clf_3)], voting='hard')"
   ]
  },
  {
   "cell_type": "code",
   "execution_count": 10,
   "metadata": {
    "collapsed": true
   },
   "outputs": [],
   "source": [
    "X_tr, X_tst, y_tr, y_tst = train_test_split(X_train, y_train, random_state=0, test_size=.25)"
   ]
  },
  {
   "cell_type": "code",
   "execution_count": 11,
   "metadata": {
    "collapsed": true
   },
   "outputs": [],
   "source": [
    "select = SelectPercentile(percentile=80)\n",
    "select.fit(X_tr, y_tr)\n",
    "X_train_selected = select.transform(X_tr)\n",
    "X_test_selected = select.transform(X_tst)\n",
    "\n",
    "#eclf_1 = eclf1.fit(X_train_selected, y_tr)"
   ]
  },
  {
   "cell_type": "code",
   "execution_count": 12,
   "metadata": {},
   "outputs": [
    {
     "name": "stderr",
     "output_type": "stream",
     "text": [
      "/Users/roshanbal/anaconda3/lib/python3.6/site-packages/sklearn/preprocessing/label.py:151: DeprecationWarning: The truth value of an empty array is ambiguous. Returning False, but in future this will result in an error. Use `array.size > 0` to check that an array is not empty.\n",
      "  if diff:\n",
      "/Users/roshanbal/anaconda3/lib/python3.6/site-packages/sklearn/preprocessing/label.py:151: DeprecationWarning: The truth value of an empty array is ambiguous. Returning False, but in future this will result in an error. Use `array.size > 0` to check that an array is not empty.\n",
      "  if diff:\n"
     ]
    }
   ],
   "source": [
    "eclf_2 = eclf_2.fit(X_train_selected, y_tr)\n",
    "\n",
    "y_pred_2 = np.sign(eclf_2.predict(X_train_selected))\n",
    "binarytrain_error_2 = (y_pred_2!=y_tr).sum()\n",
    "\n",
    "\n",
    "X_test_selected_2 = select.transform(X_tst)\n",
    "\n",
    "y_test_prediction = np.sign(eclf_2.predict(X_test_selected))\n",
    "binarytest_error_2 = (y_test_prediction!=y_tst).sum()\n"
   ]
  },
  {
   "cell_type": "code",
   "execution_count": 13,
   "metadata": {},
   "outputs": [
    {
     "name": "stdout",
     "output_type": "stream",
     "text": [
      "0.1038\n",
      "0.1498\n"
     ]
    }
   ],
   "source": [
    "print(binarytrain_error_2/15000)\n",
    "\n",
    "print(binarytest_error_2/5000)"
   ]
  },
  {
   "cell_type": "code",
   "execution_count": 168,
   "metadata": {},
   "outputs": [
    {
     "name": "stderr",
     "output_type": "stream",
     "text": [
      "/Users/roshanbal/anaconda3/lib/python3.6/site-packages/sklearn/preprocessing/label.py:151: DeprecationWarning: The truth value of an empty array is ambiguous. Returning False, but in future this will result in an error. Use `array.size > 0` to check that an array is not empty.\n",
      "  if diff:\n",
      "/Users/roshanbal/anaconda3/lib/python3.6/site-packages/sklearn/preprocessing/label.py:151: DeprecationWarning: The truth value of an empty array is ambiguous. Returning False, but in future this will result in an error. Use `array.size > 0` to check that an array is not empty.\n",
      "  if diff:\n"
     ]
    }
   ],
   "source": [
    "y_pred = np.sign(eclf_1.predict(X_train_selected))\n",
    "binarytrain_error = (y_pred!=y_tr).sum()\n",
    "\n",
    "\n",
    "X_test_selected = select.transform(X_tst)\n",
    "\n",
    "y_test_prediction = np.sign(eclf_1.predict(X_test_selected))\n",
    "binarytest_error = (y_test_prediction!=y_tst).sum()\n",
    "\n",
    "\n",
    "\n"
   ]
  },
  {
   "cell_type": "code",
   "execution_count": 169,
   "metadata": {},
   "outputs": [
    {
     "data": {
      "text/plain": [
       "0.1038"
      ]
     },
     "execution_count": 169,
     "metadata": {},
     "output_type": "execute_result"
    }
   ],
   "source": [
    "binarytrain_error/15000"
   ]
  },
  {
   "cell_type": "code",
   "execution_count": 171,
   "metadata": {},
   "outputs": [
    {
     "data": {
      "text/plain": [
       "0.15"
      ]
     },
     "execution_count": 171,
     "metadata": {},
     "output_type": "execute_result"
    }
   ],
   "source": [
    "binarytest_error/5000"
   ]
  },
  {
   "cell_type": "code",
   "execution_count": 18,
   "metadata": {},
   "outputs": [
    {
     "name": "stderr",
     "output_type": "stream",
     "text": [
      "/Users/roshanbal/anaconda3/lib/python3.6/site-packages/sklearn/preprocessing/label.py:151: DeprecationWarning: The truth value of an empty array is ambiguous. Returning False, but in future this will result in an error. Use `array.size > 0` to check that an array is not empty.\n",
      "  if diff:\n"
     ]
    }
   ],
   "source": [
    "transformed_X_test = select.transform(X_test)\n",
    "test_predictions = eclf_2.predict(transformed_X_test)"
   ]
  },
  {
   "cell_type": "code",
   "execution_count": 24,
   "metadata": {
    "collapsed": true
   },
   "outputs": [],
   "source": [
    "guess_6_df = pd.DataFrame(\n",
    "    {'Id': ids,\n",
    "     'Prediction': test_predictions\n",
    "    })"
   ]
  },
  {
   "cell_type": "code",
   "execution_count": 25,
   "metadata": {
    "collapsed": true
   },
   "outputs": [],
   "source": [
    "guess_6_df.to_csv(\"sixth_predictions.csv\")"
   ]
  },
  {
   "cell_type": "code",
   "execution_count": 7,
   "metadata": {
    "collapsed": true
   },
   "outputs": [],
   "source": [
    "log_reg_training_errors = [0.17573333333333332, 0.1552, 0.14433333333333334, 0.14, 0.13753333333333334, 0.13393333333333332, 0.13026666666666667, 0.12593333333333334, 0.12646666666666667, 0.1234]"
   ]
  },
  {
   "cell_type": "code",
   "execution_count": 8,
   "metadata": {
    "collapsed": true
   },
   "outputs": [],
   "source": [
    "log_reg_test_errors = [0.1798, 0.1692, 0.1604, 0.1566, 0.1532, 0.1548, 0.1526, 0.1504, 0.1516, 0.1538]"
   ]
  },
  {
   "cell_type": "code",
   "execution_count": 9,
   "metadata": {
    "collapsed": true
   },
   "outputs": [],
   "source": [
    "svc_training_errors = [0.17666666666666667, 0.15726666666666667, 0.14213333333333333, 0.13886666666666667, 0.1326, 0.12653333333333333, 0.12433333333333334, 0.1192, 0.11746666666666666, 0.11513333333333334]"
   ]
  },
  {
   "cell_type": "code",
   "execution_count": 19,
   "metadata": {
    "collapsed": true
   },
   "outputs": [],
   "source": [
    "svc_test_errors = [0.1812, 0.17, 0.1656, 0.1624, 0.1576, 0.158, 0.1614, 0.1566, 0.16, 0.1578]"
   ]
  },
  {
   "cell_type": "code",
   "execution_count": 17,
   "metadata": {},
   "outputs": [
    {
     "data": {
      "image/png": "iVBORw0KGgoAAAANSUhEUgAAAYsAAAEWCAYAAACXGLsWAAAABHNCSVQICAgIfAhkiAAAAAlwSFlz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\nmZXkZGFmZiU5WZiZWUn/B3bMZMQVDQMOAAAAAElFTkSuQmCC\n",
      "text/plain": [
       "<matplotlib.figure.Figure at 0x1a2828e908>"
      ]
     },
     "metadata": {},
     "output_type": "display_data"
    },
    {
     "name": "stdout",
     "output_type": "stream",
     "text": [
      "Test error minimized at selected K-percentile = 80\n"
     ]
    }
   ],
   "source": [
    "# min_samples_leaf = np.arange(1, 26)\n",
    "# clf = tree.DecisionTreeClassifier(criterion='gini')\n",
    "\n",
    "# train_err, test_err = eval_tree_based_model_min_samples(clf, min_samples_leaf, train_data, \n",
    "#                                                         train_label, test_data, test_label)\n",
    "\n",
    "\n",
    "percentile_range = [i for i in range(10,110,10)]\n",
    "plt.figure()\n",
    "plt.plot(percentile_range, log_reg_test_errors, label='Testing error')\n",
    "plt.plot(percentile_range, log_reg_training_errors, label='Training error')\n",
    "plt.xlabel('Select K Percentile')\n",
    "plt.ylabel('Classification error')\n",
    "plt.title('CV Logistic Reg with K-percentile selected features')\n",
    "plt.legend(loc=0, shadow=True, fontsize='x-large')\n",
    "plt.show()\n",
    "\n",
    "val, idx = min((val, idx) for (idx, val) in enumerate(log_reg_test_errors))\n",
    "print('Test error minimized at selected K-percentile = %d'%(percentile_range[idx]))"
   ]
  },
  {
   "cell_type": "code",
   "execution_count": 20,
   "metadata": {},
   "outputs": [
    {
     "data": {
      "image/png": "iVBORw0KGgoAAAANSUhEUgAAAYsAAAEWCAYAAACXGLsWAAAABHNCSVQICAgIfAhkiAAAAAlwSFlz\nAAALEgAACxIB0t1+/AAAADl0RVh0U29mdHdhcmUAbWF0cGxvdGxpYiB2ZXJzaW9uIDIuMS4wLCBo\ndHRwOi8vbWF0cGxvdGxpYi5vcmcvpW3flQAAIABJREFUeJzs3Xd4VFX6wPHvm54ACQESAgGS0LsI\nAQIiHVcUO6sgCugK6trWiqjriq6ruPJDwAZSLQjWFRUBRUHpCVVC7x1CryHt/P64N2ESksykTCYJ\n7+d57pOZW987mZl37jnnniPGGJRSSqn8eHk6AKWUUqWfJgullFJOabJQSinllCYLpZRSTmmyUEop\n5ZQmC6WUUk5psihmInKtiGz2dBxlgYj8JCKD8lk+VUT+XZIxlQUiMk9EBtiPHxCRBSV4bB8RMSIS\nXVLHzCOOfM9bRPqKyD4ROSsiLUowtHJLk0UhicguEemZc74x5g9jTCNPxJSTiFQWkckickhEzojI\nFhEZZi/bJCL357LNEyKSYD9eYH8xXJVjnf/Z87sWJT5jTG9jzDR7n4NFZFFh9yUi0XZMPvZzEZFx\n9nlGFiVOTxKRf4vIVMd5xpjrjDGfeSikYiEii0RksBsPMQp40BhT0RjzZ2F3UlqSY2mgyaKcyPyS\nzGE0UBFoAoQANwPb7WXTgIG5bHOvvSzTFsf1RKQqEAckFT1q9xARAcYDXYEuxpj9bj5ebq+98hAR\n8QJqA4mejgVARLw9HUOxMMboVIgJ2AX0zGV+V2BfjvWeAdYBp4CZQIDD8j7AGuAksARo6bDseawv\n9zPABuA2h2WDgcVYCeE48O9cYlkP3JpH/LWANCDKYV4TIAWoZj9fALwM7AO87XmPAh/Y87rmst8Y\n+1y87OcTgSMOyz8F/uGw/wfs4yYD6cBZ4KS9fCrwHvCj/RosB+rlcT7RgAH8sZLdKqBqPv8/H3v9\nx4CdwFHgzcy47XUeADYBJ4CfgNo5tv07sA3YZs9vAfxi/z8OAc/Z872AF+z/5VFgBhBqL6tv72ug\n/ZomAc87vDdSgFT7dVlpz18EDHaIcYFDzE0dYtgE3JHPa/A3rPfnGWAH0K8A5x5tPw8A/g/YCxwG\n3if7+/t2rPf3afu1ug4Yaf+vk+3zesdZ7EAY8IO9n2XA647n7bBeBXufBjgHbHZ4v39rv747gUcc\ntulg7/MkcBAYC/jay5Y47OsscEcur3nO1+RTrPftHHu7rvm9TkA4MNs+/nHgd09/v+X6fvF0AGV1\nomDJYgVQE6gCbAQespe1Bo4A7QFvYJC9vr+9/K/2dl7AXfYbr4a9bDDWl/1j9ps1MJdYJmL9uroP\naJDL8p+BlxyevwH8z+H5AvuDMQ/obc9bYX+4ck0W9jp7gDb2481YX0RNHJZd7bh/h/NZlGM/U+0P\nTzv7HD8DZuRxzGj7A/sVVlKp7OT/l/kB/wUItbffxqUv4b527I3sdV8B/six7Rx720CsK7fDwBNY\nCSsYaGev/wxWYo/E+tKYBHxiL8tMFh/ay1oDFzP/X8C/gak5Ys81WQCVgP1YiccHaAMcAxrlcv7B\nWD9eMo9TA2hagHOPtp+/i/UlHGrvczbwmr2sI9YXYA+s93DtzFgcz8GV2O3/6+dAENAS60t9gZP/\nbWaM3lgJ6wXAz37NdwE97OVtsT6DPkBdrKvpR3PbV87XPI/jfYqVZDvY5+3v5HX6r73c146vi6e/\n33J9XT0dQFmdKFiyuMfh+VvAh/bjDzLfMA7LN+f1ZrHf8LfYjwcDe5zEGGh/QFZi/Trdhv2lby+/\nh0u/vLywvsgdr14W2B+Me+wPaiNgi70sv2TxCfAUEGGfz1vAQ1x+1bEA58liosPzG4BNeRwz2v7A\nngaeduH/l/kB7+kw73Fgrv34Z2BQjvUvYn3hZ27b2WH5vUBCHsfa6vg/xfrSvGi/5pnJIsJh+Sqg\nr/24IMliAPBbjnUnAS/mElOw/b+4DYcrgQKce7QdfzLZr06vBbY6HPu/ebwmOZNFnrFjfYmmAfVz\nfI4WOPnfRtvPrwF25Fjnn8BHeWz/DPBlbvvK+ZrncbxPgckOy529Tv8BviGPq+bSMmmdRck45PD4\nPFY9AkAU8LSInMycsL5IagKIyEARWeOwrDlQzWFfe/M7qDHmgjHmP8aYNkBV4AvgSxGpYq/yDVBD\nROKwklwQVpFPTt8A3bGuYj5x4XwX2vvrDPyOlRS62NMfxpgMF/aRKa/XLi99gH/lrLwXkc12y5iz\nItLBYZHja7gb+7XH+t+85/DaHwUysIozctu2NlYyzk0d4HuHff2J9eUSnrmCMaag55mbKOCaHO+n\nu7CuGrIxxpwG+gOPAIdE5AcRaeiwH2fnDtaPAX9grcO6PzicV20u1ZEVJfbqWFcHOf9XrooC6uTY\n93N2/IhIYxH50W4Ichp4leyfs8JwjNXZ6/SmfT7zRWS7iDxbxGO7hVbMedZe4HVjzOs5F4hIFPAR\n1iX8UmNMuoisAcRhNePqgYwxp0XkP8BwrF/4x40x50XkK6xL/0CsIp6UXLY9LyI/AQ8D9Vw43EKs\nS+t99uNFWMUsyfbzXEN09VycWALcBPwgIsnGmOkAJkcLNYdK6dpYVz9gfakfsB/vBf5pjJmZ8wAO\n2zrGvBfrV3pu9gF3G2OW57Kv+k7OpyCvy15gvjGmtysrG2N+An4SkUCsIsjxQDdcO3ewit1SsIqK\nDucRT17vl5znlWfsIuKLlawcE3KdvM4rjzi2GmOa5LF8PFadxV3GmLMi8gzWj47c4gSrODjI4XlE\nLus4bpfv62Qn7ieBJ+1mvr+JyApjTF6fFY/QK4ui8RWRAIepoMn3I+AhEWlvN/WsICI3ikglrIo6\ng93qSETuw7qycJmI/FNE2oqIn4gEYJWnn+TSlyNYlcF3YVXcTctlN5lewCpK2eXsuMaYrcAFrOKr\n3+0Pw2H7GHl9AA4DtUTEz9n+XTj+QqyK1Qki0tfJ6s/ZTYzrYBVDZX5Bfgi8KCJNIKsZcn77moX1\n6/VR+/UOFpF2Dvv6j30MRCRcRG528XQOA9F2Cy9nZgHNRORuEfG1p3YicllTbhGpISI3iUgQ1hfZ\nOaxK58x4nZ67MSYdq17sHREJs9/DtUTkOnuVScADItJNRLzsZZmxHMaqH3AauzEmFfgfMEJEAkWk\nOVaxn6uWAiki8rT9OfUWkRYi0sZeXgmr/uacfc4P5jjHYzliXQu0tPcRCPwrv4M7e53s/0M9+398\nCuv/kJ7PLj1Ck0XRzMb6UsycXinIxsaYBGAIVuXWCewKVnvZBqy24kuxPlgtsCpJC3QIYApWMcIB\noBdwozHmrMM6v2O9QfcbY+LzifWAMaYg90EsBI4ZY/Y4PBdgdR7r/4pVGX9IRI4W4Di5Msb8jJUE\np4rITfms+j1WXdBqrArIqfb2X2K1XvnSLppYB/wln+Odwnp978BqtLAFq9gNez9zsIoZzmBd/bR1\n8VRmYlV6HheRFfmtaMfwF6wkfRCrCO8NrCKQnLyBZ+31jmFVRj9q76cg5/40VhHKCqz30Tyggb2f\nJVjv77H2st+wrg4A3gH628Uy/+dC7A9jVQ4fxkpCU/J7LXK8LmlY9V3tsOoQj2JdTQQ7nMMgrFZh\n47n0gyHTv4Dpdqy325/N/2AVr27G+gw5k+frhFUX+CtWa6vFwJgCftZKhNgVLEpdUeyrwFQgxpWr\nJaWudHploZRSyilNFkoppZzSYiillFJO6ZWFUkopp8rNfRbVqlUz0dHRng5DKaXKlJUrVx41xoQ5\nW6/cJIvo6GgSEhI8HYZSSpUpIuLS3fBaDKWUUsopTRZKKaWc0mShlFLKKU0WSimlnNJkoZRSyilN\nFkoppZwqN01nlSrrMjIyOHjwIEePHiUtLc3T4ahywMfHh2rVqlGjRg28vIp2bXDFJ4v0DMNbczZx\nb4coaoUGOd9AKTfZvn07IkLjxo3x8/PDtSEslMqdMYaUlBR27tzJ/v37admyJQEBAYXe3xVfDLXn\n+Hmmr9hDvwnL2Hv8vKfDUVew06dPU7duXfz9/TVRqCITEfz9/WnYsCFeXl589913XLx4sdD7c2uy\nEJHrxRr7eJuIPJ/L8s4iskpE0nKOxCUib4lIoohsFJGxLo4UVmAx1Srw2QPtOX0hVROG8riiFhUo\nlZOXlxciwv79+9m9uyBDl+fYTzHGlI2IeAPvAb2BplijYjXNsdoerJHhpufYtiNwDdASayjRtlwa\ndazYtaxVmelD4jh7MY1+E5ax55gmDKVU+eLt7c3p06cLvb07f8a0A7YZY3YYY1KAGcAtjisYY3YZ\nY9ZhDcaebREQgDWcpD/gizWcots0jwzhswfacy4ljX4TlrL72Dl3Hk4ppUqUiJCRkfOr1nXuTBaR\nwF6H5/vseU4ZY5Zijdd70J7mGmM25lxPRIaKSIKIJCQlJRU54OaRIUx/II4LqencNX4Zu45qwlCq\ntOvXrx99+vTxdBjlnjuTRW51DC6NtCQi9YEmQC2sBNNdRDpftjNjJhhjYo0xsWFhTnvYdUnTmsFM\nHxJHSnoGd01Yyk5NGErlS0TynYpr6ICJEyfm2ppn/PjxfPrpp8VyDJU3dyaLfUBth+e1gAMubnsb\nsMwYc9YYcxb4CYgr5vjy1KRGMJ8PiSMt3XDX+KVsTzpbUodWqsw5ePBg1vTdd98BsGLFiqx58fHx\nbj1+SEgIlStXdusxiiIlJaVA850xxpCamlqUkArFnckiHmggIjEi4gf0A2a5uO0eoIuI+IiIL1bl\n9mXFUO7UKKISnw+NI8MY+k1YxrYjmjCUyk1ERETWVKVKFQDCwsKy5mVe9aekpPDiiy8SFRVFYGAg\nzZs3Z8qUKdn29f7779OoUSMCAgKoWrUq3bp14/Dhw8yZM4chQ4Zw8eLFrCuWhx56CLi8GCrz+Xvv\nvUedOnUICQmhb9++HD9+PNux3nrrLWrWrElQUBA33ngjU6ZMQUQ4evRonudqjGH06NE0bNiQgIAA\nGjVqxFtvvUV6enq212PEiBEMHTqUKlWq0KNHD5KTkxERPvjgA+68804qVarE/fffD0BiYiLXX389\nFSpUoFKlStx6663s2rUra38ffvghFStWZO7cuVx11VX4+fmxcOHCQvynisZtN+UZY9JE5FFgLuAN\nTDbGJIrIq0CCMWaWiLQFvgVCgZtEZIQxphnwFdAd+BOr6GqOMeZ7d8Wal4bVK/H5kDj6f7ScfhOW\nMWNoe+qHVyrpMNQVbMT3iWw4UPgWLIXVtGYw/7qpWbHuc+DAgWzZsoXJkydTt25dli5dyoMPPoif\nnx8DBgxg8eLF/OMf/2DatGl07NiRU6dOsXTpUgC6d+/OqFGjeOGFF7K+SIOC8r6JdtGiRVStWpWf\nfvqJ48eP069fP4YPH8748eMBmD59Oi+99BKjR4/muuuuY+HChQwfPtzpOQwfPpwvvviCd955hxYt\nWrB+/XoefPBBUlNTefHFF7PWGzVqFMOGDWP58uXZ7sZ/+eWXee2113jjjTcwxnD27Fl69erFVVdd\nxaJFi0hLS+PJJ5/khhtuYN26dfj4WF/RycnJvPzyy4wdO5ZatWp55ErKrXdwG2NmA7NzzHvZ4XE8\nVvFUzu3SgQfdGZurGlSvxIyhcfT/aBn9Jixj+pA4GlbXhKFUQWzatImZM2eyY8cOYmJiAIiJiWH9\n+vWMGzeOAQMGsGfPHoKDg7n55pupUKECAC1btszaR3BwMGD9cnemQoUKTJw4EV9fXwCGDBnCtGnT\nspaPGjWKQYMG8cgjjwDQoEED1q9fz5gxY/Lc56lTpxg9ejRz586la9euWedw8OBBXn755WzJ4tpr\nr832PDk5GYA777wz64oI4L333uPs2bN8/vnnWQlgxowZ1K1bl2+++YY777wTgPT0dN59913atm3r\n9Nzd5Yrv7sMV9cMrWgljwjL62wmjUYQmDOV+xf3r3lMy6y1atGiRbX5aWlpWYrjhhht4/fXXiY6O\nplevXnTv3p3bb789q2irIJo1a5aVKAAiIyM5fPhS6/tNmzbx97//Pds2HTp0yDdZrFu3jpSUFG68\n8cZsd9inp6eTnJzMmTNnqFTJ+l5o165drvvIOT8xMZGWLVtmu1KoVasWdevWJTExMWuet7c3rVu3\nzu+U3U6ThYvqhVXMusLo/9Eypg9pT+OIYE+HpVSZkJGRgYgQHx+f7UscLt21HhISwpo1a/jjjz+Y\nP38+48aN47nnnmPhwoWXJRln/Pz8sj13vMfAGJM1r6DnADBr1iyioqIuW56Z9HI+zmsdx9hyMsZk\nmx8QEIC3t3eB4i1u2rcAQPJpMM5b9dYNq8iMoR3w8/ai/4RlHilLVqosio2NxRjD/v37qV+/frap\nbt26Wev5+PjQrVs3/v3vf7N69WpCQ0OZMWMGYCUAx4rkwsrsrDGzPiTTsmXL8t2uZcuW+Pr6snPn\nzsvOoX79+oXqqqVZs2asXbuWkydPZs3bt28fO3fupFmz0nVVqcni2HYY1xr+/NKl1WOqVWDG0DgC\nfL25e+IyEg+ccnOASpV9zZo14+6772bw4MFMnz6d7du3s2bNGiZOnMioUaMA+Oqrrxg7diyrVq1i\nz549fP311xw4cICmTa1egmJiYkhLS2P27NkcPXqUc+cKfw/U008/zccff8yHH37Itm3bmDx5clZS\nyuuKIzQ0lGeffZZnnnmGDz/8kC1btrB+/XqmT5+erX6iIAYNGkTFihXp378/q1evJj4+nn79+lG/\nfn1uu+22Qp+fO2iyCI2BkNrw88tw0bXmsdHVKjBzaAcq+Plw90fLWb9fE4ZSzkybNo2HH36YV155\nhSZNmtCrVy8+++wz6tWrB1hfxt988w29evWiYcOGvPTSS7z22msMGDAAsCqNH374YQYNGkRYWBhP\nP/10oWO5++67ee211xgxYgQtWrTg66+/5qWXXgLItxvv119/nTfffJP333+fFi1a0LlzZ8aNG5dV\naV9QFStW5OeffyYjI4NOnTrRvXt3qlatyuzZs7NaQpUWYlwofikLYmNjTUJCQuE23hsPk3rCtU9D\nj5edr5+52fHz9JuwjDPJqXz2QBwtaoUU7vhKAStXrqRNmzaeDuOK9cILLzBt2jT279/v6VCK3cqV\nK1m8eDFxcXGXVbKLyEpjTKyzfeiVBUDtttCyHywZB8d3uL5ZlSBmDI0jONCXAROXsXbvSecbKaU8\n7vz587z99tv8+eefbNu2jQ8//JAxY8YwZMgQT4dWammyyNTzFfDyhbkvFWizzIQREuTLPZOWs0YT\nhlKlnogwb948unfvTosWLRg7diwjRozgn//8p6dDK7U0WWQKrgFdnoXNP8L2Xwu0aa3QIGYM7UBo\nkB/3TlzOqj0n3BSkUqo4BAYGMm/ePJKSkrhw4QIbNmzgmWee8Xjz1NJMk4WjuL9Dlbrw0/OQXrCO\nuiIrBzLzwTiqVPRj4KQVrNytCUMpVX5osnDk4w9/+Q8c3QzxEwu8eY2QQGYO7UBYJX8GTlpOwq7j\nzjdSSqkyQJNFTg2vh3o94Lc34FzevU/mJSIkgBlD46geHMCgySuI14ShlCoHNFnkJALXvwmp52D+\nq4XaRfVgO2GEWAlj+Y5jxRykUkqVLE0WuQlrCO0ehFUfw4E1hdpFuJ0waoQEMHhKPMs0YSilyjBN\nFnnp8hwEVYWfhrnUb1RuwisFMGNoB2qFBnLflHiWbC94sZZSSpUGmizyElgZev4L9i6D9V8Xejdh\nlfz5fGgctasEcv/UeBZv04ShVEFs2rQJEaGgPTRERETw9ttvuymqK48mi/y0ugdqtIJ5/4SUwnda\nVq2iP58PiSO6agXunxrPoq2aMFT5kTnMaV5TdHR0kfbfoEEDDh48SKtWrQq03Z9//nnZmBWq8DRZ\n5MfLC3q/BWcOwKLRRdpV1Yr+TB8SR0y1CvxtWjy/b0kqpiCV8qyDBw9mTd999x0AK1asyJqXOfBR\nTikpKS7t39vbm4iIiAJ3rBcWFpbv0Kueltf5u/q65JSaWrB7wwpKk4UzddpDizth8Vg4satIu6pS\nwY/Ph8RRL6wiD3ycwILNR4onRqU8KCIiImvKHNUuLCwsa15YWFjWeiNGjGDo0KFUqVKFHj16APD2\n22/TsmVLKlSoQM2aNbnnnns4cuTSZyNnMVTm82+++YbevXsTFBRE/fr1mTlz5mVxORZDRURE8Prr\nr/PII49QuXJlIiIiGD58eNagRgDnzp3j/vvvJzg4mCpVqvD444/z9NNP07x583xfg9OnT/PII49Q\no0YNKlSoQGxsLN9///1l5zBz5kyuu+46goKCePXVV5kzZw4iwty5c+nQoQP+/v58/PHHAHz33Xdc\nffXV+Pv7U716dR5//HEuXLiQtc9+/frRp08fRo0aRVRUFP7+/tnG+y5upasP3NKq1wjY9CPMfRH6\nfVakXYVW8OOzB9pzz6TlDP14JePvbUO3xuHFFKgqd356Hg79WfLHjWgBvd8s9t2OGjWKYcOGsXz5\n8qwvNi8vL9555x1iYmI4cOAATz75JPfeey9z587Nd1/Dhg1j5MiRjBs3jvfee4+BAwcSFxeX6yh2\njsd/8cUXiY+PZ9myZQwePJiWLVvSv39/AJ588knmzp2bNQ72Rx99xMSJE6ldu3ae+8zIyKB3794E\nBgby9ddfU716debMmcPtt9/Ob7/9RqdOnbLWfe655xg5ciTjx49HRNi0aRMATz31FP/9739p0qQJ\n/v7+JCQkcNttt/Hss8/y+eefs23bNoYOHcqFCxf46KOPsva3cOFCgoKC+P777zHGuLW7Ek0Wrgiu\nCdc+Bb++BjsWQN2uRdpdZsK4d9IKHvxkJR/c05oeTaoXR6RKlWrXXnvtZQMFPfXUU1mPY2JiGDNm\nDB07duTYsWNUrVo1z309+eST3H777QCMHDmS999/nwULFjBo0KA8t+nZs2fWOBgNGjRg0qRJzJs3\nj/79+3PixAmmTJnC1KlTueGGGwArufz666/5FvHMmzePNWvWcOTIkaxhUx955BEWL17Mu+++my1Z\nPProo/Tr1y/reWayeOWVV7KOCfDEE0/QqVMnRo4cCUDjxo0ZPXp01jgcERERAPj7+zNt2jQCAwPz\njK+4uDVZiMj1wBjAG5hojHkzx/LOwDtAS6CfMeYre343wLGSoLG9/H/ujDdfHR6F1Z9Yv/QeWgTe\nRXvpKgf58enf2nPv5OU89OlKPhjQhp5NNWGoHNzw696Tco6lAPDLL78wcuRINm3axMmTJ7OKhXbv\n3p1vsnCs8Pbz86NatWocPnw43+PnrCSPjIzM2mbLli2kpaURFxeXbZ24uDj++OOPPPcZHx/PhQsX\nqF49++c3JSXlsrHDczv/3OYnJiZmJcJMXbp0ISMjg40bN2YlixYtWpRIogA31lmIiDfwHtAbaAr0\nF5GmOVbbAwwGpjvONMb8ZoxpZYxpBXQHzgPz3BWrS3wDrH6jkjZCwqRi2WVIkC+f/K09TWsE8/Bn\nK5mXeKhY9qtUaZX5yzvTtm3b6NOnD40aNWLmzJkkJCTw5ZfWEMfOKnr9/PyyPReRbPUPhd0mr2FV\n85KRkUF4eDhr1qzJNm3YsIH//S/779uc55/f/JxxZA5U5zg/r/25gzuvLNoB24wxOwBEZAZwC7Ah\ncwVjzC57WX7/4b7AT8aY8+4L1UWNboC63eC316F5X6iQ968eV4UE+vLJA+0ZOGkFD3+2it7NI+jX\ntg4d61XFy6tgb1qlyprly5eTmprKO++8k9XaafHixR6JpWHDhvj4+LB06VLq1q2bNX/ZsmX5bhcb\nG8uRI0cwxtCgQYNiiaVZs2YsXLgw27zff/8dLy8vGjduXCzHKCh3toaKBPY6PN9nzyuofsDnuS0Q\nkaEikiAiCUlJJdAUNbPfqItn4bd/F9tugwN8+eRv7RjUIZpF245yz6TldP7vb4ydv5WDpy4434FS\nZVTDhg3JyMhg9OjR7Ny5k6+//po33njDI7GEhoZy3333MWzYMH766Sc2b97Ms88+y86dO/O92ujd\nuzedOnXi5ptvZtasWezcuZOEhATeeecdpk6dWqhYhg0bxqJFi3j++efZvHkzP/74I0899RT3339/\nVhFUSXNnssjt1S1QvxkiUgNoAeTaLMIYM8EYE2uMic1snud24Y2h3VBImAIH1xXbbisF+PLyTU1Z\nNrwHY/tfTXTVCvzfz1u45s1fGTxlBXPWHyQlLf9LbKXKmrZt2/J///d/jBkzhqZNmzJu3DhGjy7a\nPU1FMXr0aHr16sWdd95JXFwcFy9e5O677yYgICDPbby8vPjpp5+48cYbeeyxx2jUqBF9+vRh3rx5\n2a5QCiI2NpZvv/2WOXPm0LJlS+6//37uuOMOxo4dW9hTKzIxhez3yOmORToArxhj/mI/Hw5gjLns\nZ4OITAV+yKzgdpj/BNDMGDPU2fFiY2NNQbsDKLQLJ2Fca6jWCO6bbV1xuMHe4+f5ImEvXybs49Dp\nZKpV9OP21rW4M7Y29cMruuWYynNWrlxJmzZtPB2GyqFjx47ExMTw2WdFazbvSStXrmTx4sXExcVd\nVpkuIiuNMbHO9uHOOot4oIGIxAD7sYqT7i7gPvoDw4s7sCILrAzd/wk//AMSv4Hmd7jlMLWrBPH0\ndY34R8+G/L4liRnxe5i8aCcTft9BbFQod7WtzY0taxDkpy2glSoOq1evJjExkfbt25OcnMzkyZNZ\nunQpr7/+uqdD8zi3fcsYY9JE5FGsIiRvYLIxJlFEXgUSjDGzRKQt8C0QCtwkIiOMMc0ARCQaqA0s\nzPUAntZ6ICRMhnkvQ8Pe4Oe+bgW8vYRujcPp1jicpDMX+WbVPmYm7OXZr9Yx4vsN3HRVTfq1rU3L\nWiEFbsmhlMpu7NixWfc/NGnShB9//JFu3bp5OCrPc1sxVEkr0WKoTLuXwpTrocsw6PZCiR7aGEPC\n7hPMWLGXH/88QHJqBo0jKnFX29rcdnUklYP8nO9ElSpaDKXcpTiKobRvqKKI6mA1oV08Bk7sLtFD\niwhto6sw6s6rWPFiT16/rTl+Pl6M+H4D7f4zn8c/X83ibUfJyCgfPwaUUp6lhd1F1etV2Dwb5r0E\nd33ikRCCA3wZ0D6KAe2j2HCP+PZOAAAgAElEQVTgNF8k7OXb1fuZtfYAtasEcldsbfq2qU1ESN4t\nOlTpkJGRgZeX/oZTxcfZjYqu0ndlUYVEQqenYOMs2Pm7p6Ohac1gXrm5Gctf6MGYfq2oHRrE2/O2\n0PHN+dw/NZ65iYdITdcmuKWRn58f5897/t5TVb6cP3++WBKGXlkUh46PwuqPrSFYH/yjyP1GFYcA\nX29uaRXJLa0i2X3sHF8m7OPLlXt58JMjVKvozx1tIrkrtjZ1w7QJbmkRGRnJ9u3bqVevHkFBQXqF\noYokIyOD8+fPs2XLFg4dOoQxpsBjgjjSCu7ismEWfHEv3PA2tBviuTjykZaewcItScyM38v8TUdI\nzzC0i67CXW1rc0OLGgT6ua97Y+WagwcPsmfPniJ9qJXKlJGRwaFDhzh9+jSHDx/mlltuoV69etnW\ncbWCW5NFcTEGPr7Zuqv78dUQVMVzsbjgyJlkvl65ny8S9rLz6Dkq+ftwc6ua9Gtbh+aRwdoE14MS\nExOZO3cugYGB+Pj46P9CFUl6ejrnzp2jadOm9OrV67IxLzRZeMLhDfBhJ4i9D24c5dlYXGSMYcXO\n48yM38vs9QdJTs2gUfVK9GgSTpeGYbSOCsXXW4tDStrWrVvZunUrZ8+e9XQoqozz9/enZs2atG7d\nOtfBkTRZeMrs5yD+I6vuIiL/oRhLm1MXUpm19gDfrz3Ayt0nSM8wVPL34Zr61ejaKIwujcKoEVIy\nfecrpUqGJgtPuXACxraG8KYw+Ae39RvlbqeTU1my7SgLtySxYHMSB08lA9CoeiW6NAqja8Mw2kSH\n4u+j9RxKlWWaLDwpfhL8+BT8dSo0u83T0RSZMYatR86yYPMRFm5JYsXO46SmG4L8vOlYr1pW8qhd\nxX1dniil3EOThSdlpMP4LpB8Eh5Z4dZ+ozzh3MU0lm4/xoItR1iwOYl9J6wxN+qGVaBrw3C6NAqj\nfUwVAnz1qkOp0k6ThaftWgxTb4Cuw6Hr856Oxm2MMew4eo6Fm5NYsCWJZTuOkZKWQYCvF3F1q9K1\nYRhdGoUTU63khn9USrlOk0Vp8OVg2DwHHo2HyrU9HU2JuJCSzrKdx1i4OYmFW5LYefQcAFFVg+jS\nMIwuDcPoUK+qdquuVClRLMlCrAbetYwxe/NcqZQolcni5F54ty00ut6qv7gC7T52joVbkli4OYkl\n249xITUdP28v2sVUsVpYNQyjfnhFvZdAKQ8ptisLe0elvt/kUpksABaMhAX/gUE/QMy1no7Go5JT\n00nYdYKFdl3H1iPWPQSRlQPp3DCMro3C6FivKpUCfD0cqVJXjuJMFu8BU40x8cUVnDuU2mSRegHe\nbQcBwTB0YanoN6q02H/ygl1cdYTF245x9mIaPl5CbHQoXRqG06tpdR0+Vik3K85ksQFoCOwGzgEC\nGGNMy+IItLiU2mQBkPg/+HKQdVd32wc8HU2plJKWwao9J1hg13VsPHgagGvqV2Vgh2h6NqmOt5cW\nVSlV3IozWUTlNt8YU7Kj/ThRqpOFMTDtJji8Hh5bVer7jSoNDp1K5pvV+/h06W4OnEomsnIg93aI\n4q7Y2oRW0FEAlSouxdoaSkSuAjIL3P8wxqwtYnzFrlQnC4BD62H8tdaVxQ3/9XQ0ZUZaega/bDzM\ntCW7WbrjGP4+XtzSqiaDOkbTrGaIp8O7olxMS2fzoTM0iqikd+6XI8V5ZfEEMAT4xp51GzDBGDOu\nyFEWo1KfLAB+fBoSpsBDf0D1Zp6OpszZfOgM05bu4ttV+7mQmk5sVCiDOkZzffMI7ezQTY6evciv\nm44wf+Nh/th6lPMp6VSt4Ef/dnUYEFdH+worB4ozWawDOhhjztnPKwBLtc6iEM4fh3GtoXpzGPR9\nme03ytNOnU/ly5V7+XjpbvYcP094JX8GtI+if/vahFfSoWOLwhjD5sNnmL/xCL9sPMyavScxBiKC\nA+jeJJzWdUKZs/4Q8zcdxkuE65tFMLBDFO1iqmjz5zKqOJPFn0BbY0yy/TwAiDfGtHAhiOuBMYA3\nMNEY82aO5Z2Bd4CWQD9jzFcOy+oAE4HagAFuMMbsyutYZSJZAKz4CGY/A3d+DE1v8XQ0ZVpGhmHB\nliNMXbKb37ck4est3NiiBoM6RnN1nVBPh1dmXExLZ/mO48zfeJj5m45kdd/SIjKEHk3C6dmkOs1q\nZh/jZO/x83yybDcz4/dy6kIqTWoEM6hDFLe0itRBtMqY4kwWTwGDgG/tWbdiNaV9x8l23sAWoBew\nD4gH+htjNjisEw0EA88As3IkiwXA68aYn0WkIpBhjMlzgOIykyzS02B8Z7h4Bh5dAb56GV8cdiSd\n5eOlu/lq5T7OXkzjqlohDOwQTZ+ramj5ei6Onb3Ib5uTsoqXzl5Mw9/Hi071q9GjSXV6NAmnerDz\nq7QLKel8t2Y/U5fsYtOhM4QE+nJX29rcGxdV7juWNMZwMS2jzPeBVtwV3K2BTljNZn83xqx2YZsO\nwCvGmL/Yz4cDGGPeyGXdqcAPmclCRJpi1Yt0chqcrcwkC4Cdf8C0PtDtRejynKejKVfOXkzj21X7\nmLZ0N9uOnNXydZsxhm1HzvLLRqv+YeWeExgD4ZX86dEknB6Nq3NN/WqFviowxhC/6wTTluxiTuIh\nMoyhR+PqDO4YzTX1q5abIqrk1HQWbzvKLxuP8Oumwxw5c5GYahVoXjOE5pHBNK8ZQrOaIYQElZ0b\nS4uruw8vYJ0xpsCj+IhIX+B6Y8wD9vN7gfbGmEdzWXcq2ZPFrcADQAoQA/wCPG+MSc+x3VBgKECd\nOnXa7N5dqlrz5u+LgbBlHjyWACG1PB1NuWOMYfG2Y0xbuotfNlrl639pVp1BHaKvmPL1lLQM4ncd\n55eNh5m/8Qh7jlsX5s0jg+nRuHpW8ZJXMd+/cvDUBT5btofPV+zh2LkU6oVVYFDHaG5vXYuK/mXv\nptQjp5OZb1fyL9p2lOTUDCr4edPZ7qpm06EzJO4/xQF7zBeA2lUC7cQRTLPIEJrXDCGskr8HzyJv\nxVkM9Rkw3Bizp4AB/BX4S45k0c4Y81gu604le7LoC0wCrgb2ADOB2caYSXkdr0xdWQCc3GP1G9X4\nRug72dPRlGt7j5/n02W7mWGXrzeOqMSgjtHcWg7L10+cS2HBliP8svEIv29O4oxdvHRN/WpZVxAR\nISXTCCA5NZ3Zfx5k2pJdrN13ior+PvRtU4uBHaKoG1Z678w3xpB44DTzNx5h/qbDrNt3CrC6penZ\nJJweTarTvm6Vy4o3j59LIfHAKdbvP836A6dI3H+KXcculZxXD/a3EkiklUSaR4ZQMyTA4z9cijNZ\n/Aq0BVZg3cENgDHmZifbFaUYKg540xjT1X5+LxBnjHkkr+OVuWQB8Nt/YOFIuO8niOro6WjKvQsp\n6cxau5+pS3az8eBpggN87PL1aOpULZvl68YYtiedsyqnNx4hYfdxMgxUq+hPj8bh9GgSTqcG1Tze\ny+/qPSf4eOluflh3gNR0Q+eGYQzqEEW3RuHFfmVTGMmp6SzdfoxfNh7m101HOHgqGRFoVbsyPe06\nnEbVKxX4i/10ciobD5xm/YHTJO4/xfoDp9h25CwZ9tduaJAvzSOtoqvmkcE0qxlCVJWgEn1NijNZ\ndMltvjFmoZPtfLAquHsA+7EquO82xiTmsu5UsicLb2AV0NMYkyQiU4AEY8x7eR2vTCaLlPPW1UVg\nKDy4ELzK16/c0ir38vVwBnaI5toG1Tz+S8+Z1HSreGm+Xf+Q+eu1SY3grF++LSNDSsWXcE5JZy7y\n+Yo9fLZ8N4dPX6ROlSAGdojir21ql3g5/5Ezyfy2yboKW7T1KBdS0wny8+baBlYlf7dG4W4pOrqQ\nks7GQ6dJdEggmw+dITXd+i6u6O9D05rBl+pBIkOoW60CPm66l6i46iy8gbnGmJ6FDOIGrKax3sBk\nY8zrIvIq1hf/LBFpi9XKKhRIBg4ZY5rZ2/YCRmFVqq8EhhpjUvI6VplMFgDrv4Gv7oM+oyH2fk9H\nc8U5dCqZz5bv5vMVezh6NoW6YRUY1CGaO9qUjvL1tPQMktMyOHcxjWU7jvHLxiMs3HyE08lp+Hl7\n0aFeVXo2Cad7k+pEVi47Ffip6RnMTTzEtCW7iN91gkBfb269OpLBHaNpFFHJLcc0xrDx4BnmbzzM\nL5uOsHbvSQBqhgRktQCLq1vVI62bUtIy2HL4TFYxVuKBU2w4eJrk1AwA/H28aFIjOKsSvXlkCA2q\nVyyWln7FeWUxC7jXGHOqyFG5UZlNFsbA1D5wZAM8vsq6ylAl7mKaVb4+dclu1u49mVW+fm+HKOrZ\n5evGGFLTDclp6SSnpnMxNYPk1HSSUzOy5iXb8y6kpnPR4bm1PPv6+S5PtfaXlpH981mtoh/dGllX\nD9c2qEaFUpDQimr9/lN8snQ3/1uzn4tpGcTVrcLgjlbnkUX9NX0xzSpemr/xCL9uOsL+k9Y9JFfV\nrkzPxtbr2KRGwYuXSkJ6hmFH0lnWZ9aD7D/FhgOnOXMxDQBfb6FBeCWaRwYTG12FO2MLN8BacSaL\nL4A44Gey11k8XqjI3KTMJguAQ39a9160Gwq9R3o6mivemr0n+XjJLn5Yd5CU9AyqVPDL+vLOcN7S\nPFfeXkKAjxcBvt72lOOxj/XYP3O+j+M6XgT6etMsMoRWtSqXyuKl4nDiXAozE/byydLd7D95gZoh\nAQyIi6J/uzpUKUDnkbl1URLo602nBtXo2SScbo3Dy+yd/hkZhr0nzmdVoq/ff4rEA6dpWL0iM4Z2\nKNQ+izNZDMptvjFmWqEic5MynSwAfngSVk6DIb9CzVaejkZhla9/uXIvB05eyPoyz/wC9/f1zvry\nD7wsAXjhn2N97bvKdekZhvkbDzNt6S4WbzuGn48XN7WsyeCO0bSodXnnkfl1UZJ5B3qHep4pXioJ\nxhjOpaQXuti0uG/KCwTqGGM2FyqaElDmk8X54/DBNeAbYA2SFBDs6YiU8rith63OI79ZtZ/zKem0\nrlOZQXYR1crdJy7roqRlrRB6NLbqH3J2UaJyV5xXFjcBbwN+xpgYEWkFvOqs6WxJK/PJAmD3Eqv+\notmtcMck7WhQKdvp5FS+StjHx0t3Zbt3IcD3Uhcl3Ru71kWJys7VZOHKdcsrQDtgAYAxZo2IxBQp\nOpW7qI7Q/UWY/ypEXwux93k6IqVKheAAX+7vFMPgjtH8vjWJpTuO0S66Ch3rFb6LElUwriSLNGPM\nqRyXc4Ws5lNOXfMk7FoMPw2DWrEQ4bRzX6WuGF5eQtdG4XRtFO7pUK44rtS6rReRuwFvEWkgIuOA\nJW6O68rl5QW3jbea0H452OqdVimlPMyVZPEY0Ay4CEwHTgH/cGdQV7yKYdB3EhzfAT88Zd2LoZRS\nHuQ0WRhjzhtjXjTGtLWnlzIHQlJuFN0Jug6HP7+A1Z94Ohql1BVOG3+XZtc+DTFdYPazcPiyLrWU\nUqrEaLIozby84Y6JEBBi11+c9XRESqkrlCaL0q5iONz+ERzdao3drZRSHuC06ayIhAFDgGjH9Y0x\n2kVqSanbBboMg4VvWvdfXD3A0xEppa4wrtxn8R3wB9bQpulO1lXu0uU52L3YurqIbAPhjT0dkVLq\nCuJKsggyxgxzeyQqf5n1Fx92gi8HWR0O+lXwdFRKqSuEK3UWP9iDGClPqxQBt0+ApM0w+zlPR6OU\nuoK4kiyewEoYySJyxp5OuzswlYd63aHzM7DmU1g7w9PRKKWuEK7clFfJGONljAmwH1cyxmj/2Z7U\n5XmIusa6uztpi6ejUUpdAVxqOisiN4vI2/bUx91BKSe8faz6C98A6/6L1AuejkgpVc45TRYi8iZW\nUdQGe3rCnqc8Kbgm3DYBjiRaPdQqpZQbuXJlcQPQyxgz2RgzGbjenueUiFwvIptFZJuIPJ/L8s4i\nskpE0kSkb45l6SKyxp5muXK8K06DntDpSVg1DdZ96elolFLlmKt3cFd2eHz5ILi5EBFv4D2gN9AU\n6C8iTXOstgcYjNWbbU4XjDGt7KlUjcpXqnR7CWrHwQ//gKPbPB2NUqqcciVZvAGsFpGpIjINWAn8\nx4Xt2gHbjDE7jDEpwAzgFscVjDG7jDHrgIwCxq0yeftA38ng7WfXX2iHwEqp4udKa6jPgTjgG3vq\nYIxxpc1mJLDX4fk+e56rAkQkQUSWicitBdjuyhMSaQ2YdPhPmDvc09EopcqhPJOFiDS2/7YGamB9\n2e8FatrznJFc5hVkFJ869iDidwPviEi9XGIcaieUhKSkpALsuhxqeB10fBwSJsP6rz0djVKqnMmv\nu4+ngKHAqFyWGaC7k33vA2o7PK8FHHA1MGPMAfvvDhFZAFwNbM+xzgRgAkBsbKwOJ9fjZdizDGY9\nATVaQdXL8qtSShVKnlcWxpih9sPexphujhOutYaKBxqISIyI+AH9AJdaNYlIqIj424+rAddgNdtV\n+fH2teovvLy1/kIpVaxcqeBe4uK8bIwxacCjwFxgI/CFMSZRRF4VkZsBRKStiOwD/gqMF5HM4eCa\nAAkishb4DXjTGKPJwhWVa8NtH8KhdTDvJU9Ho5QqJ/IshhKRCKwK6UARuZpLdRDBQJArOzfGzAZm\n55j3ssPjeKziqZzbLQFauHIMlYtGvaHDo7D0XWss72baPkApVTT51Vn8BeseiFrA/znMPwO84MaY\nVHHo8S/YsxRmPQY1roIqMZ6OSClVhuVXZzHNrp8YnKPO4mZjzDclGKMqDB8/6DsFRKz6i7SLno5I\nKVWGOR38yBjztYjcCDQDAhzmv+rOwFQxCI2CW96HmQPg55eh90hPR6SUKqNc6UjwQ+Au4DGseou/\nAlFujksVlyZ9oP3DsPxD2Pi9p6NRSpVRrrSG6miMGQicMMaMADqQ/f4JVdr1ehVqXg3fPQIndns6\nGqVUGeRKssgcLOG8iNQEUgGtLS1LMusvjIGv7oO0FE9HpJQqY1wdg7sy8F9gFbALq1NAVZZUiYFb\n3oX9K2H+CE9Ho5QqY1yp4H7Nfvi1iPwABBhjTrk3LOUWTW+BtkOs+y+iroHGLg1LopRSLlVwP2Jf\nWWCMuQh4icjf3R6Zco/r/m3dd/G/h+HkHk9Ho5QqI1wphhpijDmZ+cQYcwIY4r6QlFv5Blj1Fxnp\n8NX9kJ7q6YiUUmWAK8nCS0Syuhu3R8Dzc19Iyu2q1oObx8K+eJivt8sopZxzJVnMBb4QkR4i0h34\nHJjj3rCU2zW/HWLvhyVjYctcT0ejlCrlXEkWw4BfgYeBR4D5wHPuDEqVkL+8AdVbwLcPwql9no5G\nKVWKuTKsaoYx5gNjTF9jzB3GmPHGmPSSCE65mW8A/HWqVW/x1d+0/kIplaf8hlX9wv77p4isyzmV\nXIjKrarVh5vGwN5l8Nvrno5GKVVK5XefxT/sv31KIhDlQS36ws7fYdFoiOoEDXp6OiKlVCmTXzHU\nD/bffxtjduecSiI4VYJ6j4TwZvDtUDjt8lDpSqkrRH7Jwk9EBgEdReT2nFNJBahKiG+gVX+Rmgwz\nBsCm2XDxrKejUkqVEvkVQz0EDAAqAzflWGYAHQCpvAlrCLe+B989BjP6g7ef1S1Ig+usqWo9azAl\npdQVR4wx+a8g8jdjzKQSiqfQYmNjTUJCgqfDKB/SUqwK763zYOvPkLTJmh8acylxRF9jXY0opco0\nEVlpjIl1ul5eyUJEuhtjfs2ryKm0Da2qycKNTuyGbT9biWPHQki7AD6BENMZGvSyptBoT0eplCoE\nV5NFfsVQXbBuxstZBAUuFkOJyPXAGMAbmGiMeTPH8s7AO0BLoJ8x5qscy4OBjcC3xphHnR1PuUlo\nFLR9wJpSL8DuxVbi2DIXttp3f1drZCeO66BOB2sMDaVUueG0GKrQO7b6kNoC9AL2AfFAf2PMBod1\nooFg4BlgVi7JYgwQBhx3liz0ysJDjm23i6vmwa5FkJ4CfhWhble7yKoXBNf0dJRKqTwUx5VF5o6e\nAKYAZ4CPgNbA88aYeU42bQdsM8bssPczA7gFyEoWxphd9rKMXI7bBqiO1Q+V0xNRHlK1HlR9GOIe\ntlpP7frDShxb5sEmu/V19eaXrjpqtQNvp287pVQp48qn9n5jzBgR+QsQDtyHlTycJYtIYK/D831A\ne1eCEhEvYBRwL9DDlW1UKeBfERr1tiZjrIrxzEryJeOsm/4CQqBedytx1O8JFcM9HbVSygWuJIvM\ntpI3AFOMMWsduyx3YTtHrpZ5/R2YbYzZm9+hRGQoMBSgTp06Lu5alQgRCG9iTdc8AcmnYMeCS8kj\n8VtrvZpXX2phVfNq8PL2aNhKqdy5kixWisg8IAYYLiKVgMuKjXKxD6jt8LwW4OqtwR2Aa+0R+Spi\n3SB41hjzvONKxpgJwASw6ixc3LfyhIAQa1jXprdARgYc/vNS4vj9v7BwJARVta42GlxnXX0EVfF0\n1EopmyvJ4m9AK2CHMea8iFTBKopyJh5oICIxwH6gH3C3K0EZYwZkPhaRwUBszkShyjAvL2to1xpX\nQedn4fxx2P6rlTy2/QLrZoJ4WZXkPV62rjiUUh7lSrLoAKwxxpwTkXuwKrjHONvIGJMmIo9iDZ7k\nDUw2xiSKyKtAgjFmloi0Bb4FQoGbRGSEMaZZoc9GlU1BVazODFv0tYZ7PbAatsyBhMkwoSu0vAu6\n/xMq13a6K6WUe7hyB/c64CqseyE+ASYBtxtjurg/PNdp09lyKPmUVSm+9H3reYe/Q6cnrSItpVSx\ncLXprCsj5aUZK6PcAowxxowBKhU1QKWcCgiBnq/AYyuh2W1W4hh7Naz4SAdqUqqEuZIszojIcOAe\n4Ef7Zjtf94allIPKteH28TB0AYQ3hdnPwPtxsOlHq4muUsrtXEkWdwEXgb8ZYw5h3T/xX7dGpVRu\nal4Ng76H/nYF+Iy7YeqNsH+lpyNTqtxzW3cfJU3rLK4w6Wmwahr89h84fxSa97VaToVGeToypcqU\nYquzEJE4EYkXkbMikiIi6SJyqnjCVKqQvH2g7d/g8dVw7TNW1yLvtoWfX4YLJz0dnVLljivFUO8C\n/YGtQCDwAPCeO4NSymUBwdDjn/DYKmh+Bywea1WCL/vQGpdDKVUsXEkWGGO2Ad7GmHRjzBSgq1uj\nUqqgQiLhtg/gwd8hogXMGQbvt4cNs7QSXKli4EqyOC8ifsAaEXlLRJ4EKrg5LqUKp0ZLGPgdDPjK\nGhb2i3th8vWwT+uzlCoKV5LFvVh3YD8KnMPq7+kOdwalVJGIWF2iP7QY+rwDx3fAxB7w5X1wYpen\no1OqTNLWUKr8u3jG6iJ98Vgw6dBuKHR+BgJDPR2ZUh5XHGNw/0k+XYobY1oWPrzip8lCOXX6APz2\nOqz+zLo7vMtz1lCxPv6ejkwpjymOZJFvg3VjzO5CxuYWmiyUyw6th3kvwY7fIDQaeo6wuk53aZgW\npcqX4rjPwheoZYzZ7TgBdXCtt1qlSqeI5jDwf3DP1+AbBF8OgknXwd4Vno5MqVIrv2TxDta42zld\nsJcpVbbV7wkPLYKbx8HJPTCpF3wx0KoQV0plk1+yiDbGrMs50xiTAES7LSKlSpKXN7QeCI+vgq4v\nwNZf4N12MGe4NSiTUgrIP1kE5LMssLgDUcqj/CpA12FW0mjVH5Z/CGNbWa2o0i56OjqlPC6/ZBEv\nIkNyzhSRvwHazacqnypFWMVSDy2GWu2sivB3Y2HtDGsUP6WuUPm1hqqONeRpCpeSQyzgB9xmd1de\namhrKOUW23+FX16Bg2uhenPo8S/rhj9tOaXKiSK3hjLGHDbGdARGALvsaYQxpkNpSxRKuU297jBk\nAdwxCVLOwfS/wtQ+sDfe05EpVaL0Dm6lXJWWYo2hsXAknEuCxn2sK42whp6OTKlCK84xuJVSAD5+\n0G4IPL4Gur0IOxZYPdvOesy6O1ypcsytyUJErheRzSKyTUSez2V5ZxFZJSJpItLXYX6UiKwUkTUi\nkigiD7kzTqUKxL+i1VXIE2uh3YOw5nNrDI2f/wUXTng6OqXcwm3JQkS8sQZJ6g00BfqLSNMcq+0B\nBgPTc8w/CHQ0xrQC2gPPi0hNd8WqVKFUqAa934THEqzuQhaPgTGtrL+pFzwdnVLFyp1XFu2AbcaY\nHcaYFGAGcIvjCsaYXfaNfxk55qcYYzIbt/u7OU6liiY0Gm6fAA/9AbXsoV3HtYFVn1hjhStVDrjz\nSzgS2OvwfJ89zyUiUltE1tn7GGmMuaxQWESGikiCiCQkJSUVOWCliiSiBdzzFQz6wbpfY9aj8EFH\n2PiDjtanyjx3JovcGqK7/Ikxxuy1u0GvDwyy7/vIuc4EY0ysMSY2LCysCKEqVYxiroUH5sOdn4DJ\ngJkDrI4Kdy/xdGRKFZo7k8U+rFH1MtUCCtxkxL6iSASuLaa4lHI/EWh6M/x9Gdw0Bk7thSm9Yfpd\ncHiDp6NTqsDcmSzigQYiEmOP4d0PmOXKhiJSS0QC7cehwDXAZrdFqpS7ePtAm8Hw2Cro+QrsXmoV\nTX37sNXTrVJlhNuShTEmDWvc7rnARuALY0yiiLwqIjcDiEhbEdkH/BUYLyKJ9uZNgOUishZYCLxt\njPnTXbEq5XZ+QdDpSXhiDXR8DNZ/bVWCz31Re7dVZYLewa2UJ5zaB7+9AWung19FuOZxiPu71fut\nUiVI7+BWqjQLqQW3vgcPL4Hoa+HXf1s39sVPgvRUT0en1GU0WSjlSeFNoP90uH8uVKkLPz4F77WH\nxG+1ua0qVTRZKFUa1ImD+36C/jPA2w++HAwfdYMdCz0dmVKAJgulSg8RaNQbHl4Mt34AZ5Pg45vh\nk9us8TSU8iAfTweglMrByxta3Q3Nbof4ifDH2zC+M1RvATVaQo2rrKl6c6tTQ6VKgLaGUqq0Sz4F\nKz6CPUutK4xzmV3bCFRrYCWOiMwk0hICQz0aripbXG0NpVcWSpV2ASHQ+RnrsTFw5pCVNDKn3Uvh\nzy8vrV856lLiqNHKenLOyL4AAA4CSURBVFwx3DOxq3JDk4VSZYkIBNewpkbXX5p/7hgcWps9iWx0\n6DChUo1LxVeZVyEhtXQsceUyTRZKlQcVqlrjhdfrfmle8ik4tD57Atk6z+rcECCwyqUEknkVEhoD\nXtruRV1Ok4VS5VVACERfY02ZUs7D4cTsVyFL34MM+0ZAv0rZK9EjWkK1hlYfV+qKpu8Apa4kfkFQ\nu601ZUpLgaSNDlcg6yBhCqTZo/35BFgtr2pcBTVbQZObtBL9CqStoZRSl8tIh6NbsxdhHVoHF0+D\nbwVoPRDiHobQKE9HqorI1dZQmiyUUq7JyLASxrIPYP1XVsusZrdavejWvNrT0alC0o4ElVLFy8vL\nKoa6fTw8sQ46PAJbf4YJXWFqH9jy/+3de5AV5ZnH8e9vhqvocJFZAuMFlcEIRC6aKCQmxjWYNZaE\nRMUYTbSym3VrBUKtlXUvVeu6JqW1JrAbSg2roibRXMyNdRNjRFRSGpSbCBguEZWLclFQE0UCPPvH\n2+P0TGbmDDAzzcz5faq6prvP2+c83fOeeebtt/vtX6WEYl2Sk4WZHbi+NTDxP2DGSph4I7z+Atx3\nCdw2HpZ+B/a+W3SE1sacLMzs4PXqm05DTX8WJs+Biu4w7xqY9QFY+A14Z2fREVobcbIws0NX2R1G\nT4GrF8IVP0tXT82/Ab45En75j7DzxaIjtEPkS2fNrO1IcNLH0/TqSnhqdhoM8ek5MGISTJgGNeOK\njtIOglsWZtY+3jcKJt+eOsMnTIX189MzOuZ+CtY85M7wTsbJwszaV98a+MQNMGMVTPxaOiV1/xS4\n9UxYei/8aXfREVorOFmYWcfoVQUTroHpy+Ez/wPdesC8qakz/In/hLdfLzpCa0G7JgtJn5S0RtJ6\nSdc18fpHJS2VtFfSRbn1YyQ9JWmVpBWSprRnnGbWgSq7w6mXwN8uhC/8PI1F9eiNMHMk/OKr7gw/\nTLXbHdySKoG1wCeATcAzwOciYnWuzFCgCrgWmBcRD2TrhwMREeskDQGWAKdExK7mPs93cJt1YltX\nwZOz03M5Yl/WGT4Vak4rOrIu73C4g/tDwPqIeCEi9gDfByblC0TEixGxAtjfaP3aiFiXzW8BtgHV\n7RirmRVp0EiYfBt8Jd8Zfg7MPR/W/NKd4YeB9kwWNcDG3PKmbN0BkfQhoAfw+yZe+7KkxZIWb9++\n/c83NrPOpWpIfWf4eV+HnS/B/ZfCrWfAknvcGV6g9kwWTT2C64DOeUkaDHwHuCoi/uxfi4iYExGn\nR8Tp1dVueJh1Gb2q0thT05fDZ+9Mw6T/7zSYNQoed2d4EdrzprxNwLG55WOALa3dWFIV8H/Av0bE\nb9s4NjPrDCq7wwcuglGfhQ1PwJPfggU3wuM3paf6DayFo4elBzQNrIWja9NTA63NtWeyeAaolXQC\nsBm4FLisNRtK6gH8FLg3In5UqryZdXESnPixNG1dnYZI37EWdqyH9Y/Avj31ZXsPqE8cA4dlP4dD\n/6Hpcl07KO36PAtJ5wOzgErgroj4mqQbgMURMU/SB0lJoT+wG3g1IkZKuhyYC6zKvd2VEbG8uc/y\n1VBmZWr/Ptj1Ukocr61LD23asS7N/2FrfTlVpoQxsDaXTOpaIwNTQipDfviRmdnuN+C19Q0TyI71\nad2+3DDqvfo1bI0MHJ7mB5wA3XoWF38HaG2y8ECCZtZ19eqb7tVofL/G/n3wxsZca2RtSiYvLIBn\n76svpwrod3yuT2RY1jIZDn2qy6o14mRhZuWnIjsl1X8o1J7b8LXdb6aWx3stkrVpfsPjsDd36W7P\nvlB9cnqkbM04GDIuJZOKrjmKkpOFmVler6r0x7/xUOr798Obm+o71l9blzrbl30Xnv52KtOzCgaP\nbphA+h3XJVogThZmZq1RUZH+8Pc7DoblWiP798H2NbBlKWxeCluWwaLb66/QOuLolDTqkseQsXDU\noGL24RA4WZiZHYqKShg0Ik1jL0/r9r6bxrvashQ2L0s/fz8f6u4trqpp2PoYMgZ69y9uH1rBycLM\nrK1161l/KuuD2bo9f4RXVuRaIEvhdw/WbzPgxIYtkMGnQo8+hYTfFCcLM7OO0KMPHD8+TXXe2ZlO\nW9Wdvnr5qXTDIaQrsapPyVogY1MCGTSqsBsLnSzMzIrSuz+cdE6a6ry1tWHrY80vYPl302uVPVLC\nqMn6PoaMS1dkVVS2e6i+Kc/M7HAWAbtebtiBvmU57Hkrvd69Dww/Dy6ee1Bv75vyzMy6Agn6H5+m\nkZPTuv37070fdQmk55HtHoaThZlZZ1NRAdXD0zT60o75yA75FDMz69ScLMzMrCQnCzMzK8nJwszM\nSnKyMDOzkpwszMysJCcLMzMrycnCzMxK6jLDfUjaDrxUdByHaCCwo+ggDiM+Hg35eNTzsWjoUI7H\n8RFRXapQl0kWXYGkxa0Zo6Vc+Hg05ONRz8eioY44Hj4NZWZmJTlZmJlZSU4Wh5c5RQdwmPHxaMjH\no56PRUPtfjzcZ2FmZiW5ZWFmZiU5WZiZWUlOFgWRdKykBZKel7RK0vRs/QBJv5a0LvvZv+hYO4qk\nSknLJD2YLZ8gaVF2LH4gqZgn1RdAUj9JD0j6XVZHxpd53ZiRfU9WSrpfUq9yqh+S7pK0TdLK3Lom\n64OS/5a0XtIKSePaIgYni+LsBf4hIk4BzgT+XtII4DpgfkTUAvOz5XIxHXg+t3wzMDM7FjuBLxUS\nVTH+C3goIt4PjCYdl7KsG5JqgGnA6RExCqgELqW86sfdwCcbrWuuPvwVUJtNXwZua4sAnCwKEhGv\nRMTSbP4t0h+DGmAScE9W7B7g08VE2LEkHQN8CrgjWxZwDvBAVqScjkUV8FHgToCI2BMRuyjTupHp\nBvSW1A04AniFMqofEfEE8Hqj1c3Vh0nAvZH8FugnafChxuBkcRiQNBQYCywCBkXEK5ASCvAXxUXW\noWYBXwX2Z8tHA7siYm+2vImUTMvBicB2YG52Wu4OSX0o07oREZuBW4CXSUniDWAJ5Vs/6jRXH2qA\njblybXJsnCwKJulI4MfAVyLizaLjKYKkC4BtEbEkv7qJouVynXc3YBxwW0SMBf5ImZxyakp2Ln4S\ncAIwBOhDOtXSWLnUj1La5bvjZFEgSd1JieJ7EfGTbPXWuiZj9nNbUfF1oA8DF0p6Efg+6fTCLFLz\nuVtW5hhgSzHhdbhNwKaIWJQtP0BKHuVYNwDOBTZExPaI+BPwE2AC5Vs/6jRXHzYBx+bKtcmxcbIo\nSHZO/k7g+Yj4Zu6lecAXs/kvAj/v6Ng6WkT8U0QcExFDSR2Xj0bE54EFwEVZsbI4FgAR8SqwUdLJ\n2aq/BFZThnUj8zJwpqQjsu9N3fEoy/qR01x9mAd8Ibsq6kzgjbrTVYfCd3AXRNJHgIXAc9Sfp/9n\nUr/FD4HjSF+SiyOiccdWlyXpbODaiLhA0omklsYAYBlweUS8W2R8HUXSGFJnfw/gBeAq0j93ZVk3\nJP07MIV0FeEy4K9J5+HLon5Iuh84mzQU+Vbg34Cf0UR9yBLqbNLVU28DV0XE4kOOwcnCzMxK8Wko\nMzMrycnCzMxKcrIwM7OSnCzMzKwkJwszMyvJycI6FUn/ko0+ukLScklnlCh/t6SLWirTzHZDJV3W\nwmv50T//RtLSxqPASrpe0uYszpWSLjzQONqCpDGSzs8tXyjpulyM1xYRl3UuThbWaUgaD1wAjIuI\nU0l39m5seauDNhRoMlk0iukKYCowMSJ2NlFkZkSMAS4G7pLUqu9c7s7ktjAGeC9ZRMS8iLipDd/f\nyoCThXUmg4EddTdeRcSOiNgCIOk0SY9LWiLpV02NstlcGUnDJD0i6dmshXAScBNwVtYqmNFUMJIu\nIY3ZNDEidrQUeEQ8T7qhbKCkakk/lvRMNn04e7/rJc2R9DBwr9LzPW6R9FzWkppaYj8ek3SzpKcl\nrZV0ltIzHm4ApmT7MkXSlZJmN7E/J0l6KHvfhZLe35pfipWJiPDkqVNMwJHAcmAtcCvwsWx9d+BJ\noDpbngLclc3fTRoSoqUyi4DJ2Xwv0hDYZwMPNhPHUOAt0lg8NS3Eez3pbnSAM0jj8wi4D/hItv44\n0pAvdeWXAL2z5b8jjR3WLVseUGI/HgO+kc2fDzySzV8JzM7F9d5yoxjnA7W5eB8t+nfu6fCZ2rKp\na9auIuIPkk4DzgI+DvwgO/e+GBgF/DqNdEAlaSjrvJObKiPpKNIf/J9mn7EbICvTku2k5wtcAsxs\nodwMSZeTksuUiAhJ5wIjcp9RlcUBMC8i3snmzwVuj2wY7khDOYwqsa91A1IuISW1VslGP54A/CgX\nV8/Wbm9dn5OFdSoRsY/0H/Rjkp4jDaC2BFgVEeNb2FRNlVF60NDBeJs0TPZvJG2LiO81U25mRNzS\naF0FMD6XFOpigTQceT7mxuPxNLkfOXVjI+3jwL7fFaTnQ4w5gG2sjLjPwjoNSSdLqs2tGgO8BKwB\nqrMOcCR1lzSy0eZNlon0DJFNkj6dre8p6QhSS+AoWhAR20mDtX1d0nkHsCsPA9fk9qu5P9APA1fX\ndXZLGtDKfW2sNfvyJrBB0sXZ+0rS6NbsjJUHJwvrTI4E7pG0WtIKYARwfUTsIfVL3CzpWVK/xoT8\nhiXKXAFMy97zSeB9wApgb9bp3WQHd/a+G4ALSVc6tXgZb8404PSs03o1cHUz5e4gjSa6Iov5stbs\naxMWkE57LZc0pYVynwe+lL3vKtIDh8wAjzprZmat4JaFmZmV5GRhZmYlOVmYmVlJThZmZlaSk4WZ\nmZXkZGFmZiU5WZiZWUn/D0bcHz35GYU4AAAAAElFTkSuQmCC\n",
      "text/plain": [
       "<matplotlib.figure.Figure at 0x1a2891f6d8>"
      ]
     },
     "metadata": {},
     "output_type": "display_data"
    },
    {
     "name": "stdout",
     "output_type": "stream",
     "text": [
      "Test error minimized at selected K-percentile = 80\n"
     ]
    }
   ],
   "source": [
    "percentile_range = [i for i in range(10,110,10)]\n",
    "plt.figure()\n",
    "plt.plot(percentile_range, svc_test_errors, label='Testing error')\n",
    "plt.plot(percentile_range, svc_training_errors, label='Training error')\n",
    "plt.xlabel('Select K Percentile')\n",
    "plt.ylabel('Classification error')\n",
    "plt.title('Linear SVM with K-percentile selected features')\n",
    "plt.legend(loc=0, shadow=True, fontsize='x-large')\n",
    "plt.show()\n",
    "\n",
    "val, idx = min((val, idx) for (idx, val) in enumerate(svc_test_errors))\n",
    "X_tr, X_tst, y_tr, y_tst = train_test_split(X_train, y_train, random_state=0, test_size=.25)print('Test error minimized at selected K-percentile = %d'%(percentile_range[idx]))"
   ]
  },
  {
   "cell_type": "code",
   "execution_count": 31,
   "metadata": {},
   "outputs": [
    {
     "ename": "TypeError",
     "evalue": "'Lars' object is not callable",
     "output_type": "error",
     "traceback": [
      "\u001b[0;31m---------------------------------------------------------------------------\u001b[0m",
      "\u001b[0;31mTypeError\u001b[0m                                 Traceback (most recent call last)",
      "\u001b[0;32m<ipython-input-31-9ac2e3406fc8>\u001b[0m in \u001b[0;36m<module>\u001b[0;34m()\u001b[0m\n\u001b[1;32m      6\u001b[0m \u001b[0;32mfor\u001b[0m \u001b[0mi\u001b[0m \u001b[0;32min\u001b[0m \u001b[0mrange\u001b[0m\u001b[0;34m(\u001b[0m\u001b[0;36m10\u001b[0m\u001b[0;34m,\u001b[0m\u001b[0;36m110\u001b[0m\u001b[0;34m,\u001b[0m\u001b[0;36m10\u001b[0m\u001b[0;34m)\u001b[0m\u001b[0;34m:\u001b[0m\u001b[0;34m\u001b[0m\u001b[0m\n\u001b[1;32m      7\u001b[0m \u001b[0;34m\u001b[0m\u001b[0m\n\u001b[0;32m----> 8\u001b[0;31m     \u001b[0mLars\u001b[0m \u001b[0;34m=\u001b[0m \u001b[0mLars\u001b[0m\u001b[0;34m(\u001b[0m\u001b[0mfit_intercept\u001b[0m\u001b[0;34m=\u001b[0m\u001b[0;32mTrue\u001b[0m\u001b[0;34m,\u001b[0m \u001b[0mverbose\u001b[0m\u001b[0;34m=\u001b[0m\u001b[0;32mFalse\u001b[0m\u001b[0;34m)\u001b[0m\u001b[0;34m\u001b[0m\u001b[0m\n\u001b[0m\u001b[1;32m      9\u001b[0m \u001b[0;34m\u001b[0m\u001b[0m\n\u001b[1;32m     10\u001b[0m \u001b[0;34m\u001b[0m\u001b[0m\n",
      "\u001b[0;31mTypeError\u001b[0m: 'Lars' object is not callable"
     ]
    }
   ],
   "source": [
    "X_tr, X_tst, y_tr, y_tst = train_test_split(X_train, y_train, random_state=0, test_size=.25)\n",
    "training_errors = []\n",
    "\n",
    "test_errors = []\n",
    "\n",
    "for i in range(10,110,10):\n",
    "    \n",
    "    Lars = Lars(fit_intercept=True, verbose=False)\n",
    "\n",
    "    \n",
    "    \n",
    "    \n",
    "\n",
    "    select = SelectPercentile(percentile=i)\n",
    "    select.fit(X_tr, y_tr)\n",
    "    X_train_selected = select.transform(X_tr)\n",
    "    Lars.fit(X_train_selected, y_tr)\n",
    "    \n",
    "    \n",
    "    y_pred = np.sign(Lars.predict(X_train_selected))\n",
    "    binarytrain_error = (y_pred!=y_tr).sum()\n",
    "    training_errors.append(binarytrain_error/15000)\n",
    "    \n",
    "    X_test_selected = select.transform(X_tst)\n",
    "\n",
    "    y_test_prediction = np.sign(Lars.predict(X_test_selected))\n",
    "    binarytest_error = (y_test_prediction!=y_tst).sum()\n",
    "\n",
    "\n",
    "    \n",
    "    test_errors.append(binarytest_error/5000)"
   ]
  },
  {
   "cell_type": "code",
   "execution_count": null,
   "metadata": {
    "collapsed": true
   },
   "outputs": [],
   "source": []
  }
 ],
 "metadata": {
  "kernelspec": {
   "display_name": "Python 3",
   "language": "python",
   "name": "python3"
  },
  "language_info": {
   "codemirror_mode": {
    "name": "ipython",
    "version": 3
   },
   "file_extension": ".py",
   "mimetype": "text/x-python",
   "name": "python",
   "nbconvert_exporter": "python",
   "pygments_lexer": "ipython3",
   "version": "3.6.0"
  }
 },
 "nbformat": 4,
 "nbformat_minor": 2
}
